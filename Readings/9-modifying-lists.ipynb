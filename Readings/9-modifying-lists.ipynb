{
 "cells": [
  {
   "cell_type": "markdown",
   "id": "f2c93fba-110c-47bc-b42b-bc6f4cd63e7b",
   "metadata": {},
   "source": [
    "\n",
    "<h1><span style=\"font-size: 2em; color: navy; font-weight: bold;\">Modifying Lists</span></h1>\n",
    "<hr>\n",
    "\n",
    "\n",
    "Python `lists` are **mutable**, which means that their values can be changed or updated after creation. We've seen that elements can be added or appended to the end of a `list`. Additionally, elements of a `list` can be removed. \n",
    "\n",
    "However, we'll sometimes need to update existing data to correct errors or to accommodate dynamic changes. In this section, we'll focus on modifying existing data by indexing to overwrite current elements of a `list`. \n",
    "\n",
    "# Indexing\n",
    "\n",
    "Recall that the values of a `list` can be accessed via an element's **index**. This process, known as **indexing** can be used to display elements of a `list`, as we have previously seen. \n",
    "\n",
    "**Indexing** also allows us to modify *existing* elements of a list. \n",
    "\n",
    "**Reminders**\n",
    "* The first element of a `list` is at index `0`\n",
    "* The last element of a `list` is at index $n - 1$, where $n$ is the length of the list\n",
    "* An element outside of a `list's` range **CANNOT** be accessed\n",
    "\n",
    "# Modifying List Elements\n",
    "To modify an element of a `list`, we simply access it using its index and *assign* it a desired value. That is, \n",
    "\n",
    "```Python\n",
    "list[index] = new_value \n",
    "```\n",
    "\n",
    "## Example\n",
    "\n",
    "```Python\n",
    "# Original list\n",
    "fruits = [\"apple\", \"banana\", \"cherry\"]\n",
    "print(fruits)\n",
    "\n",
    "# Update apple to blueberry\n",
    "fruits[0] = \"blueberry\"\n",
    "print(fruits)\n",
    "```\n",
    "\n",
    "Try updating the second and third (last) element of the `list`!\n",
    "\n",
    "# Out of Range Index\n",
    "\n",
    "Since **indexing** elements of a `list` requires it to exist, we **CANNOT** access (and thus, cannot modify) an index outside the range of a `list`. \n",
    "\n",
    "## Example\n",
    "```Python\n",
    "fruits = [\"blueberry\"] \n",
    "\n",
    "# Error \n",
    "fruits[1] = \"banana\"\n",
    "```\n",
    "\n",
    "To avoid this, remember the range of *any* `list` is from 0 to $n-1$, inclusive. \n",
    "\n",
    "## Try it!\n",
    "\n",
    "Create a list of three colors and replace the second color with a new one."
   ]
  },
  {
   "cell_type": "code",
   "execution_count": 1,
   "id": "e99bf694-d196-4ba8-82dd-7a113a08735a",
   "metadata": {},
   "outputs": [],
   "source": [
    "# 👇👇 Place your code below this line 👇👇\n",
    "# run it by typing `ctrl + enter-key' on your keyboard"
   ]
  },
  {
   "cell_type": "markdown",
   "id": "c0905ed8-2b08-403e-bc1c-812ea7991dc7",
   "metadata": {},
   "source": [
    "## Try it!\n",
    "\n",
    "Create a list of integers provided as input. Print the List to see it's contents.\n",
    "\n",
    "Use a while loop to iterate over the List and replace any value less than 10 with a `0`.\n",
    "\n",
    "Print the List to verify."
   ]
  },
  {
   "cell_type": "code",
   "execution_count": 2,
   "id": "0ab9bdd4-c2f4-4968-9ec0-41366932fb11",
   "metadata": {},
   "outputs": [],
   "source": [
    "# 👇👇 Place your code below this line 👇👇\n",
    "# run it by typing `ctrl + enter-key' on your keyboard"
   ]
  }
 ],
 "metadata": {
  "kernelspec": {
   "display_name": "Python 3 (ipykernel)",
   "language": "python",
   "name": "python3"
  },
  "language_info": {
   "codemirror_mode": {
    "name": "ipython",
    "version": 3
   },
   "file_extension": ".py",
   "mimetype": "text/x-python",
   "name": "python",
   "nbconvert_exporter": "python",
   "pygments_lexer": "ipython3",
   "version": "3.12.5"
  }
 },
 "nbformat": 4,
 "nbformat_minor": 5
}
