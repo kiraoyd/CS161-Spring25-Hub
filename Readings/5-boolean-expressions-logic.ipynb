{
 "cells": [
  {
   "cell_type": "markdown",
   "id": "ecce24f3-8648-42df-83ff-65a643b2fba7",
   "metadata": {},
   "source": [
    "<h1><span style=\"font-size: 2em; color: orange; font-weight: bold;\">Boolean Expressions and Logic</span></h1>\n",
    "<hr>\n",
    "\n",
    "---\n",
    "\n",
    "Sometimes we want some code to run only if a certain **condition** is met. \n",
    "\n",
    "\n",
    "We make decisions based on **conditions** all the time in real life:\n",
    "\n",
    "- If its raining, grab an umbrella. \n",
    "\n",
    "- If I'm tired, go to bed.\n",
    "\n",
    "- If I'm hungry, order some noodles.\n",
    "\n",
    "- If I'm hungry and tired, don't make any big life decisions.\n",
    "\n",
    "In any of these cases, if the condition evaluates to **True**, we **do** the action:\n",
    "\n",
    "* It's raining --> grab an umbrella.\n",
    "\n",
    "* I am tired --> go to bed.\n",
    "\n",
    "\n",
    "And if the condition evaluates to **False**, we **don't** do the action:\n",
    "\n",
    "* It's NOT raining --> don't grab an umbrella.\n",
    "\n",
    "* I am NOT tired --> don't go to bed.\n",
    "\n",
    "\n",
    "In this chapter, we are going to learn how to work with **boolean expressions**: conditional statements that evaluate to either True or False,.\n",
    "\n",
    "We will use these in our code to help the computer make decisions within the program and control the flow of the program.\n",
    "\n",
    "**We'll start by exploring how to set up a True or False conditional statement, and learning a little bit about logic.**\n",
    "\n",
    "----------\n",
    "# Boolean Operators\n",
    "\n",
    "**Boolean operators** are operators that compare values or expressions and return either `True` or `False`. Boolean operators include both **comparison operators** and **logical operators**. \n",
    "\n",
    "## Comparison Operators\n",
    "\n",
    "| Operator | Symbol | Description                           |\n",
    "|----------|--------|---------------------------------------|\n",
    "| Equal    | `==`   | Returns `True` if both operands are equal |\n",
    "| Not Equal| `!=`   | Returns `True` if operands are not equal |\n",
    "| Greater Than | `>` | Returns `True` if the left operand is greater than the right operand |\n",
    "| Less Than | `<`   | Returns `True` if the left operand is less than the right operand |\n",
    "| Greater Than or Equal | `>=` | Returns `True` if the left operand is greater than or equal to the right operand |\n",
    "| Less Than or Equal | `<=` | Returns `True` if the left operand is less than or equal to the right operand |\n",
    "\n",
    "## Logical Operators\n",
    "\n",
    "| Operator | Symbol | Description                             |\n",
    "|----------|--------|-----------------------------------------|\n",
    "| AND      | `and`  | Returns `True` if both operands are true |\n",
    "| OR       | `or`   | Returns `True` if at least one operand is true |\n",
    "| NOT      | `not`  | Returns `True` if the operand is `False` and `False` if the operand is `True`   |\n",
    "\n",
    "----------\n",
    "### Equal To\n",
    "\n",
    "The `==` operator is used to determine equality. Remember, the **assignment operator** is denoted by `=`, which is **NOT** the same as the **equal operator**, which is denoted by `==`.\n",
    "\n",
    "**Enter the following code into the Code Cell below, run it by typing ctrl + enter-key on your keyboard:**\n",
    "\n",
    "```Python\n",
    "a = 5\n",
    "b = 5\n",
    "print(a == b)\n",
    "```\n",
    "\n",
    "\n",
    "\n",
    "\n",
    "\n",
    "\n"
   ]
  },
  {
   "cell_type": "code",
   "execution_count": 1,
   "id": "a9c450c7-eb20-4979-be0a-cf35ca584038",
   "metadata": {},
   "outputs": [],
   "source": [
    "# 👇👇 Place your code below this line 👇👇\n",
    "# run it by typing `ctrl + enter-key' on your keyboard\n"
   ]
  },
  {
   "cell_type": "markdown",
   "id": "5d5c79dd-86bf-4856-b07f-cb40a192c261",
   "metadata": {},
   "source": [
    "<div style=\"background-color: #F8F8F8; border: 4px solid #FFD54F; padding: 10px; border-radius: 5px;\">\n",
    "\n",
    "### What happens if you...\n",
    "\n",
    "* Change `b` to `1`?\n",
    "* Change `a` to `True` and `b` to `1`?\n",
    "* Change `a` to `True` and `b` to `False`?\n",
    "\n"
   ]
  },
  {
   "cell_type": "code",
   "execution_count": 2,
   "id": "0331769a-b526-4d52-a43a-36202fc96f62",
   "metadata": {},
   "outputs": [],
   "source": [
    "# 👇👇 Place your code below this line 👇👇\n",
    "# run it by typing `ctrl + enter-key' on your keyboard\n"
   ]
  },
  {
   "cell_type": "markdown",
   "id": "f509b284-9915-4f51-8289-959aeca800d0",
   "metadata": {},
   "source": [
    "## Not Equal To\n",
    "\n",
    "The `!=` operator checks to see if two values are not equal.\n",
    "\n",
    "**Enter the following code into the Code Cell below, run it by typing ctrl + enter-key on your keyboard:**\n",
    "\n",
    "```python\n",
    "a = 5\n",
    "b = 5\n",
    "print(a != b)\n",
    "```"
   ]
  },
  {
   "cell_type": "code",
   "execution_count": 3,
   "id": "a5508b91-1905-4bcc-a744-d99a87335838",
   "metadata": {},
   "outputs": [],
   "source": [
    "# 👇👇 Place your code below this line 👇👇\n",
    "# run it by typing `ctrl + enter-key' on your keyboard"
   ]
  },
  {
   "cell_type": "markdown",
   "id": "a3f33b5a-0e26-454c-bae8-a8d9f5f27fa2",
   "metadata": {},
   "source": [
    "<div style=\"background-color: #F8F8F8; border: 4px solid #FFD54F; padding: 10px; border-radius: 5px;\">\n",
    "    \n",
    "### What happens if you...\n",
    "* Change `b` to `1`?\n",
    "* Change `a` to `True` and `b` to `1`?\n",
    "* Change `a` to `True` and `b` to `False`?"
   ]
  },
  {
   "cell_type": "code",
   "execution_count": 4,
   "id": "f869b0fa-910d-4008-84a2-488fb499ac87",
   "metadata": {},
   "outputs": [],
   "source": [
    "# 👇👇 Place your code below this line 👇👇\n",
    "# run it by typing `ctrl + enter-key' on your keyboard"
   ]
  },
  {
   "cell_type": "markdown",
   "id": "a76520ba-aad1-43e9-831b-77ba71720619",
   "metadata": {},
   "source": [
    "----------\n",
    "\n",
    "## Less Than\n",
    "\n",
    "The `<` operator is used to check if one value is strictly less than another value.\n",
    "\n",
    "**Enter the following code into the Code Cell below, run it by typing ctrl + enter-key on your keyboard:**\n",
    "\n",
    "```python\n",
    "a = 5\n",
    "b = 7\n",
    "print(a < b)\n",
    "```"
   ]
  },
  {
   "cell_type": "code",
   "execution_count": 5,
   "id": "26b43589-eeaf-4c8a-ac3d-2f201d4ec497",
   "metadata": {},
   "outputs": [],
   "source": [
    "# 👇👇 Place your code below this line 👇👇\n",
    "# run it by typing `ctrl + enter-key' on your keyboard"
   ]
  },
  {
   "cell_type": "markdown",
   "id": "4f6f43d0-631e-4ebe-9488-81cff4911ad0",
   "metadata": {},
   "source": [
    "<div style=\"background-color: #F8F8F8; border: 4px solid #FFD54F; padding: 10px; border-radius: 5px;\">\n",
    "    \n",
    "### What happens if you...\n",
    "* Change `b` to `1`?\n",
    "* Change `b` to `5`?\n",
    "* Change `b` to `False`?"
   ]
  },
  {
   "cell_type": "code",
   "execution_count": 6,
   "id": "bdeb6013-87cb-42c2-bfe2-9cfe051f1daf",
   "metadata": {},
   "outputs": [],
   "source": [
    "# 👇👇 Place your code below this line 👇👇\n",
    "# run it by typing `ctrl + enter-key' on your keyboard"
   ]
  },
  {
   "cell_type": "markdown",
   "id": "5f48fa25-fa78-4c6c-bf63-15bdb9b2a2bf",
   "metadata": {},
   "source": [
    "## Less Than or Equal To\n",
    "\n",
    "The `<=` operator is used to check if one value is less than or equal to another value.\n",
    "\n",
    "**Enter the following code into the Code Cell below, run it by typing ctrl + enter-key on your keyboard:**\n",
    "\n",
    "```python\n",
    "a = 5\n",
    "b = 7\n",
    "print(a <= b)\n",
    "```"
   ]
  },
  {
   "cell_type": "code",
   "execution_count": 7,
   "id": "56dc1079-5218-4c59-9377-ebc54f1bc94a",
   "metadata": {},
   "outputs": [],
   "source": [
    "# 👇👇 Place your code below this line 👇👇\n",
    "# run it by typing `ctrl + enter-key' on your keyboard"
   ]
  },
  {
   "cell_type": "markdown",
   "id": "e8e58b58-72f1-49c2-9624-5bdce0b161a2",
   "metadata": {},
   "source": [
    "<div style=\"background-color: #F8F8F8; border: 4px solid #FFD54F; padding: 10px; border-radius: 5px;\">\n",
    "    \n",
    "\n",
    "### What happens if you...\n",
    "* Change `b` to `1`?\n",
    "* Change `b` to `5`?\n",
    "* Change `a` to `False` and `b` to `True`?"
   ]
  },
  {
   "cell_type": "code",
   "execution_count": 8,
   "id": "8f436001-769d-4f9c-a74a-d861e30cdac8",
   "metadata": {},
   "outputs": [],
   "source": [
    "# 👇👇 Place your code below this line 👇👇\n",
    "# run it by typing `ctrl + enter-key' on your keyboard"
   ]
  },
  {
   "cell_type": "markdown",
   "id": "aeef07e5-85f8-4762-97bf-035aeb51a62d",
   "metadata": {},
   "source": [
    "----------\n",
    "\n",
    "## Greater Than\n",
    "\n",
    "The `>` operator is used to check if one value is strictly greater than another value.\n",
    "\n",
    "**Enter the following code into the Code Cell below, run it by typing ctrl + enter-key on your keyboard:**\n",
    "\n",
    "```python\n",
    "a = 9\n",
    "b = 17\n",
    "print(a > b)\n",
    "```\n"
   ]
  },
  {
   "cell_type": "code",
   "execution_count": 9,
   "id": "2c9619eb-c03a-40c8-a00f-17c9a4525bf0",
   "metadata": {},
   "outputs": [],
   "source": [
    "# 👇👇 Place your code below this line 👇👇\n",
    "# run it by typing `ctrl + enter-key' on your keyboard"
   ]
  },
  {
   "cell_type": "markdown",
   "id": "57bb4273-b7b8-44b8-afd7-114f0f304b57",
   "metadata": {},
   "source": [
    "<div style=\"background-color: #F8F8F8; border: 4px solid #FFD54F; padding: 10px; border-radius: 5px;\">\n",
    "    \n",
    "### What happens if you...\n",
    "* Change `b` to `1`?\n",
    "* Change `b` to `9`?\n",
    "* Change `b` to `False`?"
   ]
  },
  {
   "cell_type": "code",
   "execution_count": 10,
   "id": "f714dd54-925a-4ae1-b629-0db89da9b328",
   "metadata": {},
   "outputs": [],
   "source": [
    "# 👇👇 Place your code below this line 👇👇\n",
    "# run it by typing `ctrl + enter-key' on your keyboard"
   ]
  },
  {
   "cell_type": "markdown",
   "id": "2c1ae94f-ee3c-46c1-a18e-6009de165465",
   "metadata": {},
   "source": [
    "## Greater Than or Equal To\n",
    "\n",
    "The `>=` operator is used to check if one value is greater than or equal to another value.\n",
    "\n",
    "**Enter the following code into the Code Cell below, run it by typing ctrl + enter-key on your keyboard:**\n",
    "\n",
    "```python\n",
    "a = 9\n",
    "b = 17\n",
    "print(a >= b)\n",
    "```"
   ]
  },
  {
   "cell_type": "code",
   "execution_count": 11,
   "id": "8c8e735d-c4f2-4783-b0d5-a487ea7bdca4",
   "metadata": {},
   "outputs": [],
   "source": [
    "# 👇👇 Place your code below this line 👇👇\n",
    "# run it by typing `ctrl + enter-key' on your keyboard"
   ]
  },
  {
   "cell_type": "markdown",
   "id": "7d4603d1-63e8-4b75-9abf-e2d0107c8312",
   "metadata": {},
   "source": [
    "<div style=\"background-color: #F8F8F8; border: 4px solid #FFD54F; padding: 10px; border-radius: 5px;\">\n",
    "\n",
    "### What happens if you...\n",
    "* Change `b` to `1`?\n",
    "* Change `b` to `9`?\n",
    "* Change `a` to `True` and `b` to `False`?"
   ]
  },
  {
   "cell_type": "code",
   "execution_count": 12,
   "id": "0e06061b-fc5a-4b1c-adbd-7a94f0a5c446",
   "metadata": {},
   "outputs": [],
   "source": [
    "# 👇👇 Place your code below this line 👇👇\n",
    "# run it by typing `ctrl + enter-key' on your keyboard"
   ]
  },
  {
   "cell_type": "markdown",
   "id": "12f0fb08-dc4c-4709-8823-2b6a4470a6ed",
   "metadata": {},
   "source": [
    "# The Logical Operators\n",
    "\n",
    "----------\n",
    "## and\n",
    "The `and` operator compares multiple boolean expressions. All boolean expressions **must** be `True` in order for the `and` operator to return `True`.  If only one boolean expressions is `False`, then the whole thing is `False`.\n",
    "\n",
    "**Enter the following code into the Code Cell below, run it by typing ctrl + enter-key on your keyboard:**\n",
    "\n",
    "```python\n",
    "a = True\n",
    "b = True\n",
    "c = False\n",
    "print(a and b)\n",
    "```"
   ]
  },
  {
   "cell_type": "code",
   "execution_count": 13,
   "id": "67134619-a7f0-47f9-b8a5-e484fddd5422",
   "metadata": {},
   "outputs": [],
   "source": [
    "# 👇👇 Place your code below this line 👇👇\n",
    "# run it by typing `ctrl + enter-key' on your keyboard"
   ]
  },
  {
   "cell_type": "markdown",
   "id": "64196bed-7fe3-4952-9ff8-8ab0897a1109",
   "metadata": {},
   "source": [
    "<div style=\"background-color: #F8F8F8; border: 4px solid #FFD54F; padding: 10px; border-radius: 5px;\">\n",
    "\n",
    "### What happens if you:\n",
    "* Change `print` to `print(a and c)`?\n",
    "* Change `print` to `print(c and b)`?"
   ]
  },
  {
   "cell_type": "code",
   "execution_count": 14,
   "id": "f85b5896-665d-4e8c-8823-a171b021a672",
   "metadata": {},
   "outputs": [],
   "source": [
    "# 👇👇 Place your code below this line 👇👇\n",
    "# run it by typing `ctrl + enter-key' on your keyboard"
   ]
  },
  {
   "cell_type": "markdown",
   "id": "825c4373-80e9-4fcd-aee7-da815891b44d",
   "metadata": {},
   "source": [
    "## Multiple `and` Statements\n",
    "\n",
    "You can chain multiple `and` statements together. They are evaluated in a left-to-right manner.\n",
    "\n",
    "**Enter the following code into the Code Cell below, run it by typing ctrl + enter-key on your keyboard:**\n",
    "\n",
    "```python\n",
    "a = True\n",
    "b = True\n",
    "c = False\n",
    "print(a and b and c)\n",
    "```"
   ]
  },
  {
   "cell_type": "code",
   "execution_count": 15,
   "id": "bc976aa9-1495-4c38-9cb2-dcc6cedc347d",
   "metadata": {},
   "outputs": [],
   "source": [
    "# 👇👇 Place your code below this line 👇👇\n",
    "# run it by typing `ctrl + enter-key' on your keyboard"
   ]
  },
  {
   "cell_type": "markdown",
   "id": "cdb233ef-1660-43ea-a9ee-8c166da3c5b1",
   "metadata": {},
   "source": [
    "<div style=\"background-color: #F8F8F8; border: 4px solid #FFD54F; padding: 10px; border-radius: 5px;\">\n",
    "\n",
    "\n",
    "### What happens if you...\n",
    "* Change `print` to `print(a and b and a and b and a)`?\n",
    "* Change `print` to `print(a and b and a and b and c)`?"
   ]
  },
  {
   "cell_type": "code",
   "execution_count": 16,
   "id": "dd502ff8-891f-46a5-a50c-1a93eebd930a",
   "metadata": {},
   "outputs": [],
   "source": [
    "# 👇👇 Place your code below this line 👇👇\n",
    "# run it by typing `ctrl + enter-key' on your keyboard"
   ]
  },
  {
   "cell_type": "markdown",
   "id": "6a1a42e6-d0ab-4765-b7f1-761ecd7b0bd6",
   "metadata": {},
   "source": [
    "----------\n",
    "## or\n",
    "The `or` operator compares multiple boolean expressions. If at least one boolean expressions is `True`, then the whole thing is `True`.  In order for `or` to return `False`, all boolean expressions **must** be `False`.\n",
    "\n",
    "**Enter the following code into the Code Cell below, run it by typing ctrl + enter-key on your keyboard:**\n",
    "\n",
    "```python\n",
    "a = True\n",
    "b = True\n",
    "c = False\n",
    "d = False\n",
    "print(a or b)\n",
    "```"
   ]
  },
  {
   "cell_type": "code",
   "execution_count": 17,
   "id": "1fd98c4e-e56a-4985-a4ca-9d81d331b9c0",
   "metadata": {},
   "outputs": [],
   "source": [
    "# 👇👇 Place your code below this line 👇👇\n",
    "# run it by typing `ctrl + enter-key' on your keyboard"
   ]
  },
  {
   "cell_type": "markdown",
   "id": "4045bb3c-7e62-4d49-8d10-197e4ef54a96",
   "metadata": {},
   "source": [
    "<div style=\"background-color: #F8F8F8; border: 4px solid #FFD54F; padding: 10px; border-radius: 5px;\">\n",
    "    \n",
    "### What happens if you...\n",
    "* Change `print` to `print(a or c)`?\n",
    "* Change `print` to `print(c or d)`?"
   ]
  },
  {
   "cell_type": "code",
   "execution_count": 18,
   "id": "733ce205-6663-4963-ae31-984bc4200458",
   "metadata": {},
   "outputs": [],
   "source": [
    "# 👇👇 Place your code below this line 👇👇\n",
    "# run it by typing `ctrl + enter-key' on your keyboard"
   ]
  },
  {
   "cell_type": "markdown",
   "id": "e4f3ed86-34a7-4226-98ce-891f0f3b45f0",
   "metadata": {},
   "source": [
    "## Multiple `or` Statements\n",
    "\n",
    "You can chain multiple `or` statements together. They are evaluated in a left-to-right manner.\n",
    "\n",
    "**Enter the following code into the Code Cell below, run it by typing ctrl + enter-key on your keyboard:**\n",
    "\n",
    "```python\n",
    "a = True\n",
    "b = True\n",
    "c = False\n",
    "print(a or b or c)\n",
    "```"
   ]
  },
  {
   "cell_type": "code",
   "execution_count": 19,
   "id": "56fe247b-d26c-4278-8bd5-1fd55d22a5d6",
   "metadata": {},
   "outputs": [],
   "source": [
    "# 👇👇 Place your code below this line 👇👇\n",
    "# run it by typing `ctrl + enter-key' on your keyboard"
   ]
  },
  {
   "cell_type": "markdown",
   "id": "0ba96bf6-f918-40d3-a8f0-ca652dbcb4da",
   "metadata": {},
   "source": [
    "<div style=\"background-color: #F8F8F8; border: 4px solid #FFD54F; padding: 10px; border-radius: 5px;\">\n",
    "    \n",
    "### What happens if you...\n",
    "* Change `print` to `print(a or c or c or c or c)`?\n",
    "* Change `print` to `print(c and c and c and c and c)`?"
   ]
  },
  {
   "cell_type": "code",
   "execution_count": 20,
   "id": "060d1b46-b7e2-434c-ae6b-224c5f41342d",
   "metadata": {},
   "outputs": [],
   "source": [
    "# 👇👇 Place your code below this line 👇👇\n",
    "# run it by typing `ctrl + enter-key' on your keyboard"
   ]
  },
  {
   "cell_type": "markdown",
   "id": "0b42ba76-2a19-4d96-912e-79b687f67436",
   "metadata": {},
   "source": [
    "----------\n",
    "## not\n",
    "The `not` operator returns the opposite of the boolean expression being modified.\n",
    "\n",
    "**Enter the following code into the Code Cell below, run it by typing ctrl + enter-key on your keyboard:**\n",
    "\n",
    "```python\n",
    "print(not True)\n",
    "print(not False)\n",
    "```"
   ]
  },
  {
   "cell_type": "code",
   "execution_count": 21,
   "id": "3a5bd31c-e7d3-42b4-875d-9daea4425c3e",
   "metadata": {},
   "outputs": [],
   "source": [
    "# 👇👇 Place your code below this line 👇👇\n",
    "# run it by typing `ctrl + enter-key' on your keyboard"
   ]
  },
  {
   "cell_type": "markdown",
   "id": "dfe23448-7f27-483d-9484-2722f59ab39b",
   "metadata": {},
   "source": [
    "<div style=\"background-color: #F8F8F8; border: 4px solid #FFD54F; padding: 10px; border-radius: 5px;\">\n",
    "\n",
    "### What happens if you...\n",
    "* Change `print` to `print(not True and False)`?\n",
    "* Change `print` to `print(not (True and False))`?\n",
    "* Change `print` to `print(not not True)`?"
   ]
  },
  {
   "cell_type": "code",
   "execution_count": 22,
   "id": "af03ff87-238e-4023-ae58-b32f0fe3c3db",
   "metadata": {},
   "outputs": [],
   "source": [
    "# 👇👇 Place your code below this line 👇👇\n",
    "# run it by typing `ctrl + enter-key' on your keyboard"
   ]
  },
  {
   "cell_type": "markdown",
   "id": "5220e8da-d064-42df-b5d5-65dd7b082035",
   "metadata": {},
   "source": [
    "----------\n",
    "## De Morgan's Law\n",
    "\n",
    "De Morgan's Laws help us understand how negations impact `and` and `or` operations. These laws simplify complex logical statements by breaking down how conditions are negated. These laws are crucial in fields like computer science, mathematics, and logic.\n",
    "\n",
    "De Morgan’s Laws state the following equivalences: \n",
    "\n",
    "![DeMorgans 1](../images/demorgans1.png)\n",
    "\n",
    "## Relational operators\n",
    "You can also simplify negated boolean expressions with **relational operators** like `<`, `>`, and `==`. You can move the negation inside the parentheses by flipping the relational operator to its opposite sign. \n",
    "\n",
    "![DeMorgans 1](../images/demorgans1.png)\n",
    "\n",
    "### Real World Example\n",
    "\n",
    "In Oregon, you can vote if you are 18 **and** if you are an Oregon resident. \n",
    "\n",
    "`(age >= 18) and (resident == Oregon)`\n",
    "\n",
    "Who cannot vote?\n",
    "\n",
    "`not ((age >= 18) and (resident == Oregon))`\n",
    "\n",
    "Simplify using De Morgan's laws by distributing the not and changing the AND to an OR:\n",
    "\n",
    "`not (age >= 18) or not (resident == Oregon)`\n",
    "\n",
    "Keep simplifying:\n",
    "\n",
    "`(age < 18) or (resident != Oregon)`\n",
    "\n",
    "You cannot vote if you are under 18 OR you are not an Oregeon resident!"
   ]
  }
 ],
 "metadata": {
  "kernelspec": {
   "display_name": "Python 3 (ipykernel)",
   "language": "python",
   "name": "python3"
  },
  "language_info": {
   "codemirror_mode": {
    "name": "ipython",
    "version": 3
   },
   "file_extension": ".py",
   "mimetype": "text/x-python",
   "name": "python",
   "nbconvert_exporter": "python",
   "pygments_lexer": "ipython3",
   "version": "3.12.5"
  }
 },
 "nbformat": 4,
 "nbformat_minor": 5
}
