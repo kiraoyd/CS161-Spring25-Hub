{
 "nbformat": 4,
 "nbformat_minor": 0,
 "metadata": {
  "colab": {
   "provenance": [],
   "toc_visible": true
  },
  "kernelspec": {
   "name": "python3",
   "display_name": "Python 3 (ipykernel)",
   "language": "python"
  },
  "language_info": {
   "name": "python"
  }
 },
 "cells": [
  {
   "metadata": {},
   "cell_type": "markdown",
   "source": [
    "<div style=\"\n",
    "    background-color: #f8f8f8;\n",
    "    border-left: 5px solid #6c63ff;\n",
    "    padding: 15px;\n",
    "    margin: 20px 0;\n",
    "    border-radius: 5px;\n",
    "    box-shadow: 2px 2px 5px rgba(0, 0, 0, 0.1);\n",
    "\">\n",
    "    <h1 style=\"\n",
    "        font-size: 2.5em; /* Adjust size as needed */\n",
    "        font-weight: bold;\n",
    "        margin-bottom: 10px; /* Space between heading and paragraphs */\n",
    "    \">\n",
    "        Chapter 1.1: Foundations of Computation\n",
    "    </h1>\n",
    "</div>\n",
    "\n",
    "\n",
    "## Defining the Computer\n",
    "\n",
    "---\n",
    "\n",
    "A **computer** is fundamentally a programmable device capable of performing computations based on a set of instructions, or a *program*. This device processes data—ranging from numbers and text to images and complex information—according to these instructions. Computers excel at storing, retrieving, and manipulating data, executing complex operations with remarkable speed and accuracy. Modern computers manifest in diverse forms, including personal computers, laptops, servers, and specialized devices, playing pivotal roles across science, engineering, business, and entertainment.\n",
    "\n",
    "![Computer Illustration](../images/modern_computer.png)\n",
    "\n",
    "However, the essence of a computer extends beyond electronics. Historically, the term \"computer\" referred to individuals, often women, who performed complex calculations. The \"Harvard Computers,\" for instance, were employed to conduct astronomical computations. Thus, \"computer\" was once a professional title.\n",
    "\n",
    "![Historical Computer](../images/computer.jpg)\n",
    "\n",
    "While contemporary computers are electronic, the concept is broader. Computers can be constructed using light, DNA, or even mechanical systems like TinkerToys. At their core, all computers manipulate data according to a set of instructions.\n",
    "\n",
    "\n",
    "## The Theoretical Underpinning: Turing's Machine\n",
    "---\n",
    "\n",
    "The theoretical foundation of modern computing traces back to 1936, predating the advent of electronic computers. Alan Turing, a visionary mathematician, sought to address a fundamental question: \"What are the limits of mathematics? What can be computed, and what truths are beyond computation?\" Turing conceived a theoretical device, the *Turing Machine*, which provided a definitive answer: any problem that can be mathematically computed can be programmed on a Turing Machine.\n",
    "\n",
    "![Alan Turing](../images/turing.jpg)\n",
    "\n",
    "\n",
    "\n",
    "## The Equivalence of Computational Power\n",
    "---\n",
    "\n",
    "Although modern computers differ in architecture from Turing's machine, they are mathematically equivalent. This equivalence implies that any computable problem can be programmed on any modern computer. From the microcontrollers in microwaves to high-performance supercomputers, all computers share the same fundamental computational abilities.\n",
    "\n",
    "![Turing Machine Simulation](../images/turing_machine.gif)\n",
    "\n",
    "This principle has profound implications. It means any program can, in theory, run on any computer, albeit with varying degrees of implementation complexity. However, it also underscores that not all problems are computationally solvable. Turing's work demonstrated the existence of problems that are fundamentally beyond the reach of any computer.\n",
    "\n",
    "Turing's machine operated on the principle of manipulating symbols on a tape, devoid of inherent knowledge of numbers. Similarly, electronic computers operate on patterns of electrical voltages (e.g., binary representations). While we interact with computers at a higher level, utilizing pre-programmed mathematical operations and functionalities, the underlying mechanism remains symbol manipulation.\n",
    "\n",
    "In essence, despite the apparent sophistication of modern computing, all computers, regardless of their size or complexity, possess equivalent computational power, constrained by the fundamental limits established by Turing's theoretical framework. **All computers are exactly the same in terms of what they can do.**\n"
   ]
  },
  {
   "cell_type": "markdown",
   "source": [
    "<div style=\"\n",
    "    background-color: #f8f8f8;\n",
    "    border-left: 5px solid #6c63ff;\n",
    "    padding: 15px;\n",
    "    margin: 20px 0;\n",
    "    border-radius: 5px;\n",
    "    box-shadow: 2px 2px 5px rgba(0, 0, 0, 0.1);\n",
    "\">\n",
    "    <h1 style=\"\n",
    "        font-size: 2.5em; /* Adjust size as needed */\n",
    "        font-weight: bold;\n",
    "        margin-bottom: 10px; /* Space between heading and paragraphs */\n",
    "    \">\n",
    "        Chapter 1.2: Output\n",
    "    </h1>\n",
    "</div>\n"
   ],
   "metadata": {
    "id": "9QtPFW7nelbN"
   }
  },
  {
   "cell_type": "markdown",
   "source": [
    "\n",
    "\n",
    "We can write code and get the computer to run our programs all day long, but it won't be much use to us if we don't get any feedback or results.\n",
    "\n",
    "![image of a computer showing output](../images/computer_output.png)\n",
    "\n",
    "In this section, we'll learn how to display information as simple text-based output in Python, and where to view that output.\n",
    "---\n",
    "\n",
    "\n",
    "\n",
    "\n"
   ],
   "metadata": {
    "id": "5Xm3jB8w3Hl6"
   }
  },
  {
   "metadata": {},
   "cell_type": "markdown",
   "source": [
    "\n",
    "\n",
    "\n",
    "## Code Cells\n",
    "---\n",
    "\n",
    "As you work through this notebook you'll primarily interact with the **code block cells**. This is where you'll craft your code, the instructions that guide the computer's actions.\n",
    "\n",
    "Copy the following code into the code cell below. While you have the code cell highlighted, type `ctrl + enter-key` on your keyboard to see what happens:\n",
    "\n",
    "```python\n",
    "print(\"Great work!\")\n",
    "```"
   ]
  },
  {
   "cell_type": "code",
   "source": [
    "# 👇👇 Place your code below this line 👇👇\n",
    "# run it by typing `ctrl + enter-key` on your keyboard\n",
    "\n"
   ],
   "metadata": {
    "id": "3Oko5KX-3h8M",
    "ExecuteTime": {
     "end_time": "2025-04-06T15:55:10.668032Z",
     "start_time": "2025-04-06T15:55:10.662032Z"
    }
   },
   "outputs": [
    {
     "name": "stdout",
     "output_type": "stream",
     "text": [
      "Hi\n"
     ]
    }
   ],
   "execution_count": 3
  },
  {
   "metadata": {},
   "cell_type": "markdown",
   "source": [
    "After typing `ctrl + enter-key` on your keyboard, the output should appear below the code cell. The notebook will move on to highlight the next available cell.\n",
    "\n",
    "\n",
    "## Displaying Output: The `print()` Function\n",
    "---\n",
    "\n",
    "In Python, we use **commands** to instruct the computer. A command is a specific instruction that the computer executes when your program runs.\n",
    "\n",
    "To display the **output** of your program—the results of your code's execution—we utilize the `print()` statement\n",
    "\n",
    "The `print()` statement is a tool that has one job: display the contents provided inside the parenthesis `()`.\n",
    "\n",
    "What you want to display is placed between the `()` in the `print()` statement.\n",
    "\n",
    "**In the code cell below, type the following code and then run it by typing `ctrl + enter-key` on your keyboard:**\n",
    "\n",
    "```python\n",
    "print(\"Hello World\")\n",
    "```\n",
    "\n",
    "\n",
    "The reason you were able to see the words `Hello World` appear is because the`print()` command is doing its job with the information, `\"Hello World\"`, that you gave it.\n",
    "\n",
    "\n",
    "Without the `print()` command the computer lacks the instruction to generate the expected output.\n",
    "\n",
    "**In the code cell below, type the following code and then run it by typing `ctrl + enter-key` on your keyboard. Is any output produced?**\n",
    "\n",
    "```python\n",
    "\"Hello World\"\n",
    "```\n",
    "\n",
    "\n",
    "\n",
    "\n"
   ]
  },
  {
   "cell_type": "code",
   "source": [
    "# 👇👇 Place your code below this line 👇👇\n",
    "# run it by typing `ctrl + enter-key` on your keyboard\n",
    "\n"
   ],
   "metadata": {
    "id": "1XPjShKK4j6q"
   },
   "execution_count": null,
   "outputs": []
  },
  {
   "metadata": {},
   "cell_type": "markdown",
   "source": [
    "\n",
    "\n",
    "If running code in a Code Editor, the output displayed by `print()` will show up in the terminal.\n",
    "\n",
    "\n",
    "---\n",
    "\n",
    "## Code Editors\n",
    "---\n",
    "\n",
    "Outside of this notebook, when you write programs in a Code Editor - like Pycharm, Intellij, VSCode, or Codio - you'll write code in the text editor window:\n",
    "\n",
    "![image of PyCharms text editor window](../images/python_editor.png)\n",
    "\n",
    "The name of the Python file you are writing code into is always followed by the `.py` extension.\n",
    "\n",
    "The sequential numbers along the left are known as **line numbers**, these help guide you as you write more instructions.\n",
    "\n",
    "Each line of code is written on a seperate line, and each line is read sequentially by the computer when the program runs.\n",
    "\n",
    "## The Terminal\n",
    "\n",
    "\n",
    "Outside of this notebook, code is generally run through the **terminal**. The terminal is the window to the left at the bottom of the screen in a code editor. This is an example of what a terminal looks like:\n",
    "\n",
    "![screenshot of PyCharm terminal](../images/terminal.png)\n",
    "\n",
    "\n",
    "The terminal is where we interact with the operating system. To run a program we must give the computers operating system an instruction to do so. An instruction given to the computers operating system, is also called a command. A program code file can be run by issuing a **command** in the **terminal**.\n",
    "\n",
    "\n",
    "```python\n",
    "\n",
    "python3 my_code_file_name.py\n",
    "\n",
    "```\n",
    "\n",
    "The terminal command to run a program has two parts: the name of the language, and the name of the file to run.\n",
    "\n",
    "\n",
    "When running a program from the terminal, the output is also displayed in the terminal:\n",
    "\n",
    "![screenshot of PyCharm terminal with output](../images/terminal_output.png)\n"
   ]
  },
  {
   "cell_type": "markdown",
   "source": [
    "\n",
    "\n",
    "## How the computer reads your code\n",
    "\n",
    "---\n",
    "\n",
    "The numbers along the left of the text editor window or notebook code cell, are **line numbers**. These keep track of the instructions we write.\n",
    "\n",
    " The computer will start at the top, at **line 1**, and execute code line by line down from there.\n",
    "\n",
    " Lines left empty, also known as **whitespace**, are skipped (ignored by the computer).\n",
    "\n",
    "**Enter the following code into the Code Cell below, run it and examine the output.**\n",
    "\n",
    "```python\n",
    "print(\"This is first\")\n",
    "print(\"This is second\")\n",
    "\n",
    "print(\"This is third\")\n",
    "```"
   ],
   "metadata": {
    "id": "nbBFGRXd458N"
   }
  },
  {
   "cell_type": "code",
   "source": [
    "# 👇👇 Place your code below this line 👇👇\n",
    "# run it by typing `ctrl + enter-key` on your keyboard\n",
    "\n"
   ],
   "metadata": {
    "id": "shOD0ljY46yO",
    "ExecuteTime": {
     "end_time": "2025-04-02T23:22:19.499758Z",
     "start_time": "2025-04-02T23:22:19.486758Z"
    }
   },
   "outputs": [
    {
     "name": "stdout",
     "output_type": "stream",
     "text": [
      "This is first\n",
      "This is second\n",
      "This is third\n"
     ]
    }
   ],
   "execution_count": 4
  },
  {
   "cell_type": "markdown",
   "source": [
    "\n",
    "\n",
    "## Newline Character\n",
    "---\n",
    "The presence of a **newline** character in your code tells the computer to move the cursor down to the next line on the console.\n",
    "\n",
    "The `print` command automatically adds a **newline** character each time you use it. This is the default behavior.\n",
    "\n",
    "**Enter the following code into the Code Cell below, run it by typing `ctrl + enter-key` on your keyboard, and examine the output.**\n",
    "\n",
    "```python\n",
    "print(\"Hello world\")\n",
    "print(\"...How are you?\")\n",
    "```\n"
   ],
   "metadata": {
    "id": "-1Jq4R7N49Tt"
   }
  },
  {
   "cell_type": "code",
   "source": [
    "# 👇👇 Place your code below this line 👇👇\n",
    "# run it by typing `ctrl + enter-key` on your keyboard\n",
    "\n"
   ],
   "metadata": {
    "id": "DDkc5d1X5BP0"
   },
   "execution_count": null,
   "outputs": []
  },
  {
   "cell_type": "markdown",
   "source": [
    "![The image shows the following code line `print(\"Hello world\", end='\\n')` where the part of the code in the parentheses starting with the comma (i.e. , end='\\n') is in red with the description that it is the default newline character.](../images/newline-character.png)\n",
    "\n",
    "The text in red shows the hidden newline character which is added by the `print()` command, even if you do not type it.\n",
    "\n",
    "## Removing the Newline from `print()`\n",
    "---\n",
    "\n",
    "Add `, end=''` (two quotes with nothing between them) to your `print` command as seen in the code snippet below. This overrides the default newline character.\n",
    "\n",
    "**Enter the following code into the Code Cell below, run it by typing `ctrl + enter-key` on your keyboard, and examine the output.**\n",
    "\n",
    "```python\n",
    "print(\"Hello World\", end='')\n",
    "print(\"...How are you?\")\n",
    "```"
   ],
   "metadata": {
    "id": "ZmDwsv-_5EC8"
   }
  },
  {
   "cell_type": "code",
   "source": [
    "# 👇👇 Place your code below this line 👇👇\n",
    "# run it by typing `ctrl + enter-key` on your keyboard\n",
    "\n"
   ],
   "metadata": {
    "colab": {
     "base_uri": "https://localhost:8080/"
    },
    "id": "782qjdh35LQD",
    "outputId": "485c30f8-4c72-42ee-b6a4-c876b3ecac29",
    "ExecuteTime": {
     "end_time": "2025-04-02T23:25:20.653288Z",
     "start_time": "2025-04-02T23:25:20.642291Z"
    }
   },
   "outputs": [],
   "execution_count": 5
  },
  {
   "cell_type": "markdown",
   "source": [
    "<div style=\"background-color: #ede7f6; border: 4px solid #9575cd; padding: 10px; border-radius: 5px;\">\n",
    "\n",
    "## What happens if you:\n",
    "* Use `end='\\t'` in the `print` command\n",
    "* Use `end='!'` in the `print` command\n",
    "* Use double quotes instead of single quotes with `end=''`"
   ],
   "metadata": {
    "id": "Z4CrkOfE5LwW"
   }
  },
  {
   "cell_type": "code",
   "source": [
    "# 👇👇 Place your code below this line 👇👇\n",
    "# run it by typing `ctrl + enter-key` on your keyboard\n",
    "\n"
   ],
   "metadata": {
    "id": "mJZmncV05QZu"
   },
   "execution_count": null,
   "outputs": []
  },
  {
   "cell_type": "markdown",
   "source": [
    "## Printing a Newline Character\n",
    "---\n",
    "\n",
    "If you want to print a blank line in your console output, you can give the `print()` command the newline character itself to display.\n",
    "\n",
    "The newline character on its own looks like this: `'\\n'`\n",
    "\n",
    "**Enter the following code into the Code Cell below, run it by typing `ctrl + enter-key` on your keyboard, and examine the output.**\n",
    "\n",
    "```python\n",
    "print(\"Hello world\", end='')\n",
    "print('\\n')\n",
    "print(\"Do you see the blank line above?\")\n",
    "```\n",
    "\n"
   ],
   "metadata": {
    "id": "DKbwAFpQ5X4X"
   }
  },
  {
   "cell_type": "code",
   "source": [
    "# 👇👇 Place your code below this line 👇👇\n",
    "# run it by typing `ctrl + enter-key` on your keyboard\n",
    "\n"
   ],
   "metadata": {
    "id": "3G-YMCr45Z1o"
   },
   "execution_count": null,
   "outputs": []
  },
  {
   "cell_type": "markdown",
   "source": [
    "\n",
    "\n",
    "## Comments\n",
    "---\n",
    "\n",
    "\n",
    "![This image shows two lines of code. The first line starts with a \"#\" indicating that it is a python comment. It is written in light brown. The second line is a print statement. It is written in other colors.](../images/comments.png)\n",
    "\n",
    "In Python, to write notes in code without effecting its function we can use `#` to make a **comment**.\n",
    "\n",
    "**Enter the following code into the Code Cell below, run it by typing `ctrl + enter-key` on your keyboard, and examine the output.**\n",
    "\n",
    "```python\n",
    "print(#\"Red\")\n",
    "print(\"Orange\") #the comment STARTS at the hash symbol\n",
    "print(\"Yellow\")\n",
    "print(\"Green\")\n",
    "print(\"Blue\")\n",
    "#This line is just a comment\n",
    "print(\"Indigo\")\n",
    "print(\"Violet\")\n",
    "print(\"These are the colors of a rainbow!\")\n",
    "```"
   ],
   "metadata": {
    "id": "S2od8Y_a5buY"
   }
  },
  {
   "cell_type": "code",
   "source": [
    "# 👇👇 Place your code below this line 👇👇\n",
    "# run it by typing `ctrl + enter-key` on your keyboard\n",
    "\n"
   ],
   "metadata": {
    "id": "GFoLAREe5gB3"
   },
   "execution_count": null,
   "outputs": []
  },
  {
   "cell_type": "markdown",
   "source": [
    "\n",
    "\n",
    "When running your code, the computer ignores any comments. It does not treat them as an instruction to follow. So comments will not affect how your code runs in any way."
   ],
   "metadata": {
    "id": "3jruypQO5l0t"
   }
  },
  {
   "cell_type": "markdown",
   "source": [
    "\n",
    "## Uses for Comments\n",
    "\n",
    "---\n",
    "\n",
    "#### Explain the \"why\"\n",
    "\n",
    "Developers often leave comments in code to explain their reasoning behind certain design decisions or code structures. That way other developers who later read and work with that code can gain context that is helpful for them.\n",
    "\n",
    "#### Leaving yourself notes as you learn\n",
    "\n",
    "When learning to write code, leaving comments for yourself throughout the programs you write, can serve as invaluable notes as you get used to all the syntax and logic.\n",
    "\n",
    "We'll learn later about what an appropriate amount of commenting looks like for actual production code. But for now, as a student, leave as many comment notes to yourself as you want!\n",
    "\n",
    "#### Disabling code to find a bug\n",
    "\n",
    "Comments can be used to help you fix your code. You can \"comment out\" lines of code that are not working or you suspect are causing problems.\n",
    "\n",
    "<div style=\"background-color: #ede7f6; border: 4px solid #9575cd; padding: 10px; border-radius: 5px;\">\n",
    "\n",
    "## What happens if you:\n",
    "* Change the code to look like this:\n",
    "```python\n",
    "#print(\"Red\")\n",
    "print(\"Orange\") #the comment STARTS at the hash symbol\n",
    "#print(\"Yellow\")\n",
    "print(\"Green\")\n",
    "#print(\"Blue\")\n",
    "print(\"Indigo\")\n",
    "#print(\"Violet\")\n",
    "print(\"These are the colors of a rainbow!\")\n",
    "```"
   ],
   "metadata": {
    "id": "pd2Lt4vs52Bs"
   }
  },
  {
   "cell_type": "code",
   "source": [
    "# 👇👇 Place your code below this line 👇👇\n",
    "# run it by typing `ctrl + enter-key` on your keyboard\n"
   ],
   "metadata": {
    "id": "KvSm8mY255S2"
   },
   "execution_count": null,
   "outputs": []
  },
  {
   "cell_type": "markdown",
   "source": [
    "<div style=\"background-color: #ede7f6; border: 4px solid #9575cd; padding: 10px; border-radius: 5px;\">\n",
    "\n",
    "## What happens if you:\n",
    "* Change the code to look like this:\n",
    "\n",
    "```python\n",
    "print(#\"Red\")\n",
    "print(\"Orange\") #the comment STARTS at the hash symbol\n",
    "print(\"Yellow\")\n",
    "print(\"Green\")\n",
    "print(\"Blue\")\n",
    "print(\"Indigo\")\n",
    "print(\"Violet\")\n",
    "print(\"These are the colors of a rainbow!\")\n",
    "```"
   ],
   "metadata": {
    "id": "pTUrYsyI56Bq"
   }
  },
  {
   "cell_type": "code",
   "source": [
    "# 👇👇 Place your code below this line 👇👇\n",
    "# run it by typing `ctrl + enter-key` on your keyboard\n"
   ],
   "metadata": {
    "id": "BPDIks946AiP"
   },
   "execution_count": null,
   "outputs": []
  },
  {
   "cell_type": "markdown",
   "source": [
    "<details>\n",
    "<summary><strong>Why is there an error?</strong></summary>\n",
    "When you add a <code>#</code> for a comment, the remainder of the line is ignored by Python. That means everything before the comment symbol <em>must</em> be valid code. You get an error because the first <code>print</code> statement has an open parentheses followed by a comment. That means Python ignores the closing parentheses, which causes the error. Comments are a very useful tool, but you need to be careful where you place them.\n",
    "</details>"
   ],
   "metadata": {
    "id": "6BmRFO4l6DbH"
   }
  },
  {
   "cell_type": "markdown",
   "source": [
    "## Comment Blocks\n",
    "\n",
    "---\n",
    "\n",
    "To make a multi-line comment you can either combine the single line characters `#` or wrap the set of lines in triple quotes (`'''`)."
   ],
   "metadata": {
    "id": "tmrK6JBf6GNx"
   }
  },
  {
   "cell_type": "code",
   "source": [
    "'''\n",
    "This is a multi-line comment\n",
    "You can then easily end the comment with a triple quote (see below)\n",
    "'''\n",
    "\n",
    "#You can also do a multi-line comment\n",
    "#like this!\n",
    "\n",
    "print(\"Notice code that runs is not the same color as single-line comments\");\n",
    "print(\"This feature is called syntax highlighting\");\n",
    "print(\"It is a common feature of IDEs\");"
   ],
   "metadata": {
    "id": "niy0hcW-6G9t"
   },
   "execution_count": null,
   "outputs": []
  },
  {
   "cell_type": "markdown",
   "source": [
    "The syntax highlighting is different for comments with `#`and comments with `'''`. That is because the triple quotation marks are also used for multi-line strings (we'll get to Strings later), which are lines of code that actually do run. So the syntax highlighting color matches the coloring of other runable code lines.\n",
    "\n",
    "But when found alone the tripple quotation `'''` wrapped lines are treated as comments.\n",
    "\n",
    "<details><summary><strong>What is an IDE?</strong></summary> <blockquote cite=\"https://simple.wikipedia.org/wiki/Integrated_development_environment\">An integrated development environment, or IDE, is a computer program that makes it easier to write other computer programs. They are used by computer programmers to edit source code, and can be easier to use than other text editors for new programmers. They can have compilers so programmers don't have to open other programs to compile the source code. They also often have syntax highlighting. ... It also may have predictive coding that can finish lines with syntax such as brackets or semicolons and can suggest variables to be used. It also may have debuggers that can step through lines, take breaks and inspect variables. <br> <br> <b>Source: Simple Wikipedia </b></blockquote></details>\n"
   ],
   "metadata": {
    "id": "ImOtoSXg6Uvd"
   }
  },
  {
   "metadata": {},
   "cell_type": "markdown",
   "source": [
    "\n",
    "\n"
   ]
  }
 ]
}
