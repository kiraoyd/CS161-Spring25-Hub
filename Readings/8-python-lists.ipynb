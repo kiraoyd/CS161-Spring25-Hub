{
 "cells": [
  {
   "cell_type": "markdown",
   "id": "2eb4621a-6477-4e6f-a2ff-95884a4a4e7b",
   "metadata": {},
   "source": [
    "# Introduction to Lists\n",
    "---\n",
    "\n",
    "A **list** is an *ordered*, *mutable*, collection of *elements*. We use **lists** to store *multiple* values in a *single* variable. \n",
    "\n",
    "![image of a python List with labels](../../../images/lists.png)\n",
    "\n",
    "## Terminology\n",
    "* Each item of a list is called an **element**\n",
    "* The position of an element inside a list is called its **index**. In Python, the very first element is at index **0**\n",
    "* The total number of elements inside a list is called its **size** (or **length**)\n",
    "* A collection like a List is considered **mutable** if the values stored in it can be updated and changed.\n",
    "\n",
    "## Why Do We Use Them?\n",
    "* Store Multiple Values: Use a *single* **list** instead of creating *multiple* variables\n",
    "\n",
    "* Ordered Collection: The order of elements in the **list** is preserved\n",
    "* Mutability: **Lists** can be modified; elements can be added, removed, or changed\n",
    "* Versatile: Lists can hold elements of *different* data types\n",
    "\n",
    "## Examples of Collections as Lists\n",
    "\n",
    "The following examples demonstrate how we can use the concept of **lists** to store items (**elements**).\n",
    "\n",
    "**a. Suppose you need to go grocery shopping.**\n",
    "\n",
    "shopping list = Bread, milk, eggs, chips\n",
    "* The elements are bread, milk, eggs, and chips\n",
    "* Bread is at index 0, milk is at index 1, eggs is at index 2, and chips is at index 3\n",
    "* The size of this list is 4\n",
    "\n",
    "**b. Suppose you need to store information about a car.** \n",
    "\n",
    "car information = Toyota, Camry, 2017, 1.6L, 38.6\n",
    "\n",
    "* The elements are Toyota, Camry, 2017, 1.6L, and 38.6 \n",
    "* Toyota is at index 0, Camry is at index 1, 2017 is at index 2, 1.6L is at index 3, and 38.6 is at index 4\n",
    "* The size of this list is 5\n",
    "\n",
    "**c. Suppose you need to store the scores of a class.**\n",
    "test scores = 90, 85, 82\n",
    "\n",
    "* The elements are 90, 85, and 82\n",
    "* 90 us at index, 0, 85 is at index 1, and 82 is at index 2\n",
    "* The size of this list is 3\n",
    "\n",
    "# Creating Python Lists\n",
    "---\n",
    "## Creating a List\n",
    "In Python, **lists** are created using square brackets `[]`. Elements inside the list are comma-separated. \n",
    "\n",
    "### **In Python we may have lists of any data type:**\n",
    "\n",
    "\n"
   ]
  },
  {
   "cell_type": "markdown",
   "id": "8beecf5f-4935-4c83-889d-c00d88bf5e9b",
   "metadata": {},
   "source": [
    "### An empty list\n",
    "```Python\n",
    " # An empty list\n",
    "empty_list = [] \n",
    "print(my_list)\n",
    "```"
   ]
  },
  {
   "cell_type": "code",
   "execution_count": 1,
   "id": "d1ba6b66-b3a3-4a4e-977b-83d79ce73f5e",
   "metadata": {},
   "outputs": [],
   "source": [
    "# 👇👇 Place your code below this line 👇👇\n",
    "# run it by typing `ctrl + enter-key' on your keyboard"
   ]
  },
  {
   "cell_type": "markdown",
   "id": "0113306d-2fab-4a08-a6d2-f20b6db08332",
   "metadata": {},
   "source": [
    "### A list of `str` elements\n",
    "```Python\n",
    "grocery_list = [\"milk\", \"bread\", \"eggs\", \"chips\"]\n",
    "print(grocery_list)\n",
    "```\n",
    "Run these lines of code as is.\n",
    "\n",
    "Then, try manually changing the initial values in this list by manually adding a fifth grocery item. Type in `\"avocado\"` and add it to the end of the list.\n",
    "\n",
    "Run it again and see what's in the List now."
   ]
  },
  {
   "cell_type": "code",
   "execution_count": 2,
   "id": "c772ed31-be4d-4e33-92e2-e3d33bbc28de",
   "metadata": {},
   "outputs": [],
   "source": [
    "# 👇👇 Place your code below this line 👇👇\n",
    "# run it by typing `ctrl + enter-key' on your keyboard"
   ]
  },
  {
   "cell_type": "markdown",
   "id": "683a7a88-9927-41a7-80b5-3c21845cd05f",
   "metadata": {},
   "source": [
    "\n",
    "### A list of `int` elements\n",
    "```Python\n",
    "integers = [1, 2, 3, 4, 5, 6, 8, 200]\n",
    "print(grocery_list)\n",
    "```"
   ]
  },
  {
   "cell_type": "code",
   "execution_count": 3,
   "id": "e82af5cb-f98a-42c4-a3de-4a5b928d452e",
   "metadata": {},
   "outputs": [],
   "source": [
    "# 👇👇 Place your code below this line 👇👇\n",
    "# run it by typing `ctrl + enter-key' on your keyboard"
   ]
  },
  {
   "cell_type": "markdown",
   "id": "1331c22f-67bc-4685-8ae4-361627d0f33a",
   "metadata": {},
   "source": [
    "### A list of 'float' elements\n",
    "```Python\n",
    "floats = [1.3, 2.2, 3.3, 4.1, 6.77, 1.3456]\n",
    "print(floats)\n",
    "```"
   ]
  },
  {
   "cell_type": "code",
   "execution_count": null,
   "id": "6e67ad02-80c4-4802-9473-8575382b99ec",
   "metadata": {},
   "outputs": [],
   "source": [
    "# 👇👇 Place your code below this line 👇👇\n",
    "# run it by typing `ctrl + enter-key' on your keyboard"
   ]
  },
  {
   "cell_type": "markdown",
   "id": "b9d47015-3b0d-450d-bf3f-f21c8b27f73c",
   "metadata": {},
   "source": [
    "```Python\n",
    "booleans = [True, False, False, True, True]\n",
    "print(booleans)\n",
    "```"
   ]
  },
  {
   "cell_type": "code",
   "execution_count": null,
   "id": "b2587e91-133d-44ba-836f-47e9101f9946",
   "metadata": {},
   "outputs": [],
   "source": [
    "# 👇👇 Place your code below this line 👇👇\n",
    "# run it by typing `ctrl + enter-key' on your keyboard"
   ]
  },
  {
   "cell_type": "markdown",
   "id": "84d438f1-92cd-46a7-94a1-3a6de7b3e3e9",
   "metadata": {},
   "source": [
    "### A list of mixed elements\n",
    "\n",
    "While the elements of a list are commonly the same data type, we can have lists of mixed data types as well.\n",
    "\n",
    "```Python\n",
    "mixed = [\"1\", 1, 1.0, True]\n",
    "print(mixed)\n",
    "```"
   ]
  },
  {
   "cell_type": "code",
   "execution_count": null,
   "id": "a9e4eaba-7adc-41e7-8e92-8ee222326423",
   "metadata": {},
   "outputs": [],
   "source": [
    "# 👇👇 Place your code below this line 👇👇\n",
    "# run it by typing `ctrl + enter-key' on your keyboard"
   ]
  },
  {
   "cell_type": "markdown",
   "id": "a39fd6ad-99eb-4c24-884c-d3e25cca4195",
   "metadata": {},
   "source": [
    "<div style=\"background-color: #F8F8F8; border: 4px solid #30A5C7; padding: 10px; border-radius: 5px;\">\n",
    "\n",
    "## Try it: Create a list of your favorite colors and print the list.\n",
    "\n",
    "</div>"
   ]
  },
  {
   "cell_type": "code",
   "execution_count": null,
   "id": "d0c70dc7-282e-4c29-929b-dc595b6e3d2e",
   "metadata": {},
   "outputs": [],
   "source": [
    "# 👇👇 Place your code below this line 👇👇\n",
    "# run it by typing `ctrl + enter-key' on your keyboard"
   ]
  },
  {
   "cell_type": "markdown",
   "id": "4b26bfe5-1b3e-4f88-8041-fbcf5e398b96",
   "metadata": {},
   "source": [
    "# Adding Elements to a List\n",
    "--- \n",
    "## Appending Elements\n",
    "In Python, we can use the built-in function, `append()`, to add a single element to the end of a list. \n",
    "\n",
    "## Syntax\n",
    "To use the `append()` method in Python, we need to use the 'dot' notation on a list variable. \n",
    "```Python\n",
    "list.append(new_element)\n",
    "```\n",
    "\n",
    "## Example\n",
    "Consider the `fruits` list. \n",
    "\n",
    "To add a new fruit to the list programatically (from within the running program), use `append()` on the `fruits` list variable\n",
    "\n",
    "```Python\n",
    "fruits = [\"apple\", \"banana\", \"cherry\"]\n",
    "print(fruits)\n",
    "\n",
    "# Add a new fruit to the \"fruits\" list\n",
    "fruits.append(\"watermelon\")\n",
    "print(fruits)\n",
    "```\n",
    "\n",
    "<div style=\"background-color: #F8F8F8; border: 4px solid #30A5C7; padding: 10px; border-radius: 5px;\">\n",
    "    \n",
    "## Try it!\n",
    "Use `append()` to add a new color to the end of this `colors` list. Print the modified list afterwards to show that the new color was added.\n",
    "\n",
    "```Python\n",
    "colors = [\"blue\", \"red\", \"green\"]\n",
    "print(colors)\n",
    "```\n",
    "</div>"
   ]
  },
  {
   "cell_type": "code",
   "execution_count": null,
   "id": "e68f16c3-8f15-4ae2-a396-cab1c1c3be05",
   "metadata": {},
   "outputs": [],
   "source": [
    "# 👇👇 Place your code below this line 👇👇\n",
    "# run it by typing `ctrl + enter-key' on your keyboard"
   ]
  },
  {
   "cell_type": "markdown",
   "id": "8e38a6e0-61cd-4132-9dfa-9d3e98202b89",
   "metadata": {},
   "source": [
    "## Using a loop and `append()` to add to an empty list\n",
    "\n",
    "We can use our knowledge of while-loops, to repeatedly add items to an initially empty list.\n",
    "\n",
    "**The loop structure will look almost identical to that of a loop that just outputs each number in a sequence:**\n",
    "\n",
    "```Python\n",
    "#outputting a sequence from 1 to n\n",
    "\n",
    "digit = 1\n",
    "n = 5\n",
    "while digit < n:\n",
    "\n",
    "  print(digit) #the work: outputting each digit in the sequence\n",
    "\n",
    "  digit += 1\n",
    "\n",
    "```"
   ]
  },
  {
   "cell_type": "code",
   "execution_count": null,
   "id": "be7a7b0a-63d0-4e03-a4c4-1c830996223d",
   "metadata": {},
   "outputs": [],
   "source": [
    "# 👇👇 Place your code below this line 👇👇\n",
    "# run it by typing `ctrl + enter-key' on your keyboard"
   ]
  },
  {
   "cell_type": "markdown",
   "id": "17f7f752-efdc-40ee-a7b5-96913357832e",
   "metadata": {},
   "source": [
    "**What changes, is the work being done inside the loop body code.** Now instead of using `print()`, we instead use `append()` to add each digit to the `sequence` list.\n",
    "```Python\n",
    "#Adding a sequence from 1 to n to a List\n",
    "\n",
    "sequence = [] #initially empty list\n",
    "\n",
    "digit = 1\n",
    "n = 5\n",
    "while digit < n:\n",
    "\n",
    "  sequence.append(digit) #instead of just printing the number, we can append it to the list\n",
    "\n",
    "  digit += 1\n",
    "\n",
    "print(sequence) #also display the contents of the newly populated list\n",
    "```"
   ]
  },
  {
   "cell_type": "code",
   "execution_count": null,
   "id": "16e4fa5f-93fc-47aa-b765-1376810689ec",
   "metadata": {},
   "outputs": [],
   "source": [
    "# 👇👇 Place your code below this line 👇👇\n",
    "# run it by typing `ctrl + enter-key' on your keyboard"
   ]
  },
  {
   "cell_type": "markdown",
   "id": "1bbfe3cc-d805-4514-9164-f0aa4f916bb0",
   "metadata": {},
   "source": [
    "**This process can also be done with a variable number of data items supplied by the person using the program, as input.**\n",
    "\n",
    "```Python\n",
    "#Adding user-data to a list\n",
    "\n",
    "data = [] #initially empty list\n",
    "\n",
    "number = int(input(\"Enter a data item, enter -1 to stop: \"))\n",
    "while number != -1:\n",
    "\n",
    "  data.append(number) #append input data item to the list\n",
    "\n",
    "  number = int(input(\"Enter a data item, enter -1 to stop: \")) #get another data item, or the terminating value of -1\n",
    "\n",
    "print(data) #display the contents of the newly populated list\n",
    "```"
   ]
  },
  {
   "cell_type": "code",
   "execution_count": null,
   "id": "d4f423e7-1116-43ea-b1c1-bdb34dddd044",
   "metadata": {},
   "outputs": [],
   "source": [
    "# 👇👇 Place your code below this line 👇👇\n",
    "# run it by typing `ctrl + enter-key' on your keyboard"
   ]
  }
 ],
 "metadata": {
  "kernelspec": {
   "display_name": "Python 3 (ipykernel)",
   "language": "python",
   "name": "python3"
  },
  "language_info": {
   "codemirror_mode": {
    "name": "ipython",
    "version": 3
   },
   "file_extension": ".py",
   "mimetype": "text/x-python",
   "name": "python",
   "nbconvert_exporter": "python",
   "pygments_lexer": "ipython3",
   "version": "3.12.5"
  }
 },
 "nbformat": 4,
 "nbformat_minor": 5
}
