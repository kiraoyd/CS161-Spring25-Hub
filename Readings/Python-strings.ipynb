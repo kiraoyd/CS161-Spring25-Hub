{
 "cells": [
  {
   "cell_type": "markdown",
   "id": "979699e3-533d-409f-8d36-09fca98a9051",
   "metadata": {},
   "source": [
    "<h1><span style=\"font-size: 2em; color: navy; font-weight: bold;\">Python Strings</span></h1>\n",
    "<hr>\n",
    "\n",
    "A `str` in Python is similar to a `list` of individual characters. We can think of a `str` as a sequence of *ordered* characters, much like how a `list` is a sequence of *ordered* elements. \n",
    "\n",
    "## Accessing the Characters of a `str`\n",
    "The characters of a `str` can be thought of as the **elements** of an array. \n",
    "\n",
    "Consider the following `str`:\n",
    "\n",
    "```Python\n",
    "class = \"CS160\"\n",
    "```\n",
    "\n",
    "The first character, 'C' can be accessed by `index = 0`, the first index. That is, `class[0] == 'C'`. We can access subsequent elements in a similar fashion. \n",
    "\n",
    "## Example\n",
    "```Python\n",
    "# Displaying each element of a str\n",
    "class = \"CS160\"\n",
    "index = 0\n",
    "class_len = len(class)\n",
    "\n",
    "while index < class_len:\n",
    "  print(class[index])\n",
    "  index = index + 1\n",
    "```\n"
   ]
  },
  {
   "cell_type": "code",
   "execution_count": 1,
   "id": "e665ca89-c139-4b5a-a7bd-fc3b222b3a77",
   "metadata": {},
   "outputs": [],
   "source": [
    "# 👇👇 Place your code below this line 👇👇\n",
    "# run it by typing `ctrl + enter-key' on your keyboard"
   ]
  },
  {
   "cell_type": "markdown",
   "id": "5a28e18d-932c-4e57-a985-9861a01c77d1",
   "metadata": {},
   "source": [
    "\n",
    "## Updating the Characters of a `str`\n",
    "\n",
    "UNLIKE a `list` we CANNOT update characters of a `str` by its index. \n",
    "\n",
    "## Example\n",
    "```Python\n",
    "# Trying to update the elements of a str will cause error\n",
    "my_class = \"CS160\"\n",
    "print(my_class)\n",
    "\n",
    "my_class[0] = \"1\"\n",
    "my_class[1] = \"2\"\n",
    "\n",
    "print(my_class)\n",
    "```"
   ]
  },
  {
   "cell_type": "code",
   "execution_count": 2,
   "id": "2094be31-c0a1-4971-8f69-63ae156d3bf8",
   "metadata": {},
   "outputs": [],
   "source": [
    "# 👇👇 Place your code below this line 👇👇\n",
    "# run it by typing `ctrl + enter-key' on your keyboard"
   ]
  },
  {
   "cell_type": "markdown",
   "id": "e2deb9e5-c5fa-4c65-8885-06931fb58250",
   "metadata": {},
   "source": [
    "\n",
    "## Using len() to find the number of characters in a String\n",
    "\n",
    "In Python, the `len()` tool works on Strings to determine the length, or how many characters exist in the String:\n",
    "\n",
    "```python\n",
    "name = \"Bernard\"\n",
    "length = len(name)\n",
    "print(f\"Your name has {length} many characters in it.\")\n",
    "```\n",
    "\n",
    "Be careful, white-space counts as characters! Punctuation marks, and symbols also count as characters!\n",
    "\n",
    "```python\n",
    "some_string = \"I love  soup. :)\" #nine alphabet characters, four whitespace characters, one punctuation mark, two symbols\n",
    "length = len(some_string)\n",
    "print(f\"Your String has {length} characters in it.\")\n",
    "```\n"
   ]
  },
  {
   "cell_type": "code",
   "execution_count": 3,
   "id": "e7c145f5-c25c-48c9-9b78-67a81de36bfa",
   "metadata": {},
   "outputs": [],
   "source": [
    "# 👇👇 Place your code below this line 👇👇\n",
    "# run it by typing `ctrl + enter-key' on your keyboard\n"
   ]
  },
  {
   "cell_type": "markdown",
   "id": "2b9ed1fb-7553-4eaa-aa2e-62cbab498d0d",
   "metadata": {},
   "source": [
    "## Using Modular Arithmetic to Wrap-Around\n",
    "\n",
    "When moving forward to a new index in a string, or a List, we might want to **wrap around** or loop back to the front of the data structure.\n",
    "\n",
    "To do this, we can use modular arithmetic to ensure we don't ever try to access an index that is out of bounds.\n",
    "\n",
    "```python\n",
    "\n",
    "data = [45, 67, 100, 45, 56, 200, 10]\n",
    "length = len(data)\n",
    "\n",
    "index = 0\n",
    "new_index = index + 10  #this will put us out of bounds for this list\n",
    "print(data[new_index]) #error!!!\n",
    "```\n",
    "\n",
    "Anytime we want to shift an index value by adding some integer to it, we can mod the resulting new index value by the size of the String or List to guarantee that we stay in bounds:\n",
    "\n",
    "```python\n",
    "\n",
    "data = [45, 67, 100, 80, 56, 200, 10]\n",
    "length = len(data)\n",
    "\n",
    "index = 0\n",
    "new_index = (index + 10) % length  #this will create a wraparound effect\n",
    "print(data[new_index]) \n",
    "```\n",
    "\n",
    "The same logic applies for Strings.\n"
   ]
  },
  {
   "cell_type": "code",
   "execution_count": 4,
   "id": "603e29fb-46a4-4775-bcda-67b012d642ad",
   "metadata": {},
   "outputs": [],
   "source": [
    "# 👇👇 Place your code below this line 👇👇\n",
    "# run it by typing `ctrl + enter-key' on your keyboard"
   ]
  },
  {
   "cell_type": "markdown",
   "id": "4f8c313a-3200-4275-a366-724cf4fa0df7",
   "metadata": {},
   "source": [
    "\n",
    "\n",
    "## Example over Strings\n",
    "\n",
    "Imagine I want to encrypt a letter, by shifting it's position in the alphabet forward by exactly 10 letters.\n",
    "\n",
    "The alphabet might be represented as a string, where 'A' lives at index 0, and 'Z' at index 25:\n",
    "\n",
    "```python\n",
    "alphabet = \"ABCDEFGHIJKLMNOPQRSTUVWXYZ\"\n",
    "```\n",
    "\n",
    "If the letter I want to encrypt is 'S', it lives at index 18. \n",
    "\n",
    "To encrypt it to a letter that lies 10 places ahead, we need to add 10 to index 18. But this presents a problem: 10 + 18 = 28, and there is NO index 28 in this alphabet string.\n",
    "\n",
    "So we need to force a wrap-around. Where once we hit the end of the alphabet string (index 25), we count the remaining places forward begining at the start (index 0).\n",
    "\n",
    "Shifting 'S' one place ahead: takes us from index 18 to index 19 (the letter 'T')\n",
    "Shifting 'S' two places ahead: takes us from index 18 to index 20 (the letter 'U')\n",
    "Shifting 'S' three places ahead: takes us from index 18 to index 21 (the letter 'V')\n",
    "\n",
    "...\n",
    "\n",
    "Shifting 'S' seven places ahead: takes us from index 18 to index 25 (the letter 'Z')\n",
    "\n",
    "Shifting 'S' eight places ahead: should take us from index 18 and wrap around back to index 1 (the letter 'A')\n",
    "\n",
    "Shifting 'S' nine places ahead: should take us from index 18 and wrap around back to index 2 (the letter 'B')\n",
    "\n",
    "Shifting 'S' ten places ahead: should take us from index 18 and wrap around back to index 3 (the letter 'C')\n",
    "\n",
    "```python\n",
    "alphabet = \"ABCDEFGHIJKLMNOPQRSTUVWXYZ\"\n",
    "length = len(alphabet)\n",
    "\n",
    "letter_index = 18 #contained the letter 'S'\n",
    "\n",
    "shifted_index = (letter_index + 10)% length\n",
    "print(f\"{alphabet[letter_index]} shifted forward by 10 encrypts t the letter {alphabet[shifted_index]}\")\n",
    "```\n",
    "\n"
   ]
  },
  {
   "cell_type": "code",
   "execution_count": 5,
   "id": "20ba137c-bb32-47d7-b612-3c5b40650978",
   "metadata": {},
   "outputs": [],
   "source": [
    "# 👇👇 Place your code below this line 👇👇\n",
    "# run it by typing `ctrl + enter-key' on your keyboard\n"
   ]
  }
 ],
 "metadata": {
  "kernelspec": {
   "display_name": "Python 3 (ipykernel)",
   "language": "python",
   "name": "python3"
  },
  "language_info": {
   "codemirror_mode": {
    "name": "ipython",
    "version": 3
   },
   "file_extension": ".py",
   "mimetype": "text/x-python",
   "name": "python",
   "nbconvert_exporter": "python",
   "pygments_lexer": "ipython3",
   "version": "3.12.5"
  }
 },
 "nbformat": 4,
 "nbformat_minor": 5
}
