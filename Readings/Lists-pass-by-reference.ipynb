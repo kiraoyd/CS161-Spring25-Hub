{
 "cells": [
  {
   "cell_type": "markdown",
   "id": "c79f7b6a-292a-48ed-a679-4c0c252193be",
   "metadata": {},
   "source": [
    "<h1><span style=\"font-size: 2em; color: navy; font-weight: bold;\">Pass By Reference and Pass By Value</span></h1>\n",
    "<hr>\n",
    "\n",
    "A variable can be passed to a function by *value* or by *reference*. \n",
    "\n",
    "When a variable is passed by *value*, a copy of the variable's value is made and given to the function. \n",
    "\n",
    "However, when a variable is passed to a function by *reference*, it receives a memory address (reference) to the original variable instead of a copy. \n",
    "\n",
    "This means that any changes made to the object inside the function will affect the original object outside the function.\n",
    "\n",
    "This means that instead of creating a new copy of the data, the function works directly with the original data. As a result, if the function modifies the data, those changes persist outside the function.\n",
    "\n",
    "In Python, `lists` are passed by *reference* when used as a function's argument. This is the default behavior in Python.\n",
    "\n",
    "## Example\n",
    "```Python\n",
    "def modify_list(original_list):\n",
    "  original_list.append(\"Modified!\") \n",
    "\n",
    "original_list = [\"Hello\", \"World!\"]\n",
    "modify_list(original_list)\n",
    "\n",
    "print(original_list)\n",
    "```\n",
    "\n",
    "Printing `original_list`, we can see that when it's passed to the `modify_list` function, the original is changed.\n",
    "\n"
   ]
  },
  {
   "cell_type": "code",
   "execution_count": 1,
   "id": "46b949d2-0939-43fd-8f5a-a770f5816fa4",
   "metadata": {},
   "outputs": [],
   "source": [
    "# 👇👇 Place your code below this line 👇👇\n",
    "# run it by typing `ctrl + enter-key' on your keyboard"
   ]
  },
  {
   "cell_type": "markdown",
   "id": "9fa9a2ca-1fe5-4693-99b2-89416c28e4f6",
   "metadata": {},
   "source": [
    "The example below exemplifies how a variable behaves when it's passed by *value*.  \n",
    "\n",
    "## Example \n",
    "```Python\n",
    "def modify_value(value):\n",
    "  value = \"Modified!\"\n",
    "\n",
    "value = 5\n",
    "modify_value(value)\n",
    "\n",
    "print(value)\n",
    "```"
   ]
  },
  {
   "cell_type": "code",
   "execution_count": 2,
   "id": "010e90ff-9c7d-47a4-9592-7c26b22763d2",
   "metadata": {},
   "outputs": [],
   "source": [
    "# 👇👇 Place your code below this line 👇👇\n",
    "# run it by typing `ctrl + enter-key' on your keyboard"
   ]
  }
 ],
 "metadata": {
  "kernelspec": {
   "display_name": "Python 3 (ipykernel)",
   "language": "python",
   "name": "python3"
  },
  "language_info": {
   "codemirror_mode": {
    "name": "ipython",
    "version": 3
   },
   "file_extension": ".py",
   "mimetype": "text/x-python",
   "name": "python",
   "nbconvert_exporter": "python",
   "pygments_lexer": "ipython3",
   "version": "3.12.5"
  }
 },
 "nbformat": 4,
 "nbformat_minor": 5
}
