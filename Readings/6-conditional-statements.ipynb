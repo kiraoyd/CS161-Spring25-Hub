{
 "cells": [
  {
   "cell_type": "markdown",
   "id": "1a563886-6ab8-406c-976e-39e8024035f2",
   "metadata": {},
   "source": [
    "\n",
    "<h1><span style=\"font-size: 2em; color: navy; font-weight: bold;\">Conditional Statements</span></h1>\n",
    "<hr>\n",
    "\n",
    "\n",
    "----------\n",
    "**Conditionals** are pieces of code that make decisions about what the program is going to do next. The most common conditional is the `if` statement.\n",
    "\n",
    "# The if-statement\n",
    "\n",
    "## if-statement syntax\n",
    "\n",
    "![syntax for a python if-statement](../images/if-statement-syntax.png)\n",
    "\n",
    "In Python, `if` statements must contain the following items:\n",
    "* The keyword `if`\n",
    "* A **boolean** (`True` / `False`) expression \n",
    "* A colon `:` after the **boolean** expression\n",
    "* Indentation for all lines of code (4 spaces) that will run if the boolean expression is `True`.\n",
    "  \n",
    "**Enter the following code into the Code Cell below, run it by typing ctrl + enter-key on your keyboard:**\n",
    "\n",
    "```python\n",
    "if 5 > 4:\n",
    "    print(\"True, so this statement will print\")\n",
    "  \n",
    "if 4 > 5:\n",
    "    print(\"False, so this statement won't print\")\n",
    "```\n"
   ]
  },
  {
   "cell_type": "code",
   "execution_count": 1,
   "id": "73e64775-6b3a-45f5-bab8-5b82beb240dc",
   "metadata": {},
   "outputs": [],
   "source": [
    "# 👇👇 Place your code below this line 👇👇\n",
    "# run it by typing `ctrl + enter-key' on your keyboard"
   ]
  },
  {
   "cell_type": "markdown",
   "id": "d3bdd95e-c5bf-4c34-9937-26ffc4242cc2",
   "metadata": {},
   "source": [
    "\n",
    "----------\n",
    "The `if` statement is used to execute blocks of code **only if** a certain condition is `True`. When an `if` statement is `False`, then it is skipped. \n",
    "\n",
    "**Enter the following code into the Code Cell below, run it by typing ctrl + enter-key on your keyboard:**\n",
    "\n",
    "```python\n",
    "if 7 != 10:\n",
    "    print(\"The above statement is true\")\n",
    "    \n",
    "print(\"This is not related to the if statement\")\n",
    "```"
   ]
  },
  {
   "cell_type": "code",
   "execution_count": 2,
   "id": "d00a176a-7b73-49bb-872b-e3e237629910",
   "metadata": {},
   "outputs": [],
   "source": [
    "# 👇👇 Place your code below this line 👇👇\n",
    "# run it by typing `ctrl + enter-key' on your keyboard"
   ]
  },
  {
   "cell_type": "markdown",
   "id": "9ef1a5f0-5144-4955-ba33-52ddb48a6dfc",
   "metadata": {},
   "source": [
    "<div style=\"background-color: #F8F8F8; border: 4px solid #30D5C8; padding: 10px; border-radius: 5px;\">\n",
    "    \n",
    "## What happens if you...\n",
    "* Change `!=` to `==`?\n",
    "* Change `7 == 10` to `True`?\n",
    "* Change `True` to `False`?\n",
    "* Remove the indentation on line 2?"
   ]
  },
  {
   "cell_type": "code",
   "execution_count": 3,
   "id": "5066e11d-8859-43b0-bcd5-4d10fe8e9f29",
   "metadata": {},
   "outputs": [],
   "source": [
    "# 👇👇 Place your code below this line 👇👇\n",
    "# run it by typing `ctrl + enter-key' on your keyboard"
   ]
  },
  {
   "cell_type": "markdown",
   "id": "59f23b9c-0136-4257-a81f-17c0e993de4f",
   "metadata": {},
   "source": [
    "## Multiple `if` Statements\n",
    "It is not uncommon for the value of a single variable to be tested **multiple** times. Be sure to cover **all** required possible values of a variable.\n",
    "\n",
    "**Enter the following code into the Code Cell below, run it by typing ctrl + enter-key on your keyboard:**\n",
    "\n",
    "```python\n",
    "grade = 90\n",
    "\n",
    "if grade > 70:\n",
    "    print(\"Congrats, you passed the class\")\n",
    "    \n",
    "if grade < 70:\n",
    "    print(\"Condolences, you did not pass the class\")\n",
    "```"
   ]
  },
  {
   "cell_type": "code",
   "execution_count": 4,
   "id": "82d2b9d0-2e2f-41db-834d-a086d87d3298",
   "metadata": {},
   "outputs": [],
   "source": [
    "# 👇👇 Place your code below this line 👇👇\n",
    "# run it by typing `ctrl + enter-key' on your keyboard"
   ]
  },
  {
   "cell_type": "markdown",
   "id": "ec9c3b2f-dfc3-451d-84a6-2d8826c6b837",
   "metadata": {},
   "source": [
    "<div style=\"background-color: #F8F8F8; border: 4px solid #30D5C8; padding: 10px; border-radius: 5px;\">\n",
    "    \n",
    "## What happens if you...\n",
    "* Change `grade` to `60`?\n",
    "* Change `grade` to `70`?\n",
    "* Change `grade > 70` to `grade >= 70`?"
   ]
  },
  {
   "cell_type": "code",
   "execution_count": 5,
   "id": "a90a00c5-870a-46da-9ead-02eb0a25ffc7",
   "metadata": {},
   "outputs": [],
   "source": [
    "# 👇👇 Place your code below this line 👇👇\n",
    "# run it by typing `ctrl + enter-key' on your keyboard"
   ]
  },
  {
   "cell_type": "markdown",
   "id": "6cc3ed3e-b5aa-435b-85a8-b301e1ce24f7",
   "metadata": {},
   "source": [
    "If there are multiple if-statements, the computer will check each one individually, regardless of how any of the others evaluated to True:\n",
    "\n",
    "**Enter the following code into the Code Cell below, run it by typing ctrl + enter-key on your keyboard:**\n",
    "\n",
    "```python\n",
    "grade = 90\n",
    "\n",
    "if grade > 70:\n",
    "    print(\"Congrats, you passed the class with flying colors.\")\n",
    "\n",
    "if grade >= 70:\n",
    "    print(\"Congrats, you passed the class, barely.\")\n",
    "    \n",
    "if grade < 70:\n",
    "    print(\"Condolences, you did not pass the class\")\n",
    "```\n"
   ]
  },
  {
   "cell_type": "code",
   "execution_count": 6,
   "id": "61b3d8d7-684a-4c74-ac2d-9a0b6a2e00f3",
   "metadata": {},
   "outputs": [],
   "source": [
    "# 👇👇 Place your code below this line 👇👇\n",
    "# run it by typing `ctrl + enter-key' on your keyboard"
   ]
  },
  {
   "cell_type": "markdown",
   "id": "09cc784f-9408-4392-a86e-38fcb07fead6",
   "metadata": {},
   "source": [
    "When you run the code above, what did you notice? The first condition: `grade > 70` is True, but so is the on in the second if-statement: `grade >= 70`, so we get two conflicting output statements."
   ]
  },
  {
   "cell_type": "markdown",
   "id": "e0e95159-ba2a-4907-a9d5-dd3dd36fc783",
   "metadata": {},
   "source": [
    "<div style=\"background-color: #F8F8F8; border: 4px solid #30D5C8; padding: 10px; border-radius: 5px;\">\n",
    "    \n",
    "### How might you change the code above to ensure only one output is displayed?\n",
    "\n",
    "<details>\n",
    "  <summary><b>CLICK TO SEE THE ANSWER!</b></summary>\n",
    "\n",
    "It's true that 90 is greater than 70, so the first if-statement will be True. \n",
    "\n",
    "```python\n",
    "grade = 90\n",
    "\n",
    "if grade > 70:\n",
    "    print(\"Congrats, you passed the class with flying colors.\")\n",
    "```\n",
    "\n",
    "It's also true to say that 90 is greater than OR equal to 70, so the second if-statement will be True.\n",
    "\n",
    "```python\n",
    "if grade >= 70:\n",
    "    print(\"Congrats, you passed the class, barely.\")\n",
    "```    \n",
    "\n",
    "Since the computer will check and evaluate each if-statement separately, this is a logic error in our program. Both print statements will output when we really just want the first:\n",
    "\n",
    "`Congrats, you passed the class with flying colors.`\n",
    "`Congrats, you passed the class, barely.`\n",
    "\n",
    "To fix this, ensure the conditions are distinct:\n",
    "\n",
    "```python\n",
    "grade = 90\n",
    "\n",
    "if grade > 70:\n",
    "    print(\"Congrats, you passed the class with flying colors.\")\n",
    "\n",
    "if grade == 70:\n",
    "    print(\"Congrats, you passed the class, barely.\")\n",
    "    \n",
    "if grade < 70:\n",
    "    print(\"Condolences, you did not pass the class\")\n",
    "```\n",
    "\n",
    "Now each if-statement covers a completely different range of possible numbers `grade` could be compared to, and they can't overlap.\n",
    "\n",
    "You'll see another way to enforce this kind of **mutual exclusion** between conditions, when we discuss the **elif Statement** a bit later.\n",
    "\n",
    "</details>"
   ]
  },
  {
   "cell_type": "markdown",
   "id": "0290cf2e-a26b-446d-94bd-7cb060491458",
   "metadata": {},
   "source": [
    "# The else-statement\n",
    "----------\n",
    "An `else` statement is used to execute a block of code if the preceding `if` statement is `False`. The `else` keyword is aligned with the `if` keyword that precedes it. \n",
    "\n",
    "## else-statement syntax\n",
    "\n",
    "![syntax for a python if-statement paired with an else-statement](../images/if-else-statement-syntax.png)\n",
    "\n",
    "\n",
    "Notice, the `else` keyword requires a colon,`:` and **does not** have a conditional (`True` / `False`) statement. \n",
    "\n",
    "**Enter the following code into the Code Cell below, run it by typing ctrl + enter-key on your keyboard:**\n",
    "\n",
    "\n",
    "```python\n",
    "if 5 > 4:\n",
    "    print(\"The boolean expression is True\")\n",
    "else:\n",
    "    print(\"The boolean expression is False\")\n",
    "\n",
    "if 5 < 4:\n",
    "    print(\"The boolean expression is True\")\n",
    "else:\n",
    "    print(\"The boolean expression is False\")\n",
    "```\n"
   ]
  },
  {
   "cell_type": "code",
   "execution_count": 7,
   "id": "976873d3-ebf6-494b-b5fe-8e2029ffbcb8",
   "metadata": {},
   "outputs": [],
   "source": [
    "# 👇👇 Place your code below this line 👇👇\n",
    "# run it by typing `ctrl + enter-key' on your keyboard"
   ]
  },
  {
   "cell_type": "markdown",
   "id": "f8972807-1da3-4fd1-9ac8-fa3a2cfbb829",
   "metadata": {},
   "source": [
    "<div style=\"background-color: #F8F8F8; border: 4px solid #30D5C8; padding: 10px; border-radius: 5px;\">\n",
    "\n",
    "## What happens if you...\n",
    "* Change `4` to `6`?\n",
    "* Indent the `else` statement four spaces?"
   ]
  },
  {
   "cell_type": "code",
   "execution_count": 8,
   "id": "c196d545-4abe-4b72-b193-43276f1ad21d",
   "metadata": {},
   "outputs": [],
   "source": [
    "# 👇👇 Place your code below this line 👇👇\n",
    "# run it by typing `ctrl + enter-key' on your keyboard"
   ]
  },
  {
   "cell_type": "markdown",
   "id": "ccb5eab1-f1bf-4207-b1ed-da0e9d604582",
   "metadata": {},
   "source": [
    "## The `else` ensures at least one action is taken\n",
    "One way to think about the `else` statement, is it acts as the \"catch all\" in the case it's corresponding `if` statement is False. \n",
    "\n",
    "`if` statements on their own may or may not generate an outcome. In this code, the only output we will get is `Goodbye.`\n",
    "\n",
    "**Enter the following code into the Code Cell below, run it by typing ctrl + enter-key on your keyboard:**\n",
    "\n",
    "\n",
    "```python\n",
    "age = 10\n",
    "\n",
    "if age > 100:\n",
    "  print(\"You've lived so long!\")\n",
    "\n",
    "print(\"Goodbye.\")\n",
    "```"
   ]
  },
  {
   "cell_type": "code",
   "execution_count": 9,
   "id": "d8e578fa-d331-43ee-9f3a-42697770b241",
   "metadata": {},
   "outputs": [],
   "source": [
    "# 👇👇 Place your code below this line 👇👇\n",
    "# run it by typing `ctrl + enter-key' on your keyboard"
   ]
  },
  {
   "cell_type": "markdown",
   "id": "dc17a751-fdd9-4c2a-89ca-68f1002876fe",
   "metadata": {},
   "source": [
    "But only getting a message if you are older than 100 doesn't make for a very user friendly program.  It might be better to have something output in *either* case. This is where the `else` statement can help up by acting as a catch all.\n",
    "\n",
    "**Enter the following code into the Code Cell below, run it by typing ctrl + enter-key on your keyboard:**\n",
    "\n",
    "\n",
    "```python\n",
    "age = 10\n",
    "\n",
    "if age > 100:\n",
    "  print(\"You've lived so long!\")\n",
    "else:\n",
    "  print(\"Enjoy your youth!\")\n",
    "\n",
    "print(\"Goodbye.\")\n",
    "```"
   ]
  },
  {
   "cell_type": "code",
   "execution_count": 10,
   "id": "5270fdb0-1c5e-46a9-a9e4-282ccbda78e8",
   "metadata": {},
   "outputs": [],
   "source": [
    "# 👇👇 Place your code below this line 👇👇\n",
    "# run it by typing `ctrl + enter-key' on your keyboard"
   ]
  },
  {
   "cell_type": "markdown",
   "id": "c9a87118-33cb-40e4-91c0-d756d8c377e6",
   "metadata": {},
   "source": [
    "Now this code reads as: if age is greater than 100 output the message \"You've lived so long\", but in all other cases where that is False output \"Enjoy your youth!\".\n",
    "\n",
    "\n",
    "When an `if` statement is paired with an `else` statement, it guarantees at least *something* will happen after the boolean condition in the `if` statement evaluates. \n",
    "\n",
    "----------\n",
    "\n",
    "### Example: evaluating a boolean variable\n",
    "\n",
    "The `else` statement is used the execute a block of code if its preceding `if` statement is `False`. If we store a boolean `True` or `False` value in a variable, we can check it's value as the condition:\n",
    "\n",
    "**Enter the following code into the Code Cell below, run it by typing ctrl + enter-key on your keyboard:**\n",
    "\n",
    "\n",
    "```python\n",
    "my_bool = False\n",
    "\n",
    "if my_bool:\n",
    "    print(\"The value of my_bool is True\")\n",
    "else:\n",
    "    print(\"The value of my_bool is False\")\n",
    "```\n",
    "\n",
    "\n",
    "\n"
   ]
  },
  {
   "cell_type": "code",
   "execution_count": 11,
   "id": "c08d0d8d-600c-4fc5-abbf-9c67cb2ad1be",
   "metadata": {},
   "outputs": [],
   "source": [
    "# 👇👇 Place your code below this line 👇👇\n",
    "# run it by typing `ctrl + enter-key' on your keyboard"
   ]
  },
  {
   "cell_type": "markdown",
   "id": "644c954c-1d34-4bf0-952f-fca5bdfae433",
   "metadata": {},
   "source": [
    "<div style=\"background-color: #F8F8F8; border: 4px solid #30D5C8; padding: 10px; border-radius: 5px;\">\n",
    "\n",
    "## What happens if you...\n",
    "* Change the value of `my_bool` to `False`?\n",
    "* Change the value of `my_bool` to `not True and not False`?\n"
   ]
  },
  {
   "cell_type": "code",
   "execution_count": 12,
   "id": "49fe36b5-1ba3-4b65-a094-5d6336a6fa9b",
   "metadata": {},
   "outputs": [],
   "source": [
    "# 👇👇 Place your code below this line 👇👇\n",
    "# run it by typing `ctrl + enter-key' on your keyboard"
   ]
  },
  {
   "cell_type": "markdown",
   "id": "feb176f7-ee64-46bf-ba21-64962186a9ec",
   "metadata": {},
   "source": [
    "## Example: Even or Odd\n",
    "\n",
    "The **modulus operator (%)** returns the remainder of a division operation.\n",
    "\n",
    "We can use the **mod operator** in conjunction with the `if` and `else` statements to determine whether a number is *even* or *odd*. Specifically, calculate the modulo (%) of any number and 2 to determine whether it is *even* or *odd*.\n",
    "\n",
    "**Even**\n",
    "* If the modulo of a number and 2 is 0, then the number is *even*\n",
    "\n",
    "**Odd**\n",
    "* if the modulo of a number and 2 is 1, then the number is *odd*\n",
    "\n",
    "**Enter the following code into the Code Cell below, run it by typing ctrl + enter-key on your keyboard:**\n",
    "\n",
    "```python\n",
    "\n",
    "num = 4\n",
    "\n",
    "if num % 2 == 0:\n",
    "    print(f\"{num} is an even number\")\n",
    "else:\n",
    "    print(f\"{num} is an odd number\")\n",
    "```\n",
    "\n"
   ]
  },
  {
   "cell_type": "code",
   "execution_count": 13,
   "id": "6d55e667-2f62-4abf-802b-82129587dfac",
   "metadata": {},
   "outputs": [],
   "source": [
    "# 👇👇 Place your code below this line 👇👇\n",
    "# run it by typing `ctrl + enter-key' on your keyboard"
   ]
  },
  {
   "cell_type": "markdown",
   "id": "3877a6de-1d9e-487a-9c15-1c0ac157cd68",
   "metadata": {},
   "source": [
    "<div style=\"background-color: #F8F8F8; border: 4px solid #30D5C8; padding: 10px; border-radius: 5px;\">\n",
    "\n",
    "## What happens if you...\n",
    "* Change `num` to `3`?\n",
    "* Change `num` to `0`?\n",
    "* Change `num` to `-8`? "
   ]
  },
  {
   "cell_type": "code",
   "execution_count": 14,
   "id": "0d88bc28-2cff-480f-bbd8-24246a43c472",
   "metadata": {},
   "outputs": [],
   "source": [
    "# 👇👇 Place your code below this line 👇👇\n",
    "# run it by typing `ctrl + enter-key' on your keyboard"
   ]
  },
  {
   "cell_type": "markdown",
   "id": "46f9eb15-79bb-4c1b-844d-da46290aea58",
   "metadata": {},
   "source": [
    "# The elif-statement\n",
    "----------\n",
    "The `elif` statement is written similarly to the `if` statement. However, there are few differences:\n",
    "\n",
    "* An `if` statement must come before the first `elif` statement\n",
    "* An `elif` statement is followed by a boolean expression and a colon `:`\n",
    "* The code executed by an `elif` statement when its condition is `True` must be properly indented (four spaces) \n",
    "* After the first `if` statement, there is no limit to the amount of `elif` statements that can be used\n",
    "* An `else` statement may (and can only) come after the last `elif` statement\n",
    "\n",
    "<details>\n",
    "  <summary><b>What does <code>elif</code> mean?</b></summary>\n",
    "  <code>elif</code> is an abbreviation of <code>else</code> and <code>if</code>. Since <code>elif</code> statements are common, the command was simplified so programmers would not have to write <code>else if</code>.\n",
    "</details>\n",
    "\n",
    "## Elif-statement syntax\n",
    "\n",
    "![syntax for a python elif-statement](../images/elif-statement.png)\n",
    "\n",
    "**Enter the following code into the Code Cell below, run it by typing ctrl + enter-key on your keyboard:**\n",
    "\n",
    "```python\n",
    "a = 20\n",
    "\n",
    "if a < 10:\n",
    "    print(str(a) + \" is less than 10\")\n",
    "elif a < 20:\n",
    "    print(str(a) + \" is less than 20\")\n",
    "elif a < 30:\n",
    "    print(str(a) + \" less than 30\")\n",
    "else:\n",
    "    print(str(a) + \" is greater than 30\")\n",
    "```\n"
   ]
  },
  {
   "cell_type": "code",
   "execution_count": 15,
   "id": "7c43b3dc-39a4-4795-80bd-d841fac0748c",
   "metadata": {},
   "outputs": [],
   "source": [
    "# 👇👇 Place your code below this line 👇👇\n",
    "# run it by typing `ctrl + enter-key' on your keyboard"
   ]
  },
  {
   "cell_type": "markdown",
   "id": "3c7f9ce6-81ec-44c7-b304-1186f2e3ee31",
   "metadata": {},
   "source": [
    "<div style=\"background-color: #F8F8F8; border: 4px solid #30D5C8; padding: 10px; border-radius: 5px;\">\n",
    "\n",
    "## What happens if you...\n",
    "* Change `a` to `0`?\n",
    "* Change `a` to `100`?\n",
    "* Change `a` to `30`? (How can you fix this?)"
   ]
  },
  {
   "cell_type": "code",
   "execution_count": 16,
   "id": "9c42f413-6a10-4a25-ad0b-04e25d5c4c77",
   "metadata": {},
   "outputs": [],
   "source": [
    "# 👇👇 Place your code below this line 👇👇\n",
    "# run it by typing `ctrl + enter-key' on your keyboard"
   ]
  },
  {
   "cell_type": "markdown",
   "id": "e30ca200-ca1c-4d3a-8e05-f510a0406bf4",
   "metadata": {},
   "source": [
    "----------\n",
    "While the `if` statement asks a single question: \"Is this true?\", an `if` followed by an `else` statement asks two questions: \"Is this true, or is this false?\". \n",
    "\n",
    "The `elif` statement is used after an `if` statement and before any possible `else` statements. It can be used to ask multiple questions: \"Is this true, or is this other thing true, or is this other thing true, or are none of the above true?\"\n",
    "\n",
    "## if vs elif vs else\n",
    "\n",
    "![if vs elif vs else](../images/if-vs-else-vs-elif.png)\n",
    "\n",
    "\n",
    "**Enter the following code into the Code Cell below, run it by typing ctrl + enter-key on your keyboard:**\n",
    "\n",
    "```python\n",
    "grade = 82\n",
    "\n",
    "if grade < 70:\n",
    "    print(\"You got an F.\")\n",
    "elif grade < 80:\n",
    "    print(\"You got a C.\")\n",
    "elif grade < 90:\n",
    "    print(\"You got a B.\")\n",
    "else:\n",
    "    print(\"You got an A.\")\n",
    "```\n"
   ]
  },
  {
   "cell_type": "code",
   "execution_count": 17,
   "id": "0a51dce5-46c2-461a-bba3-a6e400d58bc2",
   "metadata": {},
   "outputs": [],
   "source": [
    "# 👇👇 Place your code below this line 👇👇\n",
    "# run it by typing `ctrl + enter-key' on your keyboard"
   ]
  },
  {
   "cell_type": "markdown",
   "id": "6418c347-891e-43fe-a620-b29086030821",
   "metadata": {},
   "source": [
    "The code provided above reads like this:\n",
    "\n",
    "Is the grade less than 70? If not then ask...\n",
    "\n",
    "...is the grade less than 80? If not then ask...\n",
    "\n",
    "...is the grade less than 90? If not then....\n",
    "\n",
    "...display \"You got an A\"\n",
    "\n",
    "Each `elif` statement can only be reached if the preceeding `elif` or `if` statements condtions were found to be False.\n",
    "\n",
    "The `else` statement is only reached if all the previous `if` and `elif` statement conditions were False. "
   ]
  },
  {
   "cell_type": "markdown",
   "id": "b53a6663-2a58-4ab5-aeb9-460d5909e421",
   "metadata": {},
   "source": [
    "<div style=\"background-color: #F8F8F8; border: 4px solid #30D5C8; padding: 10px; border-radius: 5px;\">\n",
    "\n",
    "### What if we add another condition to be checked...\n",
    "Add the letter grade D which is any grade from 60 to 69?"
   ]
  },
  {
   "cell_type": "code",
   "execution_count": 18,
   "id": "ea76b15b-a0f1-4955-a937-6e20c458faa2",
   "metadata": {},
   "outputs": [],
   "source": [
    "# 👇👇 Place your code below this line 👇👇\n",
    "# run it by typing `ctrl + enter-key' on your keyboard"
   ]
  },
  {
   "cell_type": "markdown",
   "id": "c745c4c2-0fac-49a5-abc4-c13fce4ed05c",
   "metadata": {},
   "source": [
    "### **Testing Your Code**\n",
    "Change `grade` to `65`. You should see `You got a D.` as the output of your program.\n",
    "<details>\n",
    "  <summary><strong>Hint</strong></summary>\n",
    "  You need to change the if statement and add another <code>elif</code> statement.\n",
    "</details>"
   ]
  },
  {
   "cell_type": "code",
   "execution_count": 19,
   "id": "8bfe5660-85dd-4bb9-83d8-0eb7c3107e3c",
   "metadata": {},
   "outputs": [],
   "source": [
    "# 👇👇 Place your code below this line 👇👇\n",
    "# run it by typing `ctrl + enter-key' on your keyboard"
   ]
  },
  {
   "cell_type": "markdown",
   "id": "ec06e79e-6ad4-4c14-baac-c30218357f0d",
   "metadata": {},
   "source": [
    "# The Efficiency of `elif` Statements\n",
    "----------\n",
    "Examine the image below. It shows two programs that do the same thing: calculates a letter grade based on a numeric value. \n",
    "\n",
    "Consider the following image:\n",
    "\n",
    "\n",
    "\n",
    "![efficiency of an elif](../images/efficiency-elif.png)\n",
    "\n",
    "The blue arrows show the flow of the program, and the red star shows what happens when the boolean expression is `True`.\n",
    "\n",
    "All of the `if` statements will run, even after the letter grade has been determined. \n",
    "\n",
    "The `elif` statements will stop once one of them is true. \n",
    "\n",
    "Use the code visualizers below to see how Python steps through the two programs below.\n",
    "\n",
    "## Series of If Statements\n",
    "\n",
    "**Enter the following code into the Code Cell below, run it by typing ctrl + enter-key on your keyboard:**\n",
    "\n",
    "```python\n",
    "grade = 82\n",
    "\n",
    "if grade < 60:\n",
    "    print(\"You got an F.\")\n",
    "if grade >= 60 and grade < 70:\n",
    "    print(\"You got a C.\")\n",
    "if grade >= 70 and grade < 80:\n",
    "    print(\"You got a C.\")\n",
    "if grade >= 80 and grade < 90:\n",
    "    print(\"You got a B.\")\n",
    "if grade >= 90 and grade <= 100:\n",
    "    print(\"You got an A.\")\n",
    "```"
   ]
  },
  {
   "cell_type": "code",
   "execution_count": 20,
   "id": "9be6bca7-13f8-4178-8e79-741d3083c9d2",
   "metadata": {},
   "outputs": [],
   "source": [
    "# 👇👇 Place your code below this line 👇👇\n",
    "# run it by typing `ctrl + enter-key' on your keyboard"
   ]
  },
  {
   "cell_type": "markdown",
   "id": "d2238f9c-d774-4267-89e9-500474eeb235",
   "metadata": {},
   "source": [
    "## Series of Elif Statements\n",
    "\n",
    "**Enter the following code into the Code Cell below, run it by typing ctrl + enter-key on your keyboard:**\n",
    "\n",
    "```python\n",
    "grade = 82\n",
    "\n",
    "if grade < 60:\n",
    "    print(\"You got an F.\")\n",
    "elif grade < 70:\n",
    "    print(\"You got a D.\")\n",
    "elif grade < 80:\n",
    "    print(\"You got a C.\")\n",
    "elif grade < 90:\n",
    "    print(\"You got a B.\")\n",
    "else:\n",
    "    print(\"You got an A.\")\n",
    "```"
   ]
  },
  {
   "cell_type": "code",
   "execution_count": 21,
   "id": "e260a0ef-fed7-4e91-9ad0-75df8216f146",
   "metadata": {},
   "outputs": [],
   "source": [
    "# 👇👇 Place your code below this line 👇👇\n",
    "# run it by typing `ctrl + enter-key' on your keyboard"
   ]
  },
  {
   "cell_type": "markdown",
   "id": "2d7d7f24-c9be-45a9-b694-a3cbad1a283c",
   "metadata": {},
   "source": [
    "# Multiple Conditions, Single Return Statment\n",
    "----------\n",
    "In general, functions should have only *one* return statement.\n",
    "\n",
    "It may seem tempting to set multiple **return** statements in your functions, each inside a different conditional statement.\n",
    "\n",
    " For example, suppose you want to write a program that prints an inspiring quote depending on a user's input:\n",
    "\n",
    "```python\n",
    "def main():\n",
    "    choice = 0\n",
    "    choice = int(input(\"Enter 1, 2, or 3: \"))\n",
    "    print(get_quote(choice))\n",
    "```\n",
    "\n",
    "The code for `get_quote` below works, but isn't ideal. Using multiple return statements in a function can lead to code that is harder to read, maintain, and debug. \n",
    "\n",
    "**Many return statements - not ideal**\n",
    "\n",
    "\n",
    "```python\n",
    "def get_quote(choice):\n",
    "    if choice == 1:\n",
    "        return '\"First, solve the problem. Then, write the code.\" – John Johnson'\n",
    "    elif choice == 2:\n",
    "        return '\"Simplicity is the soul of efficiency.\" – Austin Freeman'\n",
    "    elif choice == 3:\n",
    "        return '\"Don\\'t comment bad code - rewrite it.\" - Brian Kernighan'\n",
    "    else:\n",
    "        return \"Have a nice day!\"\n",
    "\n",
    "main()\n",
    "```\n",
    "\n",
    "Instead, we should adhere to the principle of having one entry point and one exit point in a function as shown below:\n",
    "\n",
    "**Single return statement - one entry, one exit**\n",
    "\n",
    "**Enter the following code into the Code Cell below, run it by typing ctrl + enter-key on your keyboard:**\n",
    "\n",
    "```python\n",
    "def get_quote(choice):\n",
    "    quote = \"\"\n",
    "    if choice == 1:\n",
    "        quote = '\"First, solve the problem. Then, write the code.\" – John Johnson'\n",
    "    elif choice == 2:\n",
    "        quote = '\"Simplicity is the soul of efficiency.\" – Austin Freeman'\n",
    "    elif choice == 3:\n",
    "        quote = '\"Don\\'t comment bad code - rewrite it.\" - Brian Kernighan'\n",
    "    else:\n",
    "        quote = \"Have a nice day!\"\n",
    "\n",
    "    return quote\n",
    "```\n",
    "\n"
   ]
  },
  {
   "cell_type": "code",
   "execution_count": 22,
   "id": "acd9afde-4aa5-475a-90eb-8f364ac41c52",
   "metadata": {},
   "outputs": [],
   "source": [
    "# 👇👇 Place your code below this line 👇👇\n",
    "# run it by typing `ctrl + enter-key' on your keyboard"
   ]
  },
  {
   "cell_type": "markdown",
   "id": "28fc953c-b94a-4829-82b3-198279446c11",
   "metadata": {},
   "source": [
    "In the example above, we create a variable to hold the value of the variable `quote`, which is returned at the end of the function. \n",
    "\n",
    "Having a single exit point makes it easier to set breakpoints and trace the execution flow during debugging. Multiple return statements can make it challenging to determine which one was executed, especially in complex functions.\n"
   ]
  },
  {
   "cell_type": "markdown",
   "id": "165a0817-927d-4dbd-9cf1-dcee85254a10",
   "metadata": {},
   "source": [
    "# Compound Conditionals\n",
    "\n",
    "----------\n",
    "A **compound conditional** is a conditional (`if` statement) that has more than one boolean expression. \n",
    "\n",
    "## Linking boolean expressions together\n",
    "\n",
    "It is here we get to use the **logical operators**: the keyword `and` or the keyword `or` are needed to link boolean expressions together.\n",
    "\n",
    "The `not` keyword can also be used, but only in combination with the keyword`and` or the keyword `or`.\n",
    "\n",
    "**Enter the following code into the Code Cell below, run it by typing ctrl + enter-key on your keyboard:**\n",
    "\n",
    "```python\n",
    "if True and True:\n",
    "    print(\"True\")\n",
    "```"
   ]
  },
  {
   "cell_type": "code",
   "execution_count": 23,
   "id": "d56e246e-b730-4480-8ca5-1e990803d6dd",
   "metadata": {},
   "outputs": [],
   "source": [
    "# 👇👇 Place your code below this line 👇👇\n",
    "# run it by typing `ctrl + enter-key' on your keyboard"
   ]
  },
  {
   "cell_type": "markdown",
   "id": "e59f4640-c884-4e44-a9a6-c6e2769f5480",
   "metadata": {},
   "source": [
    "<div style=\"background-color: #F8F8F8; border: 4px solid #30D5C8; padding: 10px; border-radius: 5px;\">\n",
    "\n",
    "### What happens if you...\n",
    "* Have an if statement that says `if True or False:`?\n",
    "* Have an if statement that says `if not True or False:`?\n",
    "* Have an if statement that says `if True not False:`?\n",
    "* Have an if statement that says `if 5 < 10 and 5 > 0:`?"
   ]
  },
  {
   "cell_type": "code",
   "execution_count": 24,
   "id": "fa02ee27-d9b7-4005-95d0-af424796ebaf",
   "metadata": {},
   "outputs": [],
   "source": [
    "# 👇👇 Place your code below this line 👇👇\n",
    "# run it by typing `ctrl + enter-key' on your keyboard"
   ]
  },
  {
   "cell_type": "markdown",
   "id": "fbeb566e-432d-406d-bf53-c26467870b3d",
   "metadata": {},
   "source": [
    "<details>\n",
    "  <summary><strong>Compound Less Than or Greater Than</strong></summary>\n",
    "  This is Python specific syntax, but it is possible to combine a compound conditional to look like something from a math class. Imagine you have a variable <code>a</code> with the value of <code>5</code>. You can rewrite <code>a < 10 and a > 0</code> to be <code>0 < a < 10</code>.\n",
    "  </details>\n"
   ]
  },
  {
   "cell_type": "markdown",
   "id": "0fa3ff04-0fff-42cb-9b01-f37976759f7c",
   "metadata": {},
   "source": [
    "----------\n",
    "Testing if a number is *even* `and` *greater than* 10 requires a **compound conditional**. \n",
    "\n",
    "**Enter the following code into the Code Cell below, run it by typing ctrl + enter-key on your keyboard:**\n",
    "\n",
    "```python\n",
    "num = 16\n",
    "\n",
    "if num % 2 == 0 and num > 10:\n",
    "    print(\"Even and greater than 10\")\n",
    "```"
   ]
  },
  {
   "cell_type": "code",
   "execution_count": 25,
   "id": "ff0dcabb-0ce5-4283-9c1b-956597cc65a8",
   "metadata": {},
   "outputs": [],
   "source": [
    "# 👇👇 Place your code below this line 👇👇\n",
    "# run it by typing `ctrl + enter-key' on your keyboard"
   ]
  },
  {
   "cell_type": "markdown",
   "id": "c481b775-a2ee-429a-8e44-28475c7d236f",
   "metadata": {},
   "source": [
    "<div style=\"background-color: #F8F8F8; border: 4px solid #30D5C8; padding: 10px; border-radius: 5px;\">\n",
    "\n",
    "### What happens if you...\n",
    "* Change `num` to `8`?\n",
    "* Change `and` to `or`?\n",
    "* Change `==` to `!=`?"
   ]
  },
  {
   "cell_type": "code",
   "execution_count": 26,
   "id": "1ab9a271-67cc-4ddf-9260-54f8c3b62290",
   "metadata": {},
   "outputs": [],
   "source": [
    "# 👇👇 Place your code below this line 👇👇\n",
    "# run it by typing `ctrl + enter-key' on your keyboard"
   ]
  },
  {
   "cell_type": "markdown",
   "id": "e5c828b7-f09f-4d1a-a34a-4cd910fe8558",
   "metadata": {},
   "source": [
    "## Why Use Compound Conditionals\n",
    "\n",
    "Both code snippets below do the same thing — asks if the value of `my_var` is greater than 15 **and** if the value of `my_var` is less than 20.\n",
    "\n",
    "![compound conditional](../images/compound-conditional.png)\n",
    "\n",
    "If both of these conditions are `True`, then the value of `my_var` will be printed. \n",
    "\n",
    "The code on the left is known as a **nested conditional**. Try to avoid **nesting**, if possible. \n",
    "\n",
    "The code with the compound conditional (on the right) has fewer lines of code, and is easier for a human to read. In fact, it almost reads like a sentence.\n"
   ]
  }
 ],
 "metadata": {
  "kernelspec": {
   "display_name": "Python 3 (ipykernel)",
   "language": "python",
   "name": "python3"
  },
  "language_info": {
   "codemirror_mode": {
    "name": "ipython",
    "version": 3
   },
   "file_extension": ".py",
   "mimetype": "text/x-python",
   "name": "python",
   "nbconvert_exporter": "python",
   "pygments_lexer": "ipython3",
   "version": "3.12.5"
  }
 },
 "nbformat": 4,
 "nbformat_minor": 5
}
