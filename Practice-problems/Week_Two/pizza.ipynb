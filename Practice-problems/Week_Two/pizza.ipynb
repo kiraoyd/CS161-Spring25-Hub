{
 "cells": [
  {
   "cell_type": "markdown",
   "id": "400ac795-bcb4-477e-ab1b-fe8b942d3f72",
   "metadata": {},
   "source": [
    "# The Pizza Problem\n",
    "\n",
    "![Image of three different pizza diameters](../../images/pizza_sizes.png)\n",
    "\n",
    "When ordering your next tasty pie, it might be nice to know which size pizza is actually the better deal. To do that we'd need to be able to **determine the cost per square inch of any pizza, based on it's price and size.**\n",
    "\n",
    "The size of a pizza is represented by it's diameter:\n",
    " \n",
    " An 18 inch pizza has a diameter of 18 inches\n",
    " A 12 inch pizza has a diameter of 12 inches\n",
    "\n",
    " ...and so on and so on.\n",
    "\n",
    "But to calculate cost per square inch, we need to also calculate the surface area of a circle from it's diameter; a thing most humans aren't so good at doing in their heads.\n",
    "\n",
    "So lets have a computer do all the work for us.\n",
    "\n"
   ]
  },
  {
   "cell_type": "code",
   "execution_count": null,
   "id": "379f8104-7f81-467c-886c-94602dee2fbb",
   "metadata": {},
   "outputs": [],
   "source": [
    "# 👇👇 Start writing your code for the Pizza Calculator Program below this line 👇👇\n",
    "\n",
    "\n",
    "\n",
    "\n",
    "# When finished, copy this code you wrote into the \"pizza.py\" file and finish filling out the Header Comments found there. Download and submit \"pizza.py\" to the associated Canvas assignment."
   ]
  },
  {
   "cell_type": "markdown",
   "id": "f0ecc617-09ca-462b-bd90-3b9be9d88f65",
   "metadata": {},
   "source": [
    "\n",
    "## Instructions\n",
    "---\n",
    " Design a program that calculates the **cost per square inch** of any size pizza. \n",
    "\n",
    "This program should:\n",
    "\n",
    "- Have a friendly user interface, including a welcome and goodbye message.\n",
    "- Ask for the size of the pizza, in inches, as input.\n",
    "- As for the price of the pizza, in dollars and cents, as input.\n",
    "- Calculate the cost per square inch of this pizza, based on the two input values provided.\n",
    "- Display the final cost per square inch result back to the person using the program.\n",
    "\n",
    "#### You will need these things:\n",
    "\n",
    "\n",
    "The formula to calculate the surface area of a circle is: **surface area = π * r²**\n",
    "\n",
    "The constant value for **π (pi)** is available in the math library:\n",
    "\n",
    "```python3\n",
    "import math\n",
    "pi = math.pi\n",
    "```\n",
    "\n",
    "The cost per square inch of a pizza can be found by diving the price of the pizza by the surface area of the pizza: **cost per square inch = price / surface area**\n",
    "\n",
    "#### BONUS! Rounding your Result\n",
    "   You might want to round the value of your final result, to make the output appear to be in dollars and cents. The `round()` function does just that. To round to **two places** past the decimal point, put inside the parentesis: `round(<number_to_round>, 2)`\n",
    "\n",
    "Example: this should output `$4.57`\n",
    "\n",
    "```python\n",
    "rounded = round(4.56767889, 2)\n",
    "print(f\"${rounded}\")\n",
    "```\n",
    "This code should output `$4.57`\n",
    " \n",
    "\n",
    "## Example Program Output\n",
    "\n",
    "```shell\n",
    "Welcome to the Pizza Calculator Program!\n",
    "Use this program to figure out what the cost per square inch of your pizza is. \n",
    "\n",
    "Enter the diameter of your pizza, in inches: 14\n",
    "Enter the price of your pizza, in dollars and cents: 9.99\n",
    "\n",
    "The cost per square inch of an 14.0 inch pizza is $0.06.\n",
    "\n",
    "Goodbye!\n",
    "```"
   ]
  }
 ],
 "metadata": {
  "kernelspec": {
   "display_name": "Python 3 (ipykernel)",
   "language": "python",
   "name": "python3"
  },
  "language_info": {
   "codemirror_mode": {
    "name": "ipython",
    "version": 3
   },
   "file_extension": ".py",
   "mimetype": "text/x-python",
   "name": "python",
   "nbconvert_exporter": "python",
   "pygments_lexer": "ipython3",
   "version": "3.12.5"
  }
 },
 "nbformat": 4,
 "nbformat_minor": 5
}
