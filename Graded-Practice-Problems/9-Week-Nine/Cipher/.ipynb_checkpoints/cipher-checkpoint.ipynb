{
 "cells": [
  {
   "cell_type": "markdown",
   "id": "e8ebeafb-269a-46a1-8fff-12da4ed1cc70",
   "metadata": {},
   "source": [
    "\n",
    "# Cipher Puzzle\n",
    "\n",
    "Work in Pairs to earn full credit. Put both your names in the Header comments in the cipher.py file.\n",
    "\n",
    "The code below has encrypted a message comprised of common english words into cipher text:\n",
    "\n",
    ">WKHUH LV DOZDBV PRQHB LQ WKH EDQDQD VWDQG\n",
    "\n",
    "**Examine the code in the code cell below like a puzzle.** What is it doing? How does it work? (The same code is also provided in cipher.py). \n",
    "\n",
    "You may see some things in it you will have to look up to understand.\n",
    "\n",
    "**Once you've figured it out, reference the `encrypt()` code to help you write the `decrypt()` function and decipher the cipher text.**\n",
    "\n",
    "Copy your completed code into the cipher.py file and upload to to the Week Nine Practice Problem Canvas Assignment. One one person from each pair needs to submit to Canvas.\n",
    "\n",
    "The `encrypt()` function will work successfully on messages made only of characters that are either letters, or spaces. Punctuation marks and other symbols are not handled for yet, so assume those will not be included in any message provided as input as you run and test the program.\n",
    "\n"
   ]
  },
  {
   "cell_type": "code",
   "execution_count": null,
   "id": "24abf177-71b9-403a-8be7-62658a3a281f",
   "metadata": {
    "scrolled": true
   },
   "outputs": [],
   "source": [
    "def encrypt(alphabet, plain_text, key):\n",
    "    alphabet_length = len(alphabet)\n",
    "    text_length = len(plain_text)\n",
    "    cipher_text = \"\"\n",
    "    \n",
    "    index = 0\n",
    "    while index < text_length:\n",
    "        if plain_text[index] != \" \":\n",
    "            letter_location = 0\n",
    "            while letter_location < alphabet_length:  \n",
    "                upper_case = plain_text[index].upper()\n",
    "                if alphabet[letter_location] == upper_case:\n",
    "                    cipher_letter_location = (letter_location + key) % alphabet_length\n",
    "                    cipher_letter = alphabet[cipher_letter_location]\n",
    "                    cipher_text = cipher_text + cipher_letter     \n",
    "                letter_location = letter_location + 1\n",
    "        else:\n",
    "            cipher_text = cipher_text + \" \"\n",
    "        index = index + 1\n",
    "\n",
    "    return cipher_text\n",
    "\n",
    "#-----WRITE THE DECRYPT FUNCTION HERE------\n",
    "\n",
    "\n",
    "\n",
    "\n",
    "\n",
    "\n",
    "\n",
    "\n",
    "\n",
    "\n",
    "def main():\n",
    "    alphabet = \"ABCDEFGHIJKLMNOPQRSTUVWXYZ\"\n",
    "    key = 3\n",
    "    message = input(\"Enter a message to encrypt (no punctuation marks or symbols): \")\n",
    "    secret_message = encrypt(alphabet, message, key)\n",
    "    print(f\"Your encrypted message is: {secret_message}\")\n",
    "\n",
    "    #Use your decrypt function here to decipher the cipher text\n",
    "\n",
    "main()"
   ]
  },
  {
   "cell_type": "markdown",
   "id": "bd8e7248-8563-4fb6-8992-7d6fac2cf1b2",
   "metadata": {},
   "source": [
    "# BONUS! Hack the Cipher \n",
    "## +3 Extra credit\n",
    "\n",
    "Here is a secret message encrypted using the `encrypt()` function above, but with an unknown key value.\n",
    "\n",
    ">YGGV FWOK WNWJQGFW ANW LSMYZL LZW LGSKLWJ LG XWWD DGNW\n",
    "\n",
    "Write a function that will try every possible key value, attempting to use each one to decrypt the message. Print each decryption attempt and the key used. \n",
    "\n",
    "If this function works correctly, you will be able to quickly discern the unknown key value just from examining the output of your program.\n",
    "\n",
    "A Loop will be helpful here."
   ]
  },
  {
   "cell_type": "markdown",
   "id": "a49c97e1-85da-4f96-b8af-9f5537b4dfd7",
   "metadata": {},
   "source": [
    "# BONUS BONUS! Abstract the Code\n",
    "## +3 Extra Credit\n",
    "\n",
    "The provided encypt() function code could be abstracted further. \n",
    "\n",
    "There is one section in particular that would make a great function on it's own, that could be used in both the `encrypt()` and `decrypt()` functions.\n",
    "\n",
    "Identify and abstract this section of code into it's own reusable function and use it in both `encrypt()` and `decrypt()` corretly.\n",
    "\n"
   ]
  },
  {
   "cell_type": "markdown",
   "id": "b65bc6c9-790e-409b-a682-12aa48547de5",
   "metadata": {},
   "source": [
    "# BONUS BONUS BONUS! Handle symbols\n",
    "## + 3 Extra Credit\n",
    "\n",
    "What if we wanted this program to be able to handle a message input that contains punctuation marks and other symbols? What about numbers?\n",
    "\n",
    "**Let's keep it simple: adapt the code so that any non-alphabetic character found in the message is always skipped when running the encryption.**\n",
    "\n",
    "A message input of: \n",
    "\n",
    ">\"12 omg!!!!!\"\n",
    "\n",
    "Might be encrypted to simply: \n",
    "\n",
    ">\" QOI\", depending on the key used.\n",
    "\n",
    "Hint: you will need to look up some python function(s) that can help determine if a character is alphabetic or not."
   ]
  },
  {
   "cell_type": "markdown",
   "id": "d6b48e38-d682-40b4-bcd8-b455603361ba",
   "metadata": {},
   "source": [
    "# BONUS BONUS BONUS BONUS!! Handle uppercase VS lowercase\n",
    "## +3 Extra Credit\n",
    "\n",
    "What if we also wanted the encrypted text to preserve the upper and lowercase nature of each character?\n",
    "\n",
    "For example:\n",
    "\n",
    "Message input: \n",
    "\n",
    ">\"My SPOON is too big!\"\n",
    "\n",
    "Might then be encrypted to: \n",
    "\n",
    ">\"Se YVUUT oy zuu hom\"\n",
    "\n",
    "...depending on the key used.\n",
    "\n",
    "**Adapt the code to preseve upper and lower case letters in the cipher text.**\n",
    "\n",
    "Hint: you will need to look up some python function(s) that can help determine if an alphabetic character is uppercase or lowercase. "
   ]
  }
 ],
 "metadata": {
  "kernelspec": {
   "display_name": "Python 3 (ipykernel)",
   "language": "python",
   "name": "python3"
  },
  "language_info": {
   "codemirror_mode": {
    "name": "ipython",
    "version": 3
   },
   "file_extension": ".py",
   "mimetype": "text/x-python",
   "name": "python",
   "nbconvert_exporter": "python",
   "pygments_lexer": "ipython3",
   "version": "3.12.5"
  }
 },
 "nbformat": 4,
 "nbformat_minor": 5
}
