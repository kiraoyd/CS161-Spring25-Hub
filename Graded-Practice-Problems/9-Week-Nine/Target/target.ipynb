{
 "cells": [
  {
   "cell_type": "markdown",
   "id": "737245bd-9ef2-4217-bab9-db2a44cf5572",
   "metadata": {},
   "source": [
    "# Search and Destroy\n",
    "\n",
    "Write a program that iterates over a List of integers, searching for some target value.\n",
    "\n",
    "Whenever the target value is found, overwrite that value to `0` (zero).\n",
    "\n",
    "## Instructions\n",
    "\n",
    "You may program everything in `main()`.\n",
    "\n",
    "### 1) Gather the data and store it in a List.\n",
    "\n",
    "Create an empty List.\n",
    "\n",
    "Gather integer data in an input loop, terminated by the value, `-1`, and store this data in the List.\n",
    "\n",
    "Print the List to see it's contents.\n",
    "\n",
    "### 2) Iterate over the List and process the Data\n",
    "\n",
    "Determine the length of the List using `len()`.\n",
    "\n",
    "Iterate over the List, starting at the first value (at index 0).\n",
    "\n",
    "At every index, check to see if the value stored there is the target value. If it is, overwrite that value to a `0`.\n",
    "\n",
    "Stop iterating after processsing the last value (at index length - 1).\n",
    "\n",
    "### 3) Verify\n",
    "\n",
    "Print the List now to see it's contents after all target values (if any found) are zeroed out.\n",
    "\n",
    "\n"
   ]
  },
  {
   "cell_type": "code",
   "execution_count": 1,
   "id": "36f8e07d-f2ae-4b38-9344-1caf4fff01b4",
   "metadata": {},
   "outputs": [],
   "source": [
    "# 👇👇 Start writing your code for the Search and Destroy program below this line 👇👇\n",
    "\n",
    "\n",
    "\n",
    "\n",
    "# When finished, copy this code you wrote into the \"target.py\" file and finish filling out the Header Comments found there. Download and submit this .py file to the associated Canvas assignment"
   ]
  }
 ],
 "metadata": {
  "kernelspec": {
   "display_name": "Python 3 (ipykernel)",
   "language": "python",
   "name": "python3"
  },
  "language_info": {
   "codemirror_mode": {
    "name": "ipython",
    "version": 3
   },
   "file_extension": ".py",
   "mimetype": "text/x-python",
   "name": "python",
   "nbconvert_exporter": "python",
   "pygments_lexer": "ipython3",
   "version": "3.12.5"
  }
 },
 "nbformat": 4,
 "nbformat_minor": 5
}
