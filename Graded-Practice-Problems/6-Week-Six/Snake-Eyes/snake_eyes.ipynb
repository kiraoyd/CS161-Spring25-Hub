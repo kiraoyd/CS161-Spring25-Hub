{
 "cells": [
  {
   "cell_type": "markdown",
   "id": "8a9bd202-9bc7-492b-a17f-60a4d58742a4",
   "metadata": {},
   "source": [
    "# Snake Eyes\n",
    "\n",
    "![two die both rolling a 1](../../../images/snake_eyes.png)\n",
    "\n",
    "\n",
    "In this program, we will be calculating the chances of getting *snake eyes*--rolling a pair of dice and obtaining two 1's. We will calculate our probabilities using a while-loop to create a **Monte Carlo Simulation**. \n",
    "\n",
    "### 1) Write the **function definition header**\n",
    "\n",
    "Name your function: `snake_eyes()`.\n",
    "\n",
    "### 2) Write the **function body code**\n",
    "The **function body** code should accept one value passed into the **parameter**, called `n`. The value of `n` will indicate the number of trials our program should run. \n",
    "\n",
    "For each trial, randomly generate a pair of dice values (1-6) using random.randint(). If both dice have the value 1, it's snake eyes, count it! Repeat `n` number of times. \n",
    "\n",
    "**Return** the calculated probability which should be around `2.77%`.\n",
    "\n",
    "### Hints\n",
    "The probability result of a Monte Carlo simulation is calculated by dividing the total number of successes by the total number of trials and multiplying the result by 100. That is,\n",
    "\n",
    "```python\n",
    "probability = (success/trials) * 100\n",
    "```\n",
    "\n",
    "### Note\n",
    "* Due to the random nature of this program, the result will not always be ~2.77%\n",
    "* As a result, you may have to run the program several times\n",
    "\n",
    "### 3) Use the function in main()\n",
    "\n",
    "Define a `main()` function. \n",
    "\n",
    "Prompt the user for some positive, integer-valued number. Store the user's **input** in some **variable**.\n",
    "\n",
    "Call the `snake_eyes()` function you wrote, from `main()`. Pass it the input value (you will want to input a value of at least 10000 to get good probability). Let `snake_eyes()` do its work, then catch and store the returning probability value in `main().`\n",
    "\n",
    "Output a message displaying the probability results of the simulation. \n",
    "\n",
    "### 4) Terminating message in main()\n",
    "\n",
    "Before the program terminates, display a message that says: \"Goodbye!\".\n",
    "\n",
    "\n",
    "\n",
    "### Example Output\n",
    "```txt\n",
    "Enter the number of trials to run: 100000\n",
    "\n",
    "The probability of getting snake eyes is: 2.77%\n",
    "\n",
    "Goodbye!\n",
    "```\n",
    "\n",
    "\n",
    "\n",
    "\n",
    "\n",
    "\n"
   ]
  },
  {
   "cell_type": "code",
   "execution_count": null,
   "id": "7fb77a3f-4840-406b-9f80-fb2396a978db",
   "metadata": {},
   "outputs": [],
   "source": [
    "# 👇👇 Start writing your code for the Snake Eyes program below this line 👇👇\n",
    "\n",
    "\n",
    "\n",
    "\n",
    "# When finished, copy this code you wrote into the \"pokemon.py\" file and finish filling out the Header Comments found there. Download and submit this .py file to the associated Canvas assignment"
   ]
  }
 ],
 "metadata": {
  "kernelspec": {
   "display_name": "Python 3 (ipykernel)",
   "language": "python",
   "name": "python3"
  },
  "language_info": {
   "codemirror_mode": {
    "name": "ipython",
    "version": 3
   },
   "file_extension": ".py",
   "mimetype": "text/x-python",
   "name": "python",
   "nbconvert_exporter": "python",
   "pygments_lexer": "ipython3",
   "version": "3.12.5"
  }
 },
 "nbformat": 4,
 "nbformat_minor": 5
}
