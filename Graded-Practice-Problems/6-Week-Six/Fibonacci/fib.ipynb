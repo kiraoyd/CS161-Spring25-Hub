{
 "cells": [
  {
   "cell_type": "markdown",
   "id": "1999d897-1283-4a3a-915b-226aa2272ba9",
   "metadata": {},
   "source": [
    "# Fibonacci Sequence\n",
    "\n",
    "The fibonacci sequence is a famous sequence of numbers, where each new fibonacci number is calculated as the sum of the previous two:\n",
    "\n",
    "**0, 1, 1, 2, 3, 5, 8, 13, 21, 34, 55, 89 ..... etc**\n",
    "\n",
    ">1st fib -> **0**\n",
    ">\n",
    ">2nd fib -> **1**\n",
    ">\n",
    ">3rd fib -> 0 + 1 = **1**\n",
    ">\n",
    ">4th fib -> 1 + 1 = **2**\n",
    ">\n",
    ">5th fib -> 1 + 2 = **3**\n",
    ">\n",
    ">6th fib -> 2 + 3 = **5**\n",
    ">\n",
    ">7th fib -> 3 + 5 = **8**\n",
    "\n",
    "etc...\n",
    "\n",
    "\n",
    "Write a function called `fibonacci` that takes one argument, a value for **n**. The functions job is to caclulate the **nth fibonacci number**. This function must use a **while-loop** to get the job done. This function should **return** the nth fibonacci number.\n",
    "\n",
    "Gather the value for **n** as input in `main()`. Call the fibonacci function from `main()`, catch and output the returning value for the nth fibonacci number from `main()`.\n",
    "\n",
    "### Test Cases\n",
    "\n",
    "| Input | Output |\n",
    "|---------|----------|\n",
    "| 4 | 2  |\n",
    "| 8 | 13  |\n",
    "| 1 | 0  |\n",
    "| 2 | 1  |\n",
    "| 13 | 144  |\n",
    "\n"
   ]
  },
  {
   "cell_type": "code",
   "execution_count": null,
   "id": "8c9f3088-4b3d-48ac-b4cf-a58a09883567",
   "metadata": {},
   "outputs": [],
   "source": [
    "# 👇👇 Start writing your code for the Fibonacci program below this line 👇👇\n",
    "\n",
    "\n",
    "\n",
    "\n",
    "# When finished, copy this code you wrote into the \"fib.py\" file and finish filling out the Header Comments found there. Download and submit this .py file to the associated Canvas assignment"
   ]
  }
 ],
 "metadata": {
  "kernelspec": {
   "display_name": "Python 3 (ipykernel)",
   "language": "python",
   "name": "python3"
  },
  "language_info": {
   "codemirror_mode": {
    "name": "ipython",
    "version": 3
   },
   "file_extension": ".py",
   "mimetype": "text/x-python",
   "name": "python",
   "nbconvert_exporter": "python",
   "pygments_lexer": "ipython3",
   "version": "3.12.5"
  }
 },
 "nbformat": 4,
 "nbformat_minor": 5
}
