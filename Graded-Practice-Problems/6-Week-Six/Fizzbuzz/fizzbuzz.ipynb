{
 "cells": [
  {
   "cell_type": "markdown",
   "id": "b63fa5a2-6997-4f56-b2f4-3f1e6c950a58",
   "metadata": {},
   "source": [
    "## Fizzbuzz\n",
    "\n",
    "**Use a While-Loop to Print Certain Numbers**\n",
    "\n",
    "Write a function that takes one positive, integer-valued argument, called *n*. The function should iterate over every number between 0 and *n*, inclusive, following the rules below:\n",
    "\n",
    "* If a number is divisible by 3, print \"Fizz\"\n",
    "\n",
    "* If a number is divisible by 5, print \"Buzz\"\n",
    "\n",
    "* If a number is divisible by 3 **AND** 5, print \"FizzBuzz\"\n",
    "\n",
    "If a number does not meet any of the above criteria, simply display the number. \n",
    "\n",
    "# Instructions\n",
    "\n",
    "### 1) Write the **function definition header**\n",
    "\n",
    "Name your function: `fizz_buzz()`.\n",
    "\n",
    "\n",
    "### 2) Write the **function body code**\n",
    "The **function body** code should use the value passed into the **parameter** to perform the job of the function. \n",
    "\n",
    "This function should iterate over every number from 0 to *n*, inclusive using the rules defined above. \n",
    "\n",
    "This function should **NOT** return anything.\n",
    "\n",
    "### 3) Use the function in main()\n",
    "\n",
    "Define a `main()` function. \n",
    "\n",
    "Prompt the user for some positive, integer-valued number. Store the user's **input** in some **variable**.\n",
    "\n",
    "Call the `fizz_buzz()` function you wrote, from `main()`, passing it the input value you just stored. \n",
    "\n",
    "### 4) Terminating message in main()\n",
    "\n",
    "Before the program terminates, display a message that says: \"Goodbye!\".\n"
   ]
  },
  {
   "cell_type": "code",
   "execution_count": null,
   "id": "a514e858-d6ca-4659-b1f0-d04b1d71f2a2",
   "metadata": {},
   "outputs": [],
   "source": [
    "# 👇👇 Start writing your code for the Fizzbuzz program below this line 👇👇\n",
    "\n",
    "\n",
    "\n",
    "\n",
    "# When finished, copy this code you wrote into the \"pokemon.py\" file and finish filling out the Header Comments found there. Download and submit this .py file to the associated Canvas assignment."
   ]
  }
 ],
 "metadata": {
  "kernelspec": {
   "display_name": "Python 3 (ipykernel)",
   "language": "python",
   "name": "python3"
  },
  "language_info": {
   "codemirror_mode": {
    "name": "ipython",
    "version": 3
   },
   "file_extension": ".py",
   "mimetype": "text/x-python",
   "name": "python",
   "nbconvert_exporter": "python",
   "pygments_lexer": "ipython3",
   "version": "3.12.5"
  }
 },
 "nbformat": 4,
 "nbformat_minor": 5
}
