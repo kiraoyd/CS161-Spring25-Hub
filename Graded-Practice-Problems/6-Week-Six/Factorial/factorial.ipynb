{
 "cells": [
  {
   "cell_type": "markdown",
   "id": "90ed98e3-1cd9-44c5-82fc-fd3f47c3f5c5",
   "metadata": {},
   "source": [
    "# Factorial\n",
    "\n",
    "The factorial of some number **n** is the product of all positive integers less than or equal to **n**.\n",
    "\n",
    "**5! = 1 x 2 x 3 x 4 x 5 = 120**\n",
    "\n",
    "Write a function called `factorial` that takes one argument, a value for **n**. The functions job is to calculate the factorial, **n!**. This function must use a **while-loop** to get the job done. \n",
    "\n",
    "This function should **NOT**  **output** any values.\n",
    "\n",
    "This function should **return** the final calculated factorial result value.\n",
    "\n",
    "Prompt and gather the value for **n** as **input** in `main()`, and store this information in a **variable**.\n",
    "\n",
    "Call the `factorial` function you wrote, from `main()`, passing it the input value you just stored. \n",
    "\n",
    "Catch the returning sum value from `factorial` in a variable. Display the factorial result value calculated by `factorial`, as output here in `main()`.\n",
    "\n",
    "# Test Cases\n",
    "\n",
    "| Input | Output |\n",
    "|---------|----------|\n",
    "| 0 | 1  |\n",
    "| 1 | 1  |\n",
    "| 2 | 2  |\n",
    "| 3 | 6  |\n",
    "| 5 | 120  |\n",
    "| 8 | 40320  |\n",
    "| 12 | 479001600  |\n"
   ]
  },
  {
   "cell_type": "code",
   "execution_count": null,
   "id": "bd01f0b0-0231-4c8b-9283-274503ef7b91",
   "metadata": {},
   "outputs": [],
   "source": [
    "# 👇👇 Start writing your code for the Factorial program below this line 👇👇\n",
    "\n",
    "\n",
    "\n",
    "\n",
    "# When finished, copy this code you wrote into the \"pokemon.py\" file and finish filling out the Header Comments found there. Download and submit this .py file to the associated Canvas assignment"
   ]
  }
 ],
 "metadata": {
  "kernelspec": {
   "display_name": "Python 3 (ipykernel)",
   "language": "python",
   "name": "python3"
  },
  "language_info": {
   "codemirror_mode": {
    "name": "ipython",
    "version": 3
   },
   "file_extension": ".py",
   "mimetype": "text/x-python",
   "name": "python",
   "nbconvert_exporter": "python",
   "pygments_lexer": "ipython3",
   "version": "3.12.5"
  }
 },
 "nbformat": 4,
 "nbformat_minor": 5
}
