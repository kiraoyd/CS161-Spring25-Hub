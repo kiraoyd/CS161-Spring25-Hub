{
 "cells": [
  {
   "cell_type": "markdown",
   "id": "0fb8ea54-e12b-4ac6-9a83-e72d3fe76349",
   "metadata": {},
   "source": [
    "# Coin Flip - Monte Carlo Probability\n",
    "\n",
    "![flipping a coin](../../../images/coin.png)\n",
    "\n",
    "This program will calculate the chances of landing on heads when flipping a coin, by way of Monte Carlo Simulation\n",
    "\n",
    "## YOUR TASK\n",
    "Your Program should to the following\n",
    "\n",
    "1. Create a success counter\n",
    "2. Randomly Generate 0 or 1 (0 will represent the face side of a coin and 1 will represent the tail side of a coin)\n",
    "3. If the coin lands on heads, increase the success counter by 1\n",
    "4. Repeat step 2 and step 3, 100,000 times (each time counts as a trial)\n",
    "5. Output the probability results of the simulation, which should be right around `50%`.\n",
    "   \n",
    "\n",
    "## Hints\n",
    "* The probability result of a Monte Carlo simulation is calculated by dividing the total number of successes by the total number of trials and multiplying the result by 100\n",
    "\n",
    "```python\n",
    "probability = (success/trials) * 100\n",
    "```\n",
    "## Note\n",
    "* Due of the random nature of this program, the result will not always be exactly 50%, but should come in close to it.\n",
    "# "
   ]
  },
  {
   "cell_type": "code",
   "execution_count": null,
   "id": "2f731ab0-6a93-4934-b0dd-de7ffb846f22",
   "metadata": {},
   "outputs": [],
   "source": [
    "# 👇👇 Start writing your code for the Coin Flip program below this line 👇👇\n",
    "\n",
    "\n",
    "\n",
    "\n",
    "# When finished, copy this code you wrote into the \"fib.py\" file and finish filling out the Header Comments found there. Download and submit this .py file to the associated Canvas assignment"
   ]
  },
  {
   "cell_type": "code",
   "execution_count": null,
   "id": "66b6c04f-693c-49c6-9d7b-2d179d63aee3",
   "metadata": {},
   "outputs": [],
   "source": []
  }
 ],
 "metadata": {
  "kernelspec": {
   "display_name": "Python 3 (ipykernel)",
   "language": "python",
   "name": "python3"
  },
  "language_info": {
   "codemirror_mode": {
    "name": "ipython",
    "version": 3
   },
   "file_extension": ".py",
   "mimetype": "text/x-python",
   "name": "python",
   "nbconvert_exporter": "python",
   "pygments_lexer": "ipython3",
   "version": "3.12.5"
  }
 },
 "nbformat": 4,
 "nbformat_minor": 5
}
