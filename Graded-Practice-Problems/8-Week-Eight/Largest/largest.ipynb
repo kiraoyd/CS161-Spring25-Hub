{
 "cells": [
  {
   "cell_type": "markdown",
   "id": "b4419ddd-fad7-421b-886a-53b9a1c4e983",
   "metadata": {},
   "source": [
    "# Find the Largest in a List\n",
    "\n",
    "Write an program that uses functions to determine the largest data item stored in a List of user inputted Data (integers).\n",
    "\n",
    "## Instructions\n",
    "\n",
    "## 1) In `main()` gather the data and store it in a List.\n",
    "\n",
    "Create an empty List.\n",
    "\n",
    "Gather integer data in an input loop, terminated by the value, `-1` and store this data in the List.\n",
    "\n",
    "## 2) Implement a function to find the Largest Data in a List\n",
    "\n",
    "Implement a function that has one data processing job: iterate over a List of data passed to it, to determine the largest data item stored there. \n",
    "\n",
    "The List passed in could be empty...include a condition to check for this. If the List is empty, no data processing should occur.\n",
    "\n",
    "Do not return the List! It is not necessary, as Lists are passed into functions **by reference**.\n",
    "\n",
    "Instead, **return** the largest value found in the List. Or, if the List as empty and no data processing happened, return an **error flag** of -1.\n",
    "\n",
    "Do not display any output from this function. That will be handled in `main()`\n",
    "\n",
    "### Reference Code: Iterating over a List to Display each value\n",
    "\n",
    "```python\n",
    "\n",
    "def show_all_data(some_list):\n",
    "    length = len(some_list) #get the number of things in the list\n",
    "    last_index = length - 1 #determine the value of the last index (location of last data item in list)\n",
    "    index = 0 #start an index tracker at first data item location of 0\n",
    "    #Iterate the List, printing each item as we move from on index to the next\n",
    "    while index <= last_index:\n",
    "        print(some_list[index])\n",
    "        index = index + 1\n",
    "\n",
    "```\n",
    "\n",
    "## 3) Use the Function in `main()`\n",
    "\n",
    "In `main()`, call the function you wrote to find the largest, and pass the List full of the data gathered as input to this function.\n",
    "\n",
    "Catch the returning value. If that value is not the error flag of -1, display a message outputting what the largest data item found was. If the value is the error flag of -1, output a message that explains that there was no data to process.\n"
   ]
  },
  {
   "cell_type": "code",
   "execution_count": 1,
   "id": "e7b177aa-9b04-4de3-a70c-93aa4d142d94",
   "metadata": {},
   "outputs": [],
   "source": [
    "# 👇👇 Start writing your code for the Find the Largest program below this line 👇👇\n",
    "\n",
    "\n",
    "\n",
    "\n",
    "# When finished, copy this code you wrote into the \"largest.py\" file and finish filling out the Header Comments found there. Download and submit this .py file to the associated Canvas assignment"
   ]
  },
  {
   "cell_type": "markdown",
   "id": "7ae9b520-7b83-4b13-965c-1c48db09f4b6",
   "metadata": {},
   "source": [
    "\n",
    "# Below are some bonus options that do NOT need to be completed to earn credit for this Practice Problem.\n",
    "\n",
    "## BONUS PART 1: Implement a second function that does the same work, but instead determines the smallest number entered.\n",
    "\n",
    "This function should have the same features as the Find the Largest functon, as described in Step 2 above.\n",
    "\n",
    "## BONUS PART 2: Implement a Data Processing Menu\n",
    "\n",
    "In `main()` implement a Data Processing Menu that executes AFTER the user has been prompted to enter data in the List, and ONLY if data is entered (the List is not empty).\n",
    "\n",
    "The menu should let the user choose whether they'd like to find the largest data item, find the smallest data item, or quit the program. The data processing menu should continue to be reoffered until the user chooses to quit this part of the program.\n",
    "\n",
    "## BONUS PART 3: Implement a Main Program Menu\n",
    "\n",
    "Implement a Main Program Menu that offers the user the options to Enter Data, or Quit. \n",
    "\n",
    "If the user chooses to Enter Data, the List should be created and the input-loop should begin.\n",
    "\n",
    "- If the user immediately enters the terminating value of -1 (no data entered, the List is empty), output a message that says \"Looks like you didn't enter any data this time.\" and then reoffers the choice to enter data or Quit.\n",
    "- If the user DOES enter data (the List is not empty), when they are finished entering that data, the Data Processing Menu is offered.\n",
    "- Once the user chooses to exit / quit the Data Processing Menu, the Main Program Menu should be reoffered again. The program should continue until the user chooses to quit the main Program Menu.\n",
    "\n"
   ]
  },
  {
   "cell_type": "code",
   "execution_count": 2,
   "id": "05ec258f-f939-49ac-9a9c-cd995fb376eb",
   "metadata": {},
   "outputs": [],
   "source": [
    "## Copy your working code from above, and implement the Bonus items here 👇👇"
   ]
  }
 ],
 "metadata": {
  "kernelspec": {
   "display_name": "Python 3 (ipykernel)",
   "language": "python",
   "name": "python3"
  },
  "language_info": {
   "codemirror_mode": {
    "name": "ipython",
    "version": 3
   },
   "file_extension": ".py",
   "mimetype": "text/x-python",
   "name": "python",
   "nbconvert_exporter": "python",
   "pygments_lexer": "ipython3",
   "version": "3.12.5"
  }
 },
 "nbformat": 4,
 "nbformat_minor": 5
}
