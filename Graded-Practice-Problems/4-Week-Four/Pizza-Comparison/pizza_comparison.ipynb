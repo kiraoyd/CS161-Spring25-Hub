{
 "cells": [
  {
   "cell_type": "markdown",
   "id": "dd9ae2aa-a00a-4031-ac3a-0fc3a5008f4b",
   "metadata": {},
   "source": [
    "# Pizza Comparison Program\n",
    "\n",
    "### The Code Cell below provides code for the Pizza Calculator program. Comments that start with `TODO` indicate code that still needs to be written.\n",
    "\n",
    "### Work with a partner to continue developing the program, adding the following features:\n",
    "\n",
    "1) Update the code so the program calculates the Cost Per Square Inch for not one, but two different pizzas.\n",
    "\n",
    "2) Write a new function that takes **multiple** arguments and returns **one** value.  The function should:\n",
    "\n",
    "   > Compare the final, rounded, cost per square inch values of two different pizzas (passed in as arguments)\n",
    "   >\n",
    "   > Determine and return an integer representing which pizza is the better value\n",
    "\n",
    "Details in the \"Instructions\" section at the bottom of this notebook.\n",
    "\n",
    "**Before you begin writing ANY code, read and trace through the provided code *together* and make sure you both understand what the program is doing so far.**\n",
    "\n",
    "\n",
    "\n"
   ]
  },
  {
   "cell_type": "code",
   "execution_count": 1,
   "id": "ae163748-465b-4458-af22-ce46451008e2",
   "metadata": {},
   "outputs": [
    {
     "name": "stdin",
     "output_type": "stream",
     "text": [
      "What is your name? >>>  kira\n"
     ]
    },
    {
     "name": "stdout",
     "output_type": "stream",
     "text": [
      "Hello kira!\n",
      "Welcome to the pizza calculator program.\n"
     ]
    },
    {
     "name": "stdin",
     "output_type": "stream",
     "text": [
      "Enter the size of your pizza >>>  18\n",
      "Enter the price of your pizza >>>  4.99\n"
     ]
    },
    {
     "name": "stdout",
     "output_type": "stream",
     "text": [
      "The cost per square inch of your pizza is: 0.02\n",
      "Goodbye!\n"
     ]
    }
   ],
   "source": [
    "import math\n",
    "PI = math.pi\n",
    "\n",
    "def welcome_message(name):\n",
    "  print(f\"Hello {name}!\")\n",
    "  print(\"Welcome to the pizza calculator program.\")\n",
    "\n",
    "def get_name():\n",
    "  name = input(\"What is your name? >>> \")\n",
    "  return name\n",
    "\n",
    "def get_size():\n",
    "  diameter = float(input(\"Enter the size of your pizza >>> \"))\n",
    "  return diameter\n",
    "\n",
    "def get_price():\n",
    "  price = float(input(\"Enter the price of your pizza >>> \"))\n",
    "  return price\n",
    "\n",
    "def calculate_pizza_cpsi(pizza_size, pizza_price):\n",
    "  radius = pizza_size / 2\n",
    "  surface_area = PI * (radius * radius)\n",
    "  cpsi = pizza_price / surface_area\n",
    "  return cpsi\n",
    "\n",
    "#TODO define the header and write the function body code \n",
    "#for the compare_pizzas function\n",
    "\n",
    "def main():\n",
    "  #...welcome the person\n",
    "  person = get_name() \n",
    "  welcome_message(person)\n",
    "\n",
    "  #...get the size and price for the first pizza\n",
    "  size_1 = get_size()\n",
    "  price_1 = get_price()\n",
    "\n",
    "  #TODO: get the size and price for the second pizza\n",
    "  \n",
    "  #...calculate cost_per_square_inch (cpsi) of the first pizza\n",
    "  value_pizza_1 = calculate_pizza_cpsi(size_1, price_1)\n",
    "\n",
    "  #TODO: calculate cost_per_square_inch (cpsi) of the second pizza\n",
    "  \n",
    "\n",
    "  #...round the cost per square inch for the first pizza\n",
    "  rounded_result_1 = round(value_pizza_1, 2)\n",
    "  print(f\"The cost per square inch of your pizza is: {rounded_result_1}\")\n",
    "\n",
    "  #TODO: round the cost per square inch for the second pizza\n",
    "\n",
    "  #TODO: call and use your new pizza comparison function\n",
    "\n",
    "  #...say goodbye\n",
    "  print(\"Goodbye!\")\n",
    "\n",
    "\n",
    "main()\n",
    "\n"
   ]
  },
  {
   "cell_type": "markdown",
   "id": "7affa6c9-f1a6-4506-8e0b-645e3e893c5d",
   "metadata": {},
   "source": [
    "\n",
    "## Instructions: writing the New `compare_pizzas` function\n",
    "\n",
    "### 1) Write the function definition header.\n",
    "\n",
    "Name your function `compare_pizzas`. This function should take multiple parameters, each representing the final, rounded cost per square inch of some pizza. \n",
    "\n",
    "### 2) Write the function body code.\n",
    "\n",
    " The **function body code** should compare the values passed in  as parameters to determine which pizza costs less per square inch. \n",
    " \n",
    " The pizza with the smaller cost per square inch is the BEST value. The function should then **return**:\n",
    " \n",
    "* The integer `1`, if the first pizza is the better value\n",
    "\n",
    "* The integer `2`, if the second pizza is the better value\n",
    "\n",
    "* The integer `0`, if both pizzas are exactly the same value\n",
    "\n",
    "### 3) Use the function in `main()`.\n",
    "\n",
    "Call `evaluate_pizzas` in the right place in `main()`, catching the return value in an appropriately named variable. \n",
    "\n",
    "### 4) Evaluate and display the result in `main()`\n",
    "\n",
    "Using conditional statements, output **one** of three possible messages:\n",
    "\n",
    "1) \"The first pizza is the better deal!\"\n",
    "2) \"The second pizza is the better deal!\"\n",
    "3) \"The pizzas are both the same value, choose either!\"\n",
    "\n",
    "### 5) Farewell message\n",
    "No matter what happens, the program should always end with the message: \"Goodbye!\"\n",
    "\n",
    "|||\n",
    "## **Challenge: Practice Code Abstraction**\n",
    "\n",
    "Notice in `main()` we have to repeat the same work for each pizza before we can compare the two final cost per square inch values:\n",
    "1) Get the size and price as input\n",
    "2) Calculate the cost per square inch\n",
    "3) Round the cost per square inch\n",
    "\n",
    "Write a user defined function that does all this work for any pizza. It won't need to take any arguments, but will need to return a value. \n",
    "\n",
    "Once you have this function written, how can you use it in `main()` to do the work of getting the final, rounded cost per square inch value for the two pizzas?\n",
    "|||\n",
    "\n",
    "\n",
    "\n"
   ]
  }
 ],
 "metadata": {
  "kernelspec": {
   "display_name": "Python 3 (ipykernel)",
   "language": "python",
   "name": "python3"
  },
  "language_info": {
   "codemirror_mode": {
    "name": "ipython",
    "version": 3
   },
   "file_extension": ".py",
   "mimetype": "text/x-python",
   "name": "python",
   "nbconvert_exporter": "python",
   "pygments_lexer": "ipython3",
   "version": "3.12.5"
  }
 },
 "nbformat": 4,
 "nbformat_minor": 5
}
