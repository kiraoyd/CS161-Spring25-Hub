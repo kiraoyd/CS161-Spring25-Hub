{
 "cells": [
  {
   "cell_type": "markdown",
   "id": "bda94e11-a15f-4d91-a892-66bf62ded4fc",
   "metadata": {},
   "source": [
    "# Guess the Number Program\n",
    "(Using Conditional if-statements) \n",
    "\n",
    "![guess the number image](../../../images/guess_number.png)\n",
    "\n",
    "\n",
    "Let's write a little guessing game. In this game, the computer will generate a random integer between 1 and 10. The person playing the game will take a guess by entering a number as input. If the two numbers match, the person wins! If not, they lose.\n",
    "\n",
    "# Instructions\n",
    "Write a function called `take_a_guess()` that takes one argument, and returns one value. This functions job is to generate a random integer between 1 and 10, and check to see if some number passed in as an argument matches it. \n",
    "\n",
    "### 1) Write the **function definition header**\n",
    "\n",
    "```python\n",
    "def take_a_guess(guess):\n",
    "  #write the function body code (the code that does the work), here\n",
    "```\n",
    "\n",
    "### 2) Write the **function body code**\n",
    "The **function body** code should generate a random number between 1 and 10 and store that value in a variable. \n",
    "\n",
    "Then it should evaluate the value passed into the parameter called `guess`. There are two possible outcomes:\n",
    "\n",
    "- If the `guess` value is equivalent to the randomly generated number value, the function returns the boolean value `True`.\n",
    "- Otherwise, if the two values do NOT match, the function returns the boolean value `False`.\n",
    "\n",
    "The boolean value for True in python syntax is `True`. Example: \n",
    "```python\n",
    "result = True\n",
    "print(result)\n",
    "```\n",
    "\n",
    "The boolean value for false in python syntax is `False`. Example: \n",
    "```python\n",
    "result = False\n",
    "print(result)\n",
    "```\n",
    "\n",
    "Which value, `True` or `False`, the function returns once it's job is done, depends entirely on what value for `guess` is received as an argument and how that value is evaluated by the function body code.\n",
    "\n",
    "### 3) Use the function in main()\n",
    "\n",
    "Write a **main() function** that prompts for and gathers the number guess of the person in question, as input.\n",
    "\n",
    "Call your `take_a_guess()` function from main(), passing it that input value. Catch the result in some variable. \n",
    "\n",
    "### 4) Output the Results in main()\n",
    "\n",
    "In main(), depending on the value that is caught returning from the call to `take_a_guess()`, output a different final message:\n",
    "\n",
    " - If `take_a_guess()` returns `True`, output: `That's my number! You win!`.\n",
    " - If `take_a_guess()` returns `False`, output: `Sorry, that's not my number. You lose.`.\n",
    "\n",
    "\n",
    "\n",
    "\n",
    "\n",
    "\n",
    "\n",
    "\n",
    "\n",
    "\n"
   ]
  },
  {
   "cell_type": "code",
   "execution_count": 1,
   "id": "61948f5e-f6b7-40fb-b380-334818813964",
   "metadata": {},
   "outputs": [],
   "source": [
    "# 👇👇 Start writing your abstracted code for the Guess the Number program below this line 👇👇\n",
    "\n",
    "\n",
    "\n",
    "\n",
    "# When finished, copy this code you wrote into the \"guess.py\" file and finish filling out the Header Comments found there. Download and submit this .py file to the associated Canvas assignment."
   ]
  },
  {
   "cell_type": "code",
   "execution_count": null,
   "id": "0de7c8bb-3ffa-4879-bccb-6b492a8695f9",
   "metadata": {},
   "outputs": [],
   "source": []
  }
 ],
 "metadata": {
  "kernelspec": {
   "display_name": "Python 3 (ipykernel)",
   "language": "python",
   "name": "python3"
  },
  "language_info": {
   "codemirror_mode": {
    "name": "ipython",
    "version": 3
   },
   "file_extension": ".py",
   "mimetype": "text/x-python",
   "name": "python",
   "nbconvert_exporter": "python",
   "pygments_lexer": "ipython3",
   "version": "3.12.5"
  }
 },
 "nbformat": 4,
 "nbformat_minor": 5
}
