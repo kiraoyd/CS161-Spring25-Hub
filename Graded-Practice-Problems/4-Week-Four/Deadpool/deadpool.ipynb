{
 "cells": [
  {
   "cell_type": "markdown",
   "id": "b5360953-7285-4701-8658-88535d7d1a69",
   "metadata": {},
   "source": [
    "## Can I Watch Deadpool?\n",
    "(Using if/elif/else conditional statements)\n",
    "\n",
    "![rated R](../../../images/rated_r.png)\n",
    "\n",
    "If you're under 17 and heading off to see Deadpool in theaters alone, you better hope you have a convincing fake ID or you're not going to be able to buy a ticket.\n",
    "\n",
    "We are going to write a program that decides, based on some age value entered in, weather or not that person can watch Deadpool (legally).\n",
    "\n",
    "# Instructions\n",
    "Write a function called `rated_r_approved` that takes one argument, and returns one value. This functions job is to determine if someone is old enough to watch an R-rated movie or not.\n",
    "\n",
    "### 1) Write the **function definition header**\n",
    "\n",
    "```python\n",
    "def rated_r_approved(age):\n",
    "  #write the function body code (the code that does the work), here\n",
    "```\n",
    "\n",
    "### 2) Write the **function body code**\n",
    "The **function body** code should evaluate the value passed into the parameter called `age`. There are a few possible outcomes:\n",
    "- If the `age` value is greater than or equal to 17, the person is old enough and the function returns the boolean value `True`.\n",
    "- Otherwise, if the `age` value is less than 17, the person is NOT old enough, and the function returns the boolean value `False`.\n",
    "\n",
    "The boolean value for True in python syntax is `True`. Example: \n",
    "```python\n",
    "result = True\n",
    "print(result)\n",
    "```\n",
    "\n",
    "The boolean value for false in python syntax is `False`. Example: \n",
    "```python\n",
    "result = False\n",
    "print(result)\n",
    "```\n",
    "\n",
    "Which value, `True` or `False`, the function returns once it's job is done, depends entirely on what value for `age` is received as an argument and how that value is evaluated by the function body code.\n",
    "\n",
    "### 3) Use the function in main()\n",
    "\n",
    "Define a **main() function**. \n",
    "\n",
    "Prompt and gather the age of the person in question, as input, and store this information in a variable.\n",
    "\n",
    "Call your `rated_r_apporved()` function from main(), passing it the input value you just stored. Catch the result in some other variable. \n",
    "\n",
    "### 4) Output the Results in main()\n",
    "\n",
    "In main(), depending on the value that is caught returning from the call to `rated_r_approved`, output a different final message:\n",
    "\n",
    " - If `rated_r_approved()` returns `True`, output: `You're old enough! Enjoy the movie.`.\n",
    " - If `rated_r_approved()` returns `False`, output: `Sorry, you're too young to watch this kind of film.`.\n",
    "\n",
    "\n",
    "\n",
    "\n",
    "\n",
    "\n",
    "\n",
    "\n",
    "\n",
    "\n"
   ]
  },
  {
   "cell_type": "code",
   "execution_count": null,
   "id": "e12200ad-cdc6-4458-8b76-d9cbb0125d92",
   "metadata": {},
   "outputs": [],
   "source": [
    "# 👇👇 Start writing your abstracted code for the Can I Watch Deadpool? program below this line 👇👇\n",
    "\n",
    "\n",
    "\n",
    "\n",
    "# When finished, copy this code you wrote into the \"deadpool.py\" file and finish filling out the Header Comments found there. Download and submit this .py file to the associated Canvas assignment."
   ]
  }
 ],
 "metadata": {
  "kernelspec": {
   "display_name": "Python 3 (ipykernel)",
   "language": "python",
   "name": "python3"
  },
  "language_info": {
   "codemirror_mode": {
    "name": "ipython",
    "version": 3
   },
   "file_extension": ".py",
   "mimetype": "text/x-python",
   "name": "python",
   "nbconvert_exporter": "python",
   "pygments_lexer": "ipython3",
   "version": "3.12.5"
  }
 },
 "nbformat": 4,
 "nbformat_minor": 5
}
