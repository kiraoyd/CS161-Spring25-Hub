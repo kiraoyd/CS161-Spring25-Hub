{
 "cells": [
  {
   "cell_type": "markdown",
   "id": "62276a3a-dae5-4699-9680-8c897951a661",
   "metadata": {},
   "source": [
    "# Temperature Converter: F to C\n",
    "\n",
    "We wrote this program to be able to convert some temperature given in Celsius, to its Farenheit equivalent:\n",
    "\n",
    "```python\n",
    "print(\"Welcome to my Temperature Converter Program! 😊\")\n",
    "print(\"Please enter your temperature in Celsius: \")\n",
    "c_temp = int(input())\n",
    "f_temp = (c_temp * 1.8) + 32\n",
    "print(f\"The result is: {f_temp}\")\n",
    "```\n",
    "\n",
    "## Instructions\n",
    "\n",
    "Rewrite this program so that it instead converts from Farenheit to Celsius. \n",
    "\n",
    "What needs to change? What variable holds the input from the user now? Which one should hold the results of the calculation? Will the order change for anything? Do we want to convert the incoming temperature value into a whole number (`int()`) or into a decimanl number (`float()`)?"
   ]
  },
  {
   "cell_type": "code",
   "execution_count": null,
   "id": "0f4304a3-5ada-4833-9a93-daf6f5eda776",
   "metadata": {},
   "outputs": [],
   "source": [
    "# 👇👇 Start writing your code for the Temperature Converter: F to C Program below this line 👇👇\n",
    "\n",
    "\n",
    "\n",
    "\n",
    "# When finished, copy this code you wrote into the \"f_to_c.py\" file and finish filling out the Header Comments found there. This program does not need to be submitted to canvas."
   ]
  }
 ],
 "metadata": {
  "kernelspec": {
   "display_name": "Python 3 (ipykernel)",
   "language": "python",
   "name": "python3"
  },
  "language_info": {
   "codemirror_mode": {
    "name": "ipython",
    "version": 3
   },
   "file_extension": ".py",
   "mimetype": "text/x-python",
   "name": "python",
   "nbconvert_exporter": "python",
   "pygments_lexer": "ipython3",
   "version": "3.12.5"
  }
 },
 "nbformat": 4,
 "nbformat_minor": 5
}
