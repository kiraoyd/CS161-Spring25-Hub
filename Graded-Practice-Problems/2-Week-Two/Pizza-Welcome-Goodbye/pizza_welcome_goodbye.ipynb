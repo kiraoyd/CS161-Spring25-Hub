{
 "cells": [
  {
   "metadata": {},
   "cell_type": "markdown",
   "source": [
    "# Abstracting the Welcome message and the Goodbye Message\n",
    "\n",
    "Adapt the code you wrote for the Pizza Calculator Program so that:\n",
    ">\n",
    ">The entire program is abstracted into the main calling routine, `main()`. `main()` needs to be called once at the bottom of the code file.\n",
    ">\n",
    ">The initial output that Welcomes the user to the program, is abstracted into a user-defined function. This function should be called in `main()`.\n",
    ">\n",
    ">The final output that says goodbye to the person using the program, should be abstracted into a user-defined function. This function should be called in `main()`.\n",
    ">\n",
    "\n"
   ],
   "id": "56d45fd28b0cef27"
  },
  {
   "metadata": {},
   "cell_type": "code",
   "outputs": [],
   "execution_count": null,
   "source": [
    "# 👇👇 Start writing your abstracted code for the Pizza Calculator Program below this line 👇👇\n",
    "\n",
    "\n",
    "\n",
    "\n",
    "# When finished, copy this code you wrote into the \"pizza_welcome_goodbye.py\" file and finish filling out the Header Comments found there. Download and submit this .py file to the associated Canvas assignment."
   ],
   "id": "ef290a83b29ec69b"
  }
 ],
 "metadata": {
  "kernelspec": {
   "display_name": "Python 3",
   "language": "python",
   "name": "python3"
  },
  "language_info": {
   "codemirror_mode": {
    "name": "ipython",
    "version": 2
   },
   "file_extension": ".py",
   "mimetype": "text/x-python",
   "name": "python",
   "nbconvert_exporter": "python",
   "pygments_lexer": "ipython2",
   "version": "2.7.6"
  }
 },
 "nbformat": 4,
 "nbformat_minor": 5
}
