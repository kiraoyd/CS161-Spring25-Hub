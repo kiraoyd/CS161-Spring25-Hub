{
 "cells": [
  {
   "metadata": {},
   "cell_type": "markdown",
   "source": [
    "# 6-sided Die\n",
    "\n",
    "![dice with various numbersof sides](../../../images/6-sided-die.png)\n",
    "\n",
    "## Instructions\n",
    "Write a function called `roll_die` that takes no arguments, but returns one value. This functions job is to simulate rolling a die with 6-total sides.\n",
    "\n",
    "1) Write the **function definition header**:\n",
    "\n",
    "```python\n",
    "def roll_die():\n",
    "  #write the function body code (the code that does the work), here\n",
    "```\n",
    "\n",
    "2) The **function body** code should generate a random integer between 1 and n.\n",
    "\n",
    "The example code below generates a random integer in python between 1 and 5 and stores it in a variable called  `result`:\n",
    "\n",
    "```python\n",
    "import random\n",
    "result = random.randint(1,5)\n",
    "```\n",
    "\n",
    "3) After the work is done, this function should **return** the randomly generated integer value.\n",
    "\n",
    "4) Write a **main() function** and call your `roll_die()` function from there. Catch the result in some variable.\n",
    "5) Output the results from main().\n",
    "\n",
    "\n",
    "\n",
    "\n",
    "\n"
   ],
   "id": "68d38b0640e6e35d"
  },
  {
   "metadata": {},
   "cell_type": "code",
   "outputs": [],
   "execution_count": null,
   "source": [
    "# 👇👇 Start writing your abstracted code for the 6-sided die program below this line 👇👇\n",
    "\n",
    "\n",
    "\n",
    "\n",
    "# When finished, copy this code you wrote into the \"6_sided_die.py\" file and finish filling out the Header Comments found there. Download and submit this .py file to the associated Canvas assignment."
   ],
   "id": "62e5a580a8903796"
  }
 ],
 "metadata": {
  "kernelspec": {
   "display_name": "Python 3",
   "language": "python",
   "name": "python3"
  },
  "language_info": {
   "codemirror_mode": {
    "name": "ipython",
    "version": 2
   },
   "file_extension": ".py",
   "mimetype": "text/x-python",
   "name": "python",
   "nbconvert_exporter": "python",
   "pygments_lexer": "ipython2",
   "version": "2.7.6"
  }
 },
 "nbformat": 4,
 "nbformat_minor": 5
}
