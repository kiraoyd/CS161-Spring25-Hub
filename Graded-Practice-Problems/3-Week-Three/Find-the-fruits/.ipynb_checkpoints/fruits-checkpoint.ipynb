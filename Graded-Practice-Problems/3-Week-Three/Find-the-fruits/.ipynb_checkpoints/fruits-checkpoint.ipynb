{
 "cells": [
  {
   "metadata": {},
   "cell_type": "markdown",
   "source": "",
   "id": "4434a7bb76703caa"
  },
  {
   "metadata": {},
   "cell_type": "markdown",
   "source": [
    "# Find the Fruits\n",
    "![various fruits. Credit: chatGPT](../../../images/fruits.png)\n",
    "\n",
    "## Instructions\n",
    "\n",
    "Read this code:\n",
    "\n",
    "```python\n",
    "\n",
    "def enter_gold_room():\n",
    "\tprint(\"Apple.\")\n",
    "\n",
    "def enter_red_room():\n",
    "\tprint(\"Lychee.\")\n",
    "\tprint(\"Pear.\")\n",
    "\n",
    "def enter_blue_room():\n",
    "\tprint(\"Grapes.\")\n",
    "\tenter_gold_room()\n",
    "\tprint(\"Orange.\")\n",
    "\n",
    "def enter_green_room():\n",
    "\tenter_red_room()\n",
    "\tprint(\"Mandarin.\")\n",
    "\n",
    "def enter_yellow_room():\n",
    "\tenter_green_room()\n",
    "\n",
    "#Main calling routine\n",
    "def main():\n",
    "\tprint(\"I found the fruits!\")\n",
    "\t#make your function calls here\n",
    "\n",
    "\n",
    "\n",
    "#initiate program run\n",
    "main()\n",
    "```\n",
    "\n",
    "#### Copy the code into the code-cell below. Then complete the code as follows:\n",
    "\n",
    "**In main(), write the code for the function calls that will display the fruits in this order:**\n",
    "\n",
    "```\n",
    "Lychee.\n",
    "Pear.\n",
    "Mandarin.\n",
    "Grapes.\n",
    "Apple.\n",
    "Orange.\n",
    "Apple.\n",
    "```\n",
    "\n",
    "\n",
    "\n",
    "\n"
   ],
   "id": "6c4e83b63f5504ba"
  },
  {
   "metadata": {},
   "cell_type": "code",
   "outputs": [],
   "execution_count": null,
   "source": [
    "# 👇👇 Start writing your code for the Find the Fruits program below this line 👇👇\n",
    "\n",
    "\n",
    "\n",
    "\n",
    "# When finished, copy this code you wrote into the \"fruits.py\" file and finish filling out the Header Comments found there. Download and submit this .py file to the associated Canvas assignment."
   ],
   "id": "7732c48a743972e0"
  }
 ],
 "metadata": {
  "kernelspec": {
   "display_name": "Python 3",
   "language": "python",
   "name": "python3"
  },
  "language_info": {
   "codemirror_mode": {
    "name": "ipython",
    "version": 2
   },
   "file_extension": ".py",
   "mimetype": "text/x-python",
   "name": "python",
   "nbconvert_exporter": "python",
   "pygments_lexer": "ipython2",
   "version": "2.7.6"
  }
 },
 "nbformat": 4,
 "nbformat_minor": 5
}
