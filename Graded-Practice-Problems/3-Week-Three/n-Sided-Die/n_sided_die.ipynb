{
 "cells": [
  {
   "metadata": {},
   "cell_type": "markdown",
   "source": "",
   "id": "a67b2fbd32c37c0e"
  },
  {
   "metadata": {},
   "cell_type": "markdown",
   "source": [
    "# n-sided Die\n",
    "\n",
    "![dice with various numbers of sides](../../../images/dice.png)\n",
    "\n",
    "\n",
    "# Instructions\n",
    "Write a function called `roll_n_sided_die` that takes in one argument and returns one value. This functions job is to simulate rolling a die with n-total sides.\n",
    "\n",
    "1) The total number of sides for this die is determined by the value sent in as an **argument** when the function is called. The parameter used as a placeholder for this future argument value, is called **n** here in this **function definition header**:\n",
    "\n",
    "```python\n",
    "def roll_n_sided_die(n):\n",
    "  #write the function body code (the code that does the work), here\n",
    "```\n",
    "\n",
    "2) The **function body** code should generate a random integer between 1 and n.\n",
    "\n",
    "The example code below generates a random integer in python between 1 and 5 and stores it in a variable called 'result':\n",
    "\n",
    "```python\n",
    "import random\n",
    "result = random.randint(1,5)\n",
    "```\n",
    "\n",
    "3) After the work is done, this function should **return** the randomly generated integer value.\n",
    "\n",
    "4) Write a **main() function** and call your `roll_n_sided_die()` function from there. Catch the result in some variable.\n",
    "\n",
    "5) Output the results from main().\n",
    "\n"
   ],
   "id": "a4c41f7a4b546d39"
  },
  {
   "metadata": {},
   "cell_type": "code",
   "outputs": [],
   "execution_count": null,
   "source": [
    "# 👇👇 Start writing your abstracted code for the n-sided die program below this line 👇👇\n",
    "\n",
    "\n",
    "\n",
    "\n",
    "# When finished, copy this code you wrote into the \"n_sided_die.py\" file and finish filling out the Header Comments found there. Download and submit this .py file to the associated Canvas assignment."
   ],
   "id": "b4fca8925583d43f"
  }
 ],
 "metadata": {
  "kernelspec": {
   "display_name": "Python 3",
   "language": "python",
   "name": "python3"
  },
  "language_info": {
   "codemirror_mode": {
    "name": "ipython",
    "version": 2
   },
   "file_extension": ".py",
   "mimetype": "text/x-python",
   "name": "python",
   "nbconvert_exporter": "python",
   "pygments_lexer": "ipython2",
   "version": "2.7.6"
  }
 },
 "nbformat": 4,
 "nbformat_minor": 5
}
