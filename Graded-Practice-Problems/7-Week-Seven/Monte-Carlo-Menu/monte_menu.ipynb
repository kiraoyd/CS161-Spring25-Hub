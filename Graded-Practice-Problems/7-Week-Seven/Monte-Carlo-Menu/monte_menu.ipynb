{
 "cells": [
  {
   "cell_type": "markdown",
   "id": "0fec402a-2a29-40e4-8fb7-788b49676495",
   "metadata": {},
   "source": [
    "# Monte Carlo Menu\n",
    "\n",
    "**Loops within Loops are easier with Functions**\n",
    "\n",
    "Write a **Main Program Menu** that lets the person using the program choose if they want to run the **Monte Carlo Coin Flip Simulation**, run the **Monte Carlo Snake Eyes Simulation**, or choose to quit the program entirely by entering the terminating value of 0.\n",
    "\n",
    "Handle a situation where the person enters an invalid numeric choice (for example, typing `99`)\n",
    "\n",
    "Utilize a while-loop so that after a selection is made and the code for that selection finishes running, the menu is re-offered again.\n",
    "\n",
    "The only time the menu should NOT be re-offered, is if the person chooses to Quit.\n",
    "\n",
    "# Instructions\n",
    "\n",
    "## 1) Define and write a function that runs the Coin Flip Simulation\n",
    "\n",
    "Refer back to the Practice Problem we worked on in Week Six called `Coin`.\n",
    "\n",
    "This function should have one **parameter** set to accept the total number of desired trials to run. It should **return** the calculated probability.\n",
    "\n",
    "## 2) Define and write a function that runs the Snake Eyes Simulation\n",
    "\n",
    "Refer back to the Practice Problem we worked on in Week Six called `Snake-Eyes`.\n",
    "\n",
    "This function should have one **parameter** set to accept the total number of desired trials to run. It should **return** the calculated probability.\n",
    "\n",
    "## 3) Define a `main()` function. \n",
    "\n",
    "Don't forget to call `main()` below the definition!\n",
    "\n",
    "## Inside your `main()` function:\n",
    "\n",
    "### Show the menu options \n",
    "\n",
    "Display an output message to the person using the program, that explains their choices.\n",
    "\n",
    "### Get the persons choice as input\n",
    "\n",
    "Store their choice as an integer value.\n",
    "\n",
    "### Evaluate their choice\n",
    "\n",
    "The Main Program Menu should have three choices:\n",
    "\n",
    "1) Type 1 to run the Monte Carlo Coin Flip program\n",
    "2) Type 2 to run the Monte Carlo Snake Eyes program\n",
    "3) Type 0 to quit\n",
    "\n",
    "If the person selects option `1` or `2`, they should be immediately prompted to enter as input the total number of trials they wish to run for the Monte Carlo Simulation. This value will get passed to the function that gets called to run the chosen Monte Carlo Simulation Program. Once the simulation program has run, **catch and store** the returning probability value and **output** it. Then reoffer the Main Program Menu.\n",
    "\n",
    "Typing a `0` indicates the person wants to quit the entire program (the menu should NOT be re-offered). In this program, the `0` acts as the **terminating value** for the input-driven loop controlling the menu.\n",
    "\n",
    "If the person types in any other **integer** besides the ones above, this is an **invalid choice**. In this case, output a message that says: \"Sorry, that is not a valid menu choice.\" In this case, the menu should also be re-offered.\n",
    "\n",
    "### Say goodbye\n",
    "\n",
    "**No matter what happens, the program should always end with the message: \"Goodbye!\"**\n",
    "\n",
    "\n",
    "\n",
    "\n"
   ]
  },
  {
   "cell_type": "code",
   "execution_count": null,
   "id": "293ce426-aadb-4877-bfaf-b918a0a84b0c",
   "metadata": {},
   "outputs": [],
   "source": [
    "# 👇👇 Start writing your code for the Monte Carlo Menu program below this line 👇👇\n",
    "\n",
    "\n",
    "\n",
    "\n",
    "# When finished, copy this code you wrote into the \"monte_menu.py\" file and finish filling out the Header Comments found there. Download and submit this .py file to the associated Canvas assignment"
   ]
  }
 ],
 "metadata": {
  "kernelspec": {
   "display_name": "Python 3 (ipykernel)",
   "language": "python",
   "name": "python3"
  },
  "language_info": {
   "codemirror_mode": {
    "name": "ipython",
    "version": 3
   },
   "file_extension": ".py",
   "mimetype": "text/x-python",
   "name": "python",
   "nbconvert_exporter": "python",
   "pygments_lexer": "ipython3",
   "version": "3.12.5"
  }
 },
 "nbformat": 4,
 "nbformat_minor": 5
}
