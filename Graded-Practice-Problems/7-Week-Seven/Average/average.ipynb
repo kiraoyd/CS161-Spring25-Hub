{
 "cells": [
  {
   "cell_type": "markdown",
   "id": "07e49ee6-cef3-4fde-9c6f-9815c168f5cd",
   "metadata": {},
   "source": [
    "# Average of User Data\n",
    "\n",
    "Input-driven while loops can be used to process pieces of data given one by one as input from the person using the program.\n",
    "\n",
    "We are going to write a program that takes in as many pieces of data as the user wants to enter, an calculates an average of that data.\n",
    "\n",
    "## Instructions\n",
    "\n",
    "### 1) Write a `main()` function.\n",
    "\n",
    "Don't forget to call main()!\n",
    "\n",
    "### 2) Write a function called `average()`\n",
    "\n",
    "This functions job is to use an input-driven loop to let the person using the program enter one non-negative integer at a time as data. \n",
    "\n",
    "To calculate the average, we need the **sum** of all the data entered, and a **count** representing the total number of data items entered.  \n",
    "\n",
    "`average = sum / count`\n",
    "\n",
    "Each data item entered as input must be added to the sum and also counted.\n",
    "\n",
    "To break the loop and discontinue entering data, the person using your program needs to enter the **terminating value** of -1. **Do not count the terminating value as data, and make sure it is not included in the sum calculation**\n",
    "\n",
    "Once the loop breakds, calculate the average of all data and **return** that result.\n",
    "\n",
    "This function takes no arguments (needs no parameters), but returns one value: the calculated average.\n",
    "\n",
    "### 3) Call `average()` from `main()`\n",
    "\n",
    "Catch and store the calculated average returned from `average()`. Output the results from `main()`.\n",
    "\n",
    "### 4) Write a new function called `average_evens()`\n",
    "\n",
    "This function has the same job as `average()`, only instead of calculating the average of all data entered, only calculate the average of the even number data. Set it up in the same way (no arguments, one return value).\n",
    "\n",
    "Call and test this function from `main()`."
   ]
  },
  {
   "cell_type": "code",
   "execution_count": null,
   "id": "80969800-0fac-4a2f-98f1-ddefe6ce5fc7",
   "metadata": {},
   "outputs": [],
   "source": [
    "# 👇👇 Start writing your code for the Average Data program below this line 👇👇\n",
    "\n",
    "\n",
    "\n",
    "\n",
    "# When finished, copy this code you wrote into the \"average.py\" file and finish filling out the Header Comments found there. Download and submit this .py file to the associated Canvas assignment"
   ]
  }
 ],
 "metadata": {
  "kernelspec": {
   "display_name": "Python 3 (ipykernel)",
   "language": "python",
   "name": "python3"
  },
  "language_info": {
   "codemirror_mode": {
    "name": "ipython",
    "version": 3
   },
   "file_extension": ".py",
   "mimetype": "text/x-python",
   "name": "python",
   "nbconvert_exporter": "python",
   "pygments_lexer": "ipython3",
   "version": "3.12.5"
  }
 },
 "nbformat": 4,
 "nbformat_minor": 5
}
