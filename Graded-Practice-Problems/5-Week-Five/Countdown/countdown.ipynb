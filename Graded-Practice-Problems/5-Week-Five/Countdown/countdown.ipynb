{
 "cells": [
  {
   "cell_type": "markdown",
   "id": "b83c959e-61af-4977-8f18-5ea8470cec84",
   "metadata": {},
   "source": [
    "\n",
    "# Countdown\n",
    "\n",
    "**While-Loops: the loop condition**\n",
    "\n",
    "Write a function that takes one argument, a value for **n**. The functions job is to mimic a launch countdown from **n** seconds all the way down to 1. After the countdown reaches 0, the program outputs \"LIFTOFF!\". This function must use a **while-loop** to get the job done. \n",
    "\n",
    "# Instructions\n",
    "\n",
    "### 1) Write the **function definition header**\n",
    "\n",
    "Name your function: `countdown`.\n",
    "\n",
    "\n",
    "### 2) Write the **function body code**\n",
    "The **function body** code should use the value passed into the **parameter** to perform the job of the function. \n",
    "\n",
    "This function should **output** every integer value in the sequence from **n** to 1. After each number is displayed, the program should pause for exactly one second.\n",
    "\n",
    "**Example Code that gets the program to pause:**\n",
    "```python\n",
    "import time\n",
    "time.sleep(0.5) #pause for half a second\n",
    "```\n",
    "\n",
    "When the countdown reaches the number '0', the function should **NOT** print '0' as part of the countdown output.\n",
    "\n",
    "The final output of the function should be the statement of \"LIFTOFF!\"\n",
    "\n",
    "This function should **NOT return** any values.\n",
    "\n",
    "\n",
    "### 3) Use the function in main()\n",
    "\n",
    "Define a `main()` function. \n",
    "\n",
    "Prompt and gather the value for **n** as **input**, and store this information in a **variable**.\n",
    "\n",
    "Call the `countdown` function you wrote, from `main()`, passing it the input value you just stored. \n",
    "\n",
    "\n",
    "### 4) Output the final goodbye message in main()\n",
    "\n",
    "Display a message that says: \"Goodbye!\".\n",
    "\n"
   ]
  },
  {
   "cell_type": "code",
   "execution_count": null,
   "id": "280e3ae4-b00f-4aa7-b05d-08108f545383",
   "metadata": {},
   "outputs": [],
   "source": [
    "# 👇👇 Start writing your code for the Countdown program below this line 👇👇\n",
    "\n",
    "\n",
    "\n",
    "\n",
    "# When finished, copy this code you wrote into the \"sequence.py\" file and finish filling out the Header Comments found there. Download and submit this .py file to the associated Canvas assignment."
   ]
  }
 ],
 "metadata": {
  "kernelspec": {
   "display_name": "Python 3 (ipykernel)",
   "language": "python",
   "name": "python3"
  },
  "language_info": {
   "codemirror_mode": {
    "name": "ipython",
    "version": 3
   },
   "file_extension": ".py",
   "mimetype": "text/x-python",
   "name": "python",
   "nbconvert_exporter": "python",
   "pygments_lexer": "ipython3",
   "version": "3.12.5"
  }
 },
 "nbformat": 4,
 "nbformat_minor": 5
}
