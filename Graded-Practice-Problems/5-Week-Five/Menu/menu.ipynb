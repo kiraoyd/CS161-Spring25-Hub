{
 "cells": [
  {
   "cell_type": "markdown",
   "id": "36cfe1a7-d9a3-4e7c-979a-12884d60f6b7",
   "metadata": {},
   "source": [
    "## Main Program Menu\n",
    "\n",
    "A simple **Main Program Menu** allows the person using the program to choose to either run it, or quit. \n",
    "\n",
    "Write a main calling routine that offers these two choices to the person using the program. Handle a situation where the person enters an invalid choice.\n",
    "\n",
    "# Instructions\n",
    "\n",
    "### 1) Define a `main()` function. \n",
    "\n",
    "Don't forget to call `main()` below the definition!\n",
    "\n",
    "### 2) Show the menu options\n",
    "\n",
    "Display an output message to the person using the program, that explains their two choices as follows:\n",
    "\n",
    "\"Type 1 to run the program, type 0 to quit.\"\n",
    "\n",
    "<div style=\"background-color: #F8F8F8; border: 4px solid #A76BCF; padding: 10px; border-radius: 5px;\">\n",
    "    \n",
    "### Bonus: Can you write this output statement as it's own user-defined function called `show_menu_options`?\n",
    "\n",
    "</div>\n",
    "\n",
    "\n",
    "### 3) Get the persons choice as input\n",
    "\n",
    "Store their choice as an integer value.\n",
    "\n",
    "<div style=\"background-color: #F8F8F8; border: 4px solid #A76BCF; padding: 10px; border-radius: 5px;\">\n",
    "    \n",
    "### Bonus: Can you write this as it's own user-defined function called `get_choice`?\n",
    "\n",
    "</div>\n",
    "\n",
    "\n",
    "### 4) Evaluate their choice\n",
    "\n",
    "If the person types a 0, they have chosen to quit and the program ends.\n",
    "\n",
    "If the person types a 1, they have chosen to run the program. Output a message that says \"Running the program...\"\n",
    "\n",
    "If the person types in any other **integer** besides a 0 or a 1, this is an **invalid choice**. In this case, output a message that says: \"Sorry, that is not a valid menu choice.\"\n",
    "\n",
    "**No matter what happens, the program should always end with the message: \"Goodbye!\"**\n",
    "\n",
    "<div style=\"background-color: #F8F8F8; border: 4px solid #A76BCF; padding: 10px; border-radius: 5px;\">\n",
    "    \n",
    "## Bonus - how many more options can you add to this menu?\n",
    "\n",
    "As of now this main menu has two options: run the program, or quit.\n",
    "\n",
    "But you have the power to add another option, or many more options! \n",
    "\n",
    "1) Try adding a third option: \"Type 2 to hear a joke.\"\n",
    "2) Now come up with a fourth and fifth option of your own, and add them to the menu.\n",
    "\n",
    "And remember: if you add a new option to the menu code, you'll want to update the output message that presents these options to the person using your program.\n",
    "\n",
    "</div>\n"
   ]
  },
  {
   "cell_type": "code",
   "execution_count": null,
   "id": "358ad588-aeff-4745-ad73-e7b8ed1528b8",
   "metadata": {},
   "outputs": [],
   "source": [
    "# 👇👇 Start writing your abstracted code for the Pokemon Picker program below this line 👇👇\n",
    "\n",
    "\n",
    "\n",
    "\n",
    "# When finished, copy this code you wrote into the \"pokemon.py\" file and finish filling out the Header Comments found there. Download and submit this .py file to the associated Canvas assignment."
   ]
  }
 ],
 "metadata": {
  "kernelspec": {
   "display_name": "Python 3 (ipykernel)",
   "language": "python",
   "name": "python3"
  },
  "language_info": {
   "codemirror_mode": {
    "name": "ipython",
    "version": 3
   },
   "file_extension": ".py",
   "mimetype": "text/x-python",
   "name": "python",
   "nbconvert_exporter": "python",
   "pygments_lexer": "ipython3",
   "version": "3.12.5"
  }
 },
 "nbformat": 4,
 "nbformat_minor": 5
}
