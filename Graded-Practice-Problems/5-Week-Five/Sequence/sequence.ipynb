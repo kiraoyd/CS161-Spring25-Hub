{
 "cells": [
  {
   "cell_type": "markdown",
   "id": "9d02b91e-dbce-4d88-bc4e-8e17e6857a76",
   "metadata": {},
   "source": [
    "# Show Sequence\n",
    "\n",
    "**While-Loops: the loop control variable**\n",
    "\n",
    "The **loop control variable** determines the number of iterations in a loop. \n",
    "\n",
    "Write a function that takes one argument, a value for **n**. The functions job is to display as output, every whole integer in a sequence from 1 to **n**. This function must use a **while-loop** to get the job done.\n",
    "\n",
    "# Instructions\n",
    "\n",
    "### 1) Write the **function definition header**\n",
    "\n",
    "Name your function: `show_sequence`.\n",
    "\n",
    "\n",
    "### 2) Write the **function body code**\n",
    "The **function body** code should use value passed into the **parameter** to perform the job of the function. \n",
    "\n",
    "This function does **NOT** need to **return** any value.\n",
    "\n",
    "\n",
    "### 3) Use the function in main()\n",
    "\n",
    "Define a `main()` function. \n",
    "\n",
    "Prompt and gather the value for **n** as **input**, and store this information in a **variable**.\n",
    "\n",
    "Call the `show_sequence` function you wrote, from `main()`, passing it the input value you just stored. \n",
    "\n",
    "### 4) Output any results in main()\n",
    "\n",
    "The `show_sequence` function will not return any values. So there is no need to do anything in `main()` after the function is called, except display a message that says: \"Goodbye!\".\n",
    "\n",
    "\n",
    "\n",
    "\n",
    "\n",
    "\n",
    "\n",
    "\n",
    "\n",
    "\n",
    "\n"
   ]
  },
  {
   "cell_type": "code",
   "execution_count": null,
   "id": "a25cb329-6956-48da-9292-a1985504be83",
   "metadata": {},
   "outputs": [],
   "source": [
    "# 👇👇 Start writing your code for the Show Sequence program below this line 👇👇\n",
    "\n",
    "\n",
    "\n",
    "\n",
    "# When finished, copy this code you wrote into the \"sequence.py\" file and finish filling out the Header Comments found there. Download and submit this .py file to the associated Canvas assignment."
   ]
  }
 ],
 "metadata": {
  "kernelspec": {
   "display_name": "Python 3 (ipykernel)",
   "language": "python",
   "name": "python3"
  },
  "language_info": {
   "codemirror_mode": {
    "name": "ipython",
    "version": 3
   },
   "file_extension": ".py",
   "mimetype": "text/x-python",
   "name": "python",
   "nbconvert_exporter": "python",
   "pygments_lexer": "ipython3",
   "version": "3.12.5"
  }
 },
 "nbformat": 4,
 "nbformat_minor": 5
}
