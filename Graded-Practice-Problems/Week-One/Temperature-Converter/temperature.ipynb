{
 "cells": [
  {
   "cell_type": "markdown",
   "id": "8e41774614ecade7",
   "metadata": {},
   "source": [
    "\n",
    "<div style=\"\n",
    "    background-color: #f8f8f8;\n",
    "    border-left: 5px solid #6c63ff;\n",
    "    padding: 15px;\n",
    "    margin: 20px 0;\n",
    "    border-radius: 5px;\n",
    "    box-shadow: 2px 2px 5px rgba(0, 0, 0, 0.1);\n",
    "\">\n",
    "    <h1 style=\"\n",
    "        font-size: 2.5em; /* Adjust size as needed */\n",
    "        font-weight: bold;\n",
    "        margin-bottom: 10px; /* Space between heading and paragraphs */\n",
    "    \">\n",
    "        Week One Practice Problem: Temperature Converter\n",
    "    </h1>\n",
    "</div>\n",
    "\n",
    "\n",
    "![Thermometer](../../../images/thermometer.png)\n",
    "## Instructions\n",
    "**Follow along in class to build a program that converts a temperature given in Celsius to its equivalent value in Fahrenheit.**\n",
    "\n",
    "\n",
    "\n"
   ]
  },
  {
   "cell_type": "code",
   "execution_count": null,
   "id": "689e2dff74001460",
   "metadata": {},
   "outputs": [],
   "source": [
    "# 👇👇 Start writing your code for the Temperature Converter Program below this line 👇👇\n",
    "\n",
    "\n",
    "\n",
    "\n",
    "# When finished, copy this code you wrote into the \"temperature.py\" file and finish filling out the Header Comments found there. This program does not need to be submitted to canvas."
   ]
  },
  {
   "cell_type": "markdown",
   "id": "4046de653158ecb",
   "metadata": {},
   "source": [
    "### Math Operations\n",
    "| **Operation** | **Operator** | **Example** |\n",
    "|---------------|--------------|-------------|\n",
    "| Addition      |       +      | var = 1 + 2 |\n",
    "| Subtration    |       -      | var = 3 - 4 |\n",
    "| Multiplation  |       *      | var = 5 * 6 |\n",
    "| Modulo        |       %      | var = 6 % 7 |\n",
    "\n",
    "*in each example `var` gets the result of the operation*\n",
    "\n",
    "### Data Conversions\n",
    "`input()` returns data as a string type by default.\n",
    "\n",
    "Math operations do not work on strings. Therefore we must convert the data from `input()` from a string data type to a numeric data type.\n",
    "\n",
    "### Floating Point Number Data Type\n",
    "Floating Point Numbers or floats are decimal numbers.\n",
    "\n",
    "Use `float()` to convert the input from a string data type to float data type.\n",
    "\n",
    "```python\n",
    "  number = float(input())\n",
    "```\n",
    "\n",
    "In the example above, the data recieved by `input()` is converted to a floating point number by `float()` and that new value is stored in the variable `number`\n",
    "\n",
    "## Converting Celsius to Farenheit\n",
    "\n",
    "*this is not python code, we'll have to program the formula*\n",
    "```\n",
    "f = c x 9/5 + 32\n",
    "```"
   ]
  }
 ],
 "metadata": {
  "kernelspec": {
   "display_name": "Python 3 (ipykernel)",
   "language": "python",
   "name": "python3"
  },
  "language_info": {
   "codemirror_mode": {
    "name": "ipython",
    "version": 3
   },
   "file_extension": ".py",
   "mimetype": "text/x-python",
   "name": "python",
   "nbconvert_exporter": "python",
   "pygments_lexer": "ipython3",
   "version": "3.12.5"
  }
 },
 "nbformat": 4,
 "nbformat_minor": 5
}
