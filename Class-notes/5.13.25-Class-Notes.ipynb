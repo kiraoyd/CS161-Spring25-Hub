{
 "cells": [
  {
   "cell_type": "markdown",
   "id": "872e80ce-6aea-46f8-898b-3b23dcb632fd",
   "metadata": {},
   "source": [
    "# Class Notes: 5/13/25 Tuesday"
   ]
  },
  {
   "cell_type": "code",
   "execution_count": 1,
   "id": "20212e7a-ab03-46d6-b376-37f383835eb5",
   "metadata": {},
   "outputs": [],
   "source": [
    "import random\n",
    "\n",
    "def snake_eyes_sim(trials):\n",
    "    count = 0\n",
    "    die1 = 0\n",
    "    die2 = 0\n",
    "    tally = 0\n",
    "    while count < trials:\n",
    "        #roll the die\n",
    "        die1 = random.randint(1,6)\n",
    "        die2 = random.randint(1,6)\n",
    "        #check for snake eyes\n",
    "        if die1 == 1 and die2 == 1:\n",
    "            #tally it\n",
    "            tally = tally + 1\n",
    "        count = count + 1\n",
    "\n",
    "    probability = tally / trials\n",
    "    return probability\n"
   ]
  },
  {
   "cell_type": "code",
   "execution_count": 2,
   "id": "df0bc0e4-ee2e-4050-b753-0dab21018444",
   "metadata": {},
   "outputs": [
    {
     "name": "stdin",
     "output_type": "stream",
     "text": [
      "enter the number of trials to run, or type 0 to quit:  0\n"
     ]
    }
   ],
   "source": [
    "def main():\n",
    "    n = int(input(\"enter the number of trials to run, or type 0 to quit: \"))\n",
    "    while n != 0:\n",
    "        prob = snake_eyes_sim(n)\n",
    "        print(f\"the probability of rolling snake eyes is: {prob}\")\n",
    "        n = int(input(\"enter the number of trials to run, or type 0 to quit: \"))\n",
    "\n",
    "main()"
   ]
  },
  {
   "cell_type": "markdown",
   "id": "94384075-c432-4b6d-a0fc-cd4a719d1f2a",
   "metadata": {},
   "source": [
    "# Basic Program Menu on a Loop"
   ]
  },
  {
   "cell_type": "code",
   "execution_count": 5,
   "id": "a3908b5c-b6c3-4103-b40c-390359f3aa62",
   "metadata": {},
   "outputs": [
    {
     "name": "stdout",
     "output_type": "stream",
     "text": [
      "Welcome to my program!\n",
      "Type 1 to run the program, Type 2 to say hello, type 0 to quit.\n"
     ]
    },
    {
     "name": "stdin",
     "output_type": "stream",
     "text": [
      " 0\n"
     ]
    },
    {
     "name": "stdout",
     "output_type": "stream",
     "text": [
      "You chose to quit the program, goodbye!\n"
     ]
    }
   ],
   "source": [
    "def main():\n",
    "    #main program loop\n",
    "    print(\"Welcome to my program!\")\n",
    "    print(\"Type 1 to run the program, Type 2 to say hello, type 0 to quit.\")\n",
    "\n",
    "    choice = int(input())\n",
    "    while choice != 0:\n",
    "        if choice == 1:\n",
    "            print(\"Running the program...\")\n",
    "        elif choice == 2:\n",
    "            print(\"Hello!\")\n",
    "\n",
    "        print(\"Thanks, that was fun. Type 1 to run the program, Type 2 to say hello, type 0 to quit.\")\n",
    "        choice = int(input())\n",
    "\n",
    "    print(\"You chose to quit the program, goodbye!\")\n",
    "\n",
    "main()"
   ]
  }
 ],
 "metadata": {
  "kernelspec": {
   "display_name": "Python 3 (ipykernel)",
   "language": "python",
   "name": "python3"
  },
  "language_info": {
   "codemirror_mode": {
    "name": "ipython",
    "version": 3
   },
   "file_extension": ".py",
   "mimetype": "text/x-python",
   "name": "python",
   "nbconvert_exporter": "python",
   "pygments_lexer": "ipython3",
   "version": "3.12.5"
  }
 },
 "nbformat": 4,
 "nbformat_minor": 5
}
