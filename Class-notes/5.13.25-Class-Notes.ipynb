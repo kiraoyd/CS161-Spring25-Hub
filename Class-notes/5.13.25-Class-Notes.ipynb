{
 "cells": [
  {
   "cell_type": "markdown",
   "id": "872e80ce-6aea-46f8-898b-3b23dcb632fd",
   "metadata": {},
   "source": [
    "# Class Notes: 5/13/25 Tuesday"
   ]
  },
  {
   "cell_type": "code",
   "execution_count": 1,
   "id": "20212e7a-ab03-46d6-b376-37f383835eb5",
   "metadata": {},
   "outputs": [],
   "source": [
    "import random\n",
    "\n",
    "def snake_eyes_sim(trials):\n",
    "    count = 0\n",
    "    die1 = 0\n",
    "    die2 = 0\n",
    "    tally = 0\n",
    "    while count < trials:\n",
    "        #roll the die\n",
    "        die1 = random.randint(1,6)\n",
    "        die2 = random.randint(1,6)\n",
    "        #check for snake eyes\n",
    "        if die1 == 1 and die2 == 1:\n",
    "            #tally it\n",
    "            tally = tally + 1\n",
    "        count = count + 1\n",
    "\n",
    "    probability = tally / trials\n",
    "    return probability"
   ]
  },
  {
   "cell_type": "code",
   "execution_count": 4,
   "id": "78f05142-7ff5-4b04-9cc8-41375951cdfa",
   "metadata": {},
   "outputs": [
    {
     "name": "stdin",
     "output_type": "stream",
     "text": [
      "enter the number of trials to run, or type 0 to quit:  0\n"
     ]
    }
   ],
   "source": [
    "\n",
    "\n",
    "def main():\n",
    "    n = int(input(\"enter the number of trials to run, or type 0 to quit: \"))\n",
    "    while n != 0:\n",
    "        prob = snake_eyes_sim(n)\n",
    "        print(f\"the probability of rolling snake eyes is: {prob}\")\n",
    "        n = int(input(\"enter the number of trials to run, or type 0 to quit: \"))\n",
    "\n",
    "main()\n"
   ]
  }
 ],
 "metadata": {
  "kernelspec": {
   "display_name": "Python 3 (ipykernel)",
   "language": "python",
   "name": "python3"
  },
  "language_info": {
   "codemirror_mode": {
    "name": "ipython",
    "version": 3
   },
   "file_extension": ".py",
   "mimetype": "text/x-python",
   "name": "python",
   "nbconvert_exporter": "python",
   "pygments_lexer": "ipython3",
   "version": "3.12.5"
  }
 },
 "nbformat": 4,
 "nbformat_minor": 5
}
