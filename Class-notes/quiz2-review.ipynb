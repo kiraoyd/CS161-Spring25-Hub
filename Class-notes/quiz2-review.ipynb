{
 "cells": [
  {
   "cell_type": "markdown",
   "id": "b0efc77c-ccf3-49c4-91fd-817bd21f4937",
   "metadata": {},
   "source": [
    "# Question 1: Write a loop that works through a sequence of numbers and tallys up all the evens"
   ]
  },
  {
   "cell_type": "code",
   "execution_count": 3,
   "id": "6a1ff725-acb3-4c1a-9d9b-1a2678c90cbb",
   "metadata": {},
   "outputs": [
    {
     "name": "stdout",
     "output_type": "stream",
     "text": [
      "50\n"
     ]
    }
   ],
   "source": [
    "\n",
    "def count_evens(n):\n",
    "    count = 1\n",
    "    tally = 0\n",
    "    while count <= n:\n",
    "        #if count is ever an even number, tally it up\n",
    "        if count % 2 == 0:\n",
    "            tally = tally + 1\n",
    "            \n",
    "        count = count + 1\n",
    "\n",
    "    return tally\n",
    "\n",
    "def main():\n",
    "    n = 100\n",
    "    result = count_evens(n)\n",
    "    print(result)\n",
    "\n",
    "main()\n",
    "      \n",
    "    "
   ]
  },
  {
   "cell_type": "markdown",
   "id": "c4eb08d8-edc8-459b-a15f-aa556c706956",
   "metadata": {},
   "source": [
    "# Question 2: Read code\n"
   ]
  },
  {
   "cell_type": "code",
   "execution_count": 4,
   "id": "881c7a70-6e00-4742-8a25-0c3f59f2fddf",
   "metadata": {},
   "outputs": [
    {
     "name": "stdout",
     "output_type": "stream",
     "text": [
      "0\n",
      "4\n",
      "8\n",
      "12\n",
      "16\n",
      "20\n"
     ]
    }
   ],
   "source": [
    "def countup(num):\n",
    "    digit = 0\n",
    "    while digit <= num:\n",
    "        print(digit)\n",
    "        digit = digit + 4\n",
    "\n",
    "def main():\n",
    "    number = 20\n",
    "    countup(number)\n",
    "\n",
    "main()"
   ]
  },
  {
   "cell_type": "code",
   "execution_count": null,
   "id": "95e6a5ed-158f-4a26-aa8c-ef3a44c68fcb",
   "metadata": {},
   "outputs": [],
   "source": []
  }
 ],
 "metadata": {
  "kernelspec": {
   "display_name": "Python 3 (ipykernel)",
   "language": "python",
   "name": "python3"
  },
  "language_info": {
   "codemirror_mode": {
    "name": "ipython",
    "version": 3
   },
   "file_extension": ".py",
   "mimetype": "text/x-python",
   "name": "python",
   "nbconvert_exporter": "python",
   "pygments_lexer": "ipython3",
   "version": "3.12.5"
  }
 },
 "nbformat": 4,
 "nbformat_minor": 5
}
