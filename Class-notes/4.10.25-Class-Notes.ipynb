{
 "cells": [
  {
   "cell_type": "markdown",
   "id": "f0e1868f-479d-4418-86a5-b06b5951d0c5",
   "metadata": {},
   "source": [
    "# Solution to the Pizza Calculator Problem"
   ]
  },
  {
   "cell_type": "code",
   "execution_count": null,
   "id": "initial_id",
   "metadata": {
    "collapsed": true,
    "jupyter": {
     "outputs_hidden": true
    }
   },
   "outputs": [],
   "source": [
    "import math\n",
    "PI = math.pi\n",
    "\n",
    "# welcome the person to the program\n",
    "print(\"Welcome to my program! It will calculate the Cost per square inch of a pizza.\")\n",
    "\n",
    "# ask for the size of pizza, and store that value\n",
    "print(\"Please enter the size of the pizza: \")\n",
    "size = input()\n",
    "size_as_number = float(size)\n",
    "\n",
    "# ask for the price of the pizza, and store that value\n",
    "print(\"Please enter the price of the pizza: \")\n",
    "price = input()\n",
    "price_as_number = float(price)\n",
    "\n",
    "# Calculate is the Cost Per Square inch of this pizza\n",
    "# 1) take the diameter and calculate the radius\n",
    "radius = size_as_number / 2\n",
    "#print(f\"Radius: {radius}\")\n",
    "\n",
    "# 2) Use the radius to calculate the surface area of the pizza pie\n",
    "surface_area = PI*(radius*radius)\n",
    "#print(f\"Surface Area: {surface_area}\")\n",
    "\n",
    "# 3) Divide the price by the surface area to get the CPSI\n",
    "#Cost per square inch = price / surface area\n",
    "cpsi = price_as_number / surface_area\n",
    "print(f\"Cost Per square inch is: {cpsi}\")\n",
    "\n",
    "# Display the results and say goodbye\n",
    "print(\"Goodbye! Thanks for using my program.\")\n",
    "\n"
   ]
  }
 ],
 "metadata": {
  "kernelspec": {
   "display_name": "Python 3 (ipykernel)",
   "language": "python",
   "name": "python3"
  },
  "language_info": {
   "codemirror_mode": {
    "name": "ipython",
    "version": 3
   },
   "file_extension": ".py",
   "mimetype": "text/x-python",
   "name": "python",
   "nbconvert_exporter": "python",
   "pygments_lexer": "ipython3",
   "version": "3.12.5"
  }
 },
 "nbformat": 4,
 "nbformat_minor": 5
}
