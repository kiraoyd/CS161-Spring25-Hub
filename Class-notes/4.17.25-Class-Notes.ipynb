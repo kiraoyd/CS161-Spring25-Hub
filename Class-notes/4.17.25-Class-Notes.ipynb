{
 "cells": [
  {
   "cell_type": "markdown",
   "id": "775f6681aa4f8db1",
   "metadata": {},
   "source": [
    "## Reusable blocks of code - defining a function."
   ]
  },
  {
   "cell_type": "code",
   "execution_count": null,
   "id": "7f5b121e-0f87-42a5-942d-9f7234c52af7",
   "metadata": {},
   "outputs": [],
   "source": [
    "#say_hello"
   ]
  },
  {
   "cell_type": "markdown",
   "id": "83a5886068ddccf8",
   "metadata": {},
   "source": [
    "## Calling (using) a function.\n"
   ]
  },
  {
   "cell_type": "code",
   "execution_count": null,
   "id": "2a865f5946f71977",
   "metadata": {},
   "outputs": [],
   "source": [
    "#use say_hello"
   ]
  },
  {
   "cell_type": "markdown",
   "id": "5e32ab0854d4b856",
   "metadata": {},
   "source": [
    "## `main()` - A program, is a function."
   ]
  },
  {
   "cell_type": "markdown",
   "id": "625f1764d2235edc",
   "metadata": {},
   "source": [
    "\n",
    "\n",
    "<div style=\"background-color: #F8F8F8; border: 4px solid #FFD54F; padding: 10px; border-radius: 5px;\">\n",
    "\n",
    "## Try it!\n",
    "\n",
    "Head on over to the Graded-Practice-Problems folder, Week-Two, and work on the **Pizza-Welcome-Goodbye** program to build your first output function.\n"
   ]
  },
  {
   "cell_type": "code",
   "execution_count": 1,
   "id": "53e5dfad8dbecabb",
   "metadata": {},
   "outputs": [],
   "source": [
    "#Creating a main calling routine"
   ]
  },
  {
   "cell_type": "markdown",
   "id": "4ee4a00746cadf2b",
   "metadata": {},
   "source": [
    "## Tracing - How the computer moves around with functions\n",
    "\n",
    "\n",
    "<div style=\"background-color: #F8F8F8; border: 4px solid #FFD54F; padding: 10px; border-radius: 5px;\">\n",
    "\n",
    "## Try it!\n",
    "\n",
    "Head on over to the Graded-Practice-Problems folder, Week-Three, and work on the **Find-the-fruits** program to build your first output function.\n",
    "\n"
   ]
  },
  {
   "cell_type": "markdown",
   "id": "dc27e61b654f2b82",
   "metadata": {},
   "source": [
    "## Function Scope - what happens in a function, stays in a function\n"
   ]
  },
  {
   "cell_type": "code",
   "execution_count": 2,
   "id": "657d25bf58822c8f",
   "metadata": {},
   "outputs": [],
   "source": [
    "#get_price, trapped value in the pizza program"
   ]
  },
  {
   "cell_type": "markdown",
   "id": "e0b7ba4d7e44be92",
   "metadata": {},
   "source": [
    "## Return Values - getting things out of a function"
   ]
  },
  {
   "cell_type": "code",
   "execution_count": null,
   "id": "5e213902f08d97b0",
   "metadata": {},
   "outputs": [],
   "source": [
    "#get_price, returning the value from an input function"
   ]
  },
  {
   "cell_type": "markdown",
   "id": "f126802718ca1f86",
   "metadata": {},
   "source": [
    "In the code cell below, try writing a function to get the size of the pizza as input, and return it."
   ]
  },
  {
   "cell_type": "code",
   "execution_count": null,
   "id": "75b46f236c6dceb4",
   "metadata": {},
   "outputs": [],
   "source": [
    "# 👇👇 Place your code below this line 👇👇\n",
    "# run it by typing `ctrl + enter-key' on your keyboard\n"
   ]
  },
  {
   "cell_type": "markdown",
   "id": "4c686da66f441746",
   "metadata": {},
   "source": [
    "\n",
    "\n",
    "<div style=\"background-color: #F8F8F8; border: 4px solid #FFD54F; padding: 10px; border-radius: 5px;\">\n",
    "\n",
    "## Try it!\n",
    "\n",
    "Head on over to the Graded-Practice-Problems folder, Week-Three, and work on the **6-Sided-Die** program to build your first function that returns a value.\n",
    "\n"
   ]
  },
  {
   "cell_type": "markdown",
   "id": "929ecb18ccb4daf1",
   "metadata": {},
   "source": [
    "## Parameters - setting expectations for getting things into a function"
   ]
  },
  {
   "cell_type": "code",
   "execution_count": null,
   "id": "b6fbbce2df6dcb4b",
   "metadata": {},
   "outputs": [],
   "source": [
    "#pizza_welcome_message, expecting a name"
   ]
  },
  {
   "cell_type": "markdown",
   "id": "6f74a601f3906d84",
   "metadata": {},
   "source": [
    "## Arguments - fulfilling expectations\n"
   ]
  },
  {
   "cell_type": "code",
   "execution_count": null,
   "id": "77cdcadf1b45a462",
   "metadata": {},
   "outputs": [],
   "source": [
    "#calling pizza_welcome_message, passing in someones name"
   ]
  },
  {
   "cell_type": "markdown",
   "id": "818aa9dc0a7c3d1f",
   "metadata": {},
   "source": [
    "Parameter names and arguments do NOT have to match.\n"
   ]
  },
  {
   "cell_type": "code",
   "execution_count": null,
   "id": "6e75f7fcb7cdd0df",
   "metadata": {},
   "outputs": [],
   "source": [
    "#pizza_welcome_message, mismatched parameter and argument names"
   ]
  },
  {
   "cell_type": "markdown",
   "id": "71f70f2729b4bd3d",
   "metadata": {},
   "source": [
    "Multiple Parameters"
   ]
  },
  {
   "cell_type": "code",
   "execution_count": null,
   "id": "4718f8007b459d53",
   "metadata": {},
   "outputs": [],
   "source": [
    "#pizza_welcome_message, multiple names"
   ]
  },
  {
   "cell_type": "markdown",
   "id": "c28ede71fa57b128",
   "metadata": {},
   "source": [
    "## Functions with Parameters and Return Values - putting it all together to build tools that need information and return information\n"
   ]
  },
  {
   "cell_type": "code",
   "execution_count": null,
   "id": "3cf8aee23da28554",
   "metadata": {},
   "outputs": [],
   "source": [
    "#cost_per_square_inch"
   ]
  },
  {
   "cell_type": "markdown",
   "id": "f00249bb6af351a9",
   "metadata": {},
   "source": [
    "<div style=\"background-color: #F8F8F8; border: 4px solid #FFD54F; padding: 10px; border-radius: 5px;\">\n",
    "\n",
    "## Try it!\n",
    "\n",
    "Head on over to the Graded-Practice-Problems folder, Week-Three, and work on the **n-Sided-Die** program."
   ]
  }
 ],
 "metadata": {
  "kernelspec": {
   "display_name": "Python 3 (ipykernel)",
   "language": "python",
   "name": "python3"
  },
  "language_info": {
   "codemirror_mode": {
    "name": "ipython",
    "version": 3
   },
   "file_extension": ".py",
   "mimetype": "text/x-python",
   "name": "python",
   "nbconvert_exporter": "python",
   "pygments_lexer": "ipython3",
   "version": "3.12.5"
  }
 },
 "nbformat": 4,
 "nbformat_minor": 5
}
