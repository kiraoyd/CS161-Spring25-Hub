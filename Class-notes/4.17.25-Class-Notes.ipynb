{
 "cells": [
  {
   "metadata": {},
   "cell_type": "markdown",
   "source": "## Reusable blocks of code - defining a function.",
   "id": "775f6681aa4f8db1"
  },
  {
   "metadata": {},
   "cell_type": "code",
   "outputs": [],
   "execution_count": null,
   "source": "#say_hello",
   "id": "cd605de50bdcee0c"
  },
  {
   "metadata": {},
   "cell_type": "markdown",
   "source": "## Calling (using) a function.\n",
   "id": "83a5886068ddccf8"
  },
  {
   "metadata": {},
   "cell_type": "code",
   "outputs": [],
   "execution_count": null,
   "source": "#use say_hello",
   "id": "2a865f5946f71977"
  },
  {
   "metadata": {},
   "cell_type": "markdown",
   "source": "## `main()` - A program, is a function.",
   "id": "5e32ab0854d4b856"
  },
  {
   "metadata": {},
   "cell_type": "code",
   "outputs": [],
   "execution_count": null,
   "source": "#Creating a main calling routine",
   "id": "53e5dfad8dbecabb"
  },
  {
   "metadata": {},
   "cell_type": "markdown",
   "source": [
    "\n",
    "\n",
    "<div style=\"background-color: #F8F8F8; border: 4px solid #FFD54F; padding: 10px; border-radius: 5px;\">\n",
    "\n",
    "## Try it!\n",
    "\n",
    "Head on over to the Graded-Practice-Problems folder, Week-Two, and work on the **Pizza-Welcome-Goodbye** program to build your first output function.\n"
   ],
   "id": "625f1764d2235edc"
  },
  {
   "metadata": {},
   "cell_type": "markdown",
   "source": [
    "## Tracing - How the computer moves around with functions\n",
    "\n",
    "\n",
    "<div style=\"background-color: #F8F8F8; border: 4px solid #FFD54F; padding: 10px; border-radius: 5px;\">\n",
    "\n",
    "## Try it!\n",
    "\n",
    "Head on over to the Graded-Practice-Problems folder, Week-Three, and work on the **Find-the-fruits** program to build your first output function.\n",
    "\n"
   ],
   "id": "4ee4a00746cadf2b"
  },
  {
   "metadata": {},
   "cell_type": "markdown",
   "source": "## Function Scope - what happens in a function, stays in a function\n",
   "id": "dc27e61b654f2b82"
  },
  {
   "metadata": {},
   "cell_type": "code",
   "outputs": [],
   "execution_count": null,
   "source": "#get_price, trapped value in the pizza program",
   "id": "657d25bf58822c8f"
  },
  {
   "metadata": {},
   "cell_type": "markdown",
   "source": "## Return Values - getting things out of a function",
   "id": "e0b7ba4d7e44be92"
  },
  {
   "metadata": {},
   "cell_type": "code",
   "outputs": [],
   "execution_count": null,
   "source": "#get_price, returning the value from an input function",
   "id": "5e213902f08d97b0"
  },
  {
   "metadata": {},
   "cell_type": "markdown",
   "source": "In the code cell below, try writing a function to get the size of the pizza as input, and return it.",
   "id": "f126802718ca1f86"
  },
  {
   "metadata": {},
   "cell_type": "code",
   "outputs": [],
   "execution_count": null,
   "source": [
    "# 👇👇 Place your code below this line 👇👇\n",
    "# run it by typing `ctrl + enter-key' on your keyboard\n"
   ],
   "id": "75b46f236c6dceb4"
  },
  {
   "metadata": {},
   "cell_type": "markdown",
   "source": [
    "\n",
    "\n",
    "<div style=\"background-color: #F8F8F8; border: 4px solid #FFD54F; padding: 10px; border-radius: 5px;\">\n",
    "\n",
    "## Try it!\n",
    "\n",
    "Head on over to the Graded-Practice-Problems folder, Week-Three, and work on the **6-Sided-Die** program to build your first function that returns a value.\n",
    "\n"
   ],
   "id": "4c686da66f441746"
  },
  {
   "metadata": {},
   "cell_type": "markdown",
   "source": "## Parameters - setting expectations for getting things into a function",
   "id": "929ecb18ccb4daf1"
  },
  {
   "metadata": {},
   "cell_type": "code",
   "outputs": [],
   "execution_count": null,
   "source": "#pizza_welcome_message, expecting a name",
   "id": "b6fbbce2df6dcb4b"
  },
  {
   "metadata": {},
   "cell_type": "markdown",
   "source": "## Arguments - fulfilling expectations\n",
   "id": "6f74a601f3906d84"
  },
  {
   "metadata": {},
   "cell_type": "code",
   "outputs": [],
   "execution_count": null,
   "source": "#calling pizza_welcome_message, passing in someones name",
   "id": "77cdcadf1b45a462"
  },
  {
   "metadata": {},
   "cell_type": "markdown",
   "source": "Parameter names and arguments do NOT have to match.\n",
   "id": "818aa9dc0a7c3d1f"
  },
  {
   "metadata": {},
   "cell_type": "code",
   "outputs": [],
   "execution_count": null,
   "source": "#pizza_welcome_message, mismatched parameter and argument names",
   "id": "6e75f7fcb7cdd0df"
  },
  {
   "metadata": {},
   "cell_type": "markdown",
   "source": "Multiple Parameters",
   "id": "71f70f2729b4bd3d"
  },
  {
   "metadata": {},
   "cell_type": "code",
   "outputs": [],
   "execution_count": null,
   "source": "#pizza_welcome_message, multiple names",
   "id": "4718f8007b459d53"
  },
  {
   "metadata": {},
   "cell_type": "markdown",
   "source": "## Functions with Parameters and Return Values - putting it all together to build tools that need information and return information\n",
   "id": "c28ede71fa57b128"
  },
  {
   "metadata": {},
   "cell_type": "code",
   "outputs": [],
   "execution_count": null,
   "source": "#cost_per_square_inch",
   "id": "3cf8aee23da28554"
  },
  {
   "metadata": {},
   "cell_type": "markdown",
   "source": [
    "<div style=\"background-color: #F8F8F8; border: 4px solid #FFD54F; padding: 10px; border-radius: 5px;\">\n",
    "\n",
    "## Try it!\n",
    "\n",
    "Head on over to the Graded-Practice-Problems folder, Week-Three, and work on the **n-Sided-Die** program."
   ],
   "id": "f00249bb6af351a9"
  }
 ],
 "metadata": {
  "kernelspec": {
   "display_name": "Python 3",
   "language": "python",
   "name": "python3"
  },
  "language_info": {
   "codemirror_mode": {
    "name": "ipython",
    "version": 2
   },
   "file_extension": ".py",
   "mimetype": "text/x-python",
   "name": "python",
   "nbconvert_exporter": "python",
   "pygments_lexer": "ipython2",
   "version": "2.7.6"
  }
 },
 "nbformat": 4,
 "nbformat_minor": 5
}
