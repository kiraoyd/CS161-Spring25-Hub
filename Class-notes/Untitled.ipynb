{
 "cells": [
  {
   "cell_type": "markdown",
   "id": "dad655a6-ec9c-4c28-9143-28cf5ded2a28",
   "metadata": {},
   "source": [
    "# Class Notes 5/27/25\n"
   ]
  },
  {
   "cell_type": "code",
   "execution_count": 3,
   "id": "ec6ee2c5-8047-4cf3-b95c-d27ffe90339e",
   "metadata": {},
   "outputs": [
    {
     "name": "stdout",
     "output_type": "stream",
     "text": [
      "The list before Tommy: [10, 50, 20]\n"
     ]
    },
    {
     "name": "stdin",
     "output_type": "stream",
     "text": [
      "Hit enter to continue >>> \n"
     ]
    },
    {
     "name": "stdout",
     "output_type": "stream",
     "text": [
      "The list after Tommy: [10, 50, 0]\n"
     ]
    }
   ],
   "source": [
    "def tommy(some_list, index):\n",
    "    some_list[index] = 0\n",
    "    #nothing to return, the List is passed by reference\n",
    "\n",
    "\n",
    "def main():\n",
    "    data = [10, 50, 20]\n",
    "    print(f\"The list before Tommy: {data}\")\n",
    "    index = 2\n",
    "    tommy(data, index) #nothing to catch\n",
    "    input(\"Hit enter to continue >>>\")\n",
    "    print(f\"The list after Tommy: {data}\") #Tommy changed the actual List\n",
    "\n",
    "main()"
   ]
  },
  {
   "cell_type": "markdown",
   "id": "2fc2bdf6-2df6-4c57-8d22-762e1af6dc7b",
   "metadata": {},
   "source": [
    "# Search and Destroy (no functions)"
   ]
  },
  {
   "cell_type": "code",
   "execution_count": 4,
   "id": "927e031f-cdf4-463b-abca-e92e90f617cc",
   "metadata": {},
   "outputs": [
    {
     "name": "stdin",
     "output_type": "stream",
     "text": [
      "Enter a number:  3\n",
      "Enter a number:  4\n",
      "Enter a number:  6\n",
      "Enter a number:  4\n",
      "Enter a number:  10\n",
      "Enter a number:  -1\n"
     ]
    },
    {
     "name": "stdout",
     "output_type": "stream",
     "text": [
      "The data we got: [3, 4, 6, 4, 10]\n"
     ]
    },
    {
     "name": "stdin",
     "output_type": "stream",
     "text": [
      "What number do you want to destroy? 4\n"
     ]
    },
    {
     "name": "stdout",
     "output_type": "stream",
     "text": [
      "The data after search and destroy is: [3, 0, 6, 0, 10]\n"
     ]
    }
   ],
   "source": [
    "data = []\n",
    "n = int(input(\"Enter a number: \"))\n",
    "while n != -1:\n",
    "    data.append(n)\n",
    "    n = int(input(\"Enter a number: \"))\n",
    "\n",
    "print(f\"The data we got: {data}\")\n",
    "\n",
    "length = len(data)\n",
    "target = int(input(\"What number do you want to destroy?\"))\n",
    "index = 0\n",
    "while index < length:\n",
    "    if data[index] == target:\n",
    "        data[index] = 0\n",
    "    index = index + 1\n",
    "\n",
    "print(f\"The data after search and destroy is: {data}\")"
   ]
  },
  {
   "cell_type": "markdown",
   "id": "9397bfb7-48b6-4b9a-b964-ad37b2eec0c2",
   "metadata": {},
   "source": [
    "# Search and Destroy (with functions!)"
   ]
  },
  {
   "cell_type": "code",
   "execution_count": 7,
   "id": "c2a02835-c54d-45d0-8812-8d5c8fdad8c4",
   "metadata": {},
   "outputs": [
    {
     "name": "stdin",
     "output_type": "stream",
     "text": [
      "Enter a number:  3\n",
      "Enter a number:  4\n",
      "Enter a number:  5\n",
      "Enter a number:  4\n",
      "Enter a number:  6\n",
      "Enter a number:  -1\n"
     ]
    },
    {
     "name": "stdout",
     "output_type": "stream",
     "text": [
      "The data we got: [3, 4, 5, 4, 6]\n",
      "The list after fill_data(): [3, 4, 5, 4, 6]\n"
     ]
    },
    {
     "name": "stdin",
     "output_type": "stream",
     "text": [
      "What number do you want to destroy? 4\n"
     ]
    },
    {
     "name": "stdout",
     "output_type": "stream",
     "text": [
      "The data after search and destroy is: [3, 0, 5, 0, 6]\n"
     ]
    }
   ],
   "source": [
    "def fill_list(data):\n",
    "    #data = [] <-- we don't need to create the list here anymore!\n",
    "    n = int(input(\"Enter a number: \"))\n",
    "    while n != -1:\n",
    "        data.append(n)\n",
    "        n = int(input(\"Enter a number: \"))\n",
    "\n",
    "    print(f\"The data we got: {data}\")\n",
    "\n",
    "def search_and_destroy(some_list):\n",
    "    length = len(some_list)\n",
    "    target = int(input(\"What number do you want to destroy?\"))\n",
    "    index = 0\n",
    "    while index < length:\n",
    "        if some_list[index] == target:\n",
    "            some_list[index] = 0\n",
    "        index = index + 1\n",
    "\n",
    "\n",
    "#MAIN CALLING ROUTINE\n",
    "my_stuff = [] #create the empty list\n",
    "fill_list(my_stuff) #my_stuff passed by reference\n",
    "\n",
    "print(f\"The list after fill_data(): {my_stuff}\")\n",
    "\n",
    "search_and_destroy(my_stuff) #my_stuff passed by reference\n",
    "print(f\"The data after search and destroy is: {my_stuff}\")"
   ]
  },
  {
   "cell_type": "code",
   "execution_count": null,
   "id": "07bb1a50-f0e2-4e7a-8223-57fd5ed4fef4",
   "metadata": {},
   "outputs": [],
   "source": []
  }
 ],
 "metadata": {
  "kernelspec": {
   "display_name": "Python 3 (ipykernel)",
   "language": "python",
   "name": "python3"
  },
  "language_info": {
   "codemirror_mode": {
    "name": "ipython",
    "version": 3
   },
   "file_extension": ".py",
   "mimetype": "text/x-python",
   "name": "python",
   "nbconvert_exporter": "python",
   "pygments_lexer": "ipython3",
   "version": "3.12.5"
  }
 },
 "nbformat": 4,
 "nbformat_minor": 5
}
