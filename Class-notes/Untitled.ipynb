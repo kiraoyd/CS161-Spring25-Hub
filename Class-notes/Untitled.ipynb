{
 "cells": [
  {
   "cell_type": "markdown",
   "id": "6f37bd5a-1168-4f1c-8117-c11cc89936db",
   "metadata": {},
   "source": [
    "# Class Notes: Thursday 5.29.25\n",
    "\n",
    "## Python Strings\n",
    "\n",
    "Strings in Python, are arrays that specifically represent Unicode characters. \n",
    "\n",
    "Unicode is a character encoding standard for representing characters as numbers in computers.\n",
    "\n",
    "https://home.unicode.org/\n",
    "\n",
    "String are arrays in Python. Lists are Pythons array type. So we can use List access syntax to get at individual characters in any String.\n",
    "\n",
    "Interesting factoid: Each character in Python is actually also a string with a length of 1.\n"
   ]
  },
  {
   "cell_type": "code",
   "execution_count": 1,
   "id": "dc974473-f4c6-4a8c-97dc-4ef794efd819",
   "metadata": {},
   "outputs": [
    {
     "name": "stdout",
     "output_type": "stream",
     "text": [
      "i\n"
     ]
    }
   ],
   "source": []
  },
  {
   "cell_type": "markdown",
   "id": "58ffd26d-bf33-4a5e-a8e3-69f7ba70c105",
   "metadata": {},
   "source": [
    "## We can loop over Python Strings"
   ]
  },
  {
   "cell_type": "code",
   "execution_count": null,
   "id": "28f8bc31-8236-401d-9631-6db590718f76",
   "metadata": {},
   "outputs": [],
   "source": []
  },
  {
   "cell_type": "markdown",
   "id": "03450024-eb37-469a-964e-9acbb16a1f64",
   "metadata": {},
   "source": [
    "## We can use len() on Strings"
   ]
  },
  {
   "cell_type": "code",
   "execution_count": null,
   "id": "e2d29b59-d3d9-4817-8657-3dbeee43baf7",
   "metadata": {},
   "outputs": [],
   "source": []
  },
  {
   "cell_type": "markdown",
   "id": "581b3925-d012-4365-b5da-2f79bff21329",
   "metadata": {},
   "source": [
    "## We can NOT use list accessor syntax to modify Strings"
   ]
  },
  {
   "cell_type": "code",
   "execution_count": null,
   "id": "978be983-65d2-4a3a-b072-7d2af8cdc998",
   "metadata": {},
   "outputs": [],
   "source": []
  },
  {
   "cell_type": "markdown",
   "id": "615d2f02-4cf0-4039-9ce5-f7622453e943",
   "metadata": {},
   "source": [
    "## But we can use other String Specific Python functions to modify Strings\n",
    "\n",
    "Here is documentation showing these functions:\n",
    "\n",
    "https://www.w3schools.com/python/python_ref_string.asp"
   ]
  },
  {
   "cell_type": "markdown",
   "id": "c5542040-0ed5-4814-b195-a0379f3249d6",
   "metadata": {},
   "source": [
    "## We can concatenate Strings, and thus characters, together to make new Strings"
   ]
  },
  {
   "cell_type": "code",
   "execution_count": null,
   "id": "aeb8ca8d-a1a4-43ae-9816-2e304f00c164",
   "metadata": {},
   "outputs": [],
   "source": []
  }
 ],
 "metadata": {
  "kernelspec": {
   "display_name": "Python 3 (ipykernel)",
   "language": "python",
   "name": "python3"
  },
  "language_info": {
   "codemirror_mode": {
    "name": "ipython",
    "version": 3
   },
   "file_extension": ".py",
   "mimetype": "text/x-python",
   "name": "python",
   "nbconvert_exporter": "python",
   "pygments_lexer": "ipython3",
   "version": "3.12.5"
  }
 },
 "nbformat": 4,
 "nbformat_minor": 5
}
