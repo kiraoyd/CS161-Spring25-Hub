{
 "cells": [
  {
   "cell_type": "markdown",
   "id": "6f37bd5a-1168-4f1c-8117-c11cc89936db",
   "metadata": {},
   "source": [
    "# Class Notes: Thursday 5.29.25\n",
    "\n",
    "## Python Strings\n",
    "\n",
    "Strings in Python, are arrays that specifically represent Unicode characters. \n",
    "\n",
    "Unicode is a character encoding standard for representing characters as numbers in computers.\n",
    "\n",
    "https://home.unicode.org/\n",
    "\n",
    "ASCII - prior to unicode\n",
    "\n",
    "String are arrays in Python. Lists are Pythons array type. So we can use List access syntax to get at individual characters in any String.\n",
    "\n",
    "Interesting factoid: Each character in Python is actually also a string with a length of 1.\n"
   ]
  },
  {
   "cell_type": "code",
   "execution_count": 4,
   "id": "dc974473-f4c6-4a8c-97dc-4ef794efd819",
   "metadata": {},
   "outputs": [
    {
     "name": "stdout",
     "output_type": "stream",
     "text": [
      "a\n"
     ]
    }
   ],
   "source": [
    "name = \"kira\"\n",
    "print(name[3])"
   ]
  },
  {
   "cell_type": "markdown",
   "id": "58ffd26d-bf33-4a5e-a8e3-69f7ba70c105",
   "metadata": {},
   "source": [
    "## We can loop over Python Strings"
   ]
  },
  {
   "cell_type": "code",
   "execution_count": 8,
   "id": "28f8bc31-8236-401d-9631-6db590718f76",
   "metadata": {},
   "outputs": [
    {
     "name": "stdout",
     "output_type": "stream",
     "text": [
      "This string has 10 number of characters.\n",
      "98\n",
      "97\n",
      "110\n",
      "97\n",
      "110\n",
      "97\n",
      "110\n",
      "97\n",
      "110\n",
      "97\n"
     ]
    }
   ],
   "source": [
    "name = \"banananana\"\n",
    "num_characters = len(name)\n",
    "print(f\"This string has {num_characters} number of characters.\")\n",
    "\n",
    "index = 0\n",
    "while index < num_characters:\n",
    "    print(name[index])\n",
    "    index = index + 1"
   ]
  },
  {
   "cell_type": "markdown",
   "id": "03450024-eb37-469a-964e-9acbb16a1f64",
   "metadata": {},
   "source": [
    "## We can use ord() to see the Unicode value of a character "
   ]
  },
  {
   "cell_type": "code",
   "execution_count": 12,
   "id": "e2d29b59-d3d9-4817-8657-3dbeee43baf7",
   "metadata": {},
   "outputs": [
    {
     "name": "stdout",
     "output_type": "stream",
     "text": [
      "97\n"
     ]
    },
    {
     "data": {
      "text/plain": [
       "'\\nword = \"hello\"\\nprint(ord(word))\\n'"
      ]
     },
     "execution_count": 12,
     "metadata": {},
     "output_type": "execute_result"
    }
   ],
   "source": [
    "letter = \"a\"\n",
    "print(ord(letter))\n",
    "\n",
    "#error!!\n",
    "\"\"\"\n",
    "word = \"hello\"\n",
    "print(ord(word))\n",
    "\"\"\""
   ]
  },
  {
   "cell_type": "markdown",
   "id": "581b3925-d012-4365-b5da-2f79bff21329",
   "metadata": {},
   "source": [
    "## We can NOT use list accessor syntax to modify Strings"
   ]
  },
  {
   "cell_type": "code",
   "execution_count": 14,
   "id": "978be983-65d2-4a3a-b072-7d2af8cdc998",
   "metadata": {},
   "outputs": [
    {
     "ename": "TypeError",
     "evalue": "'str' object does not support item assignment",
     "output_type": "error",
     "traceback": [
      "\u001b[1;31m---------------------------------------------------------------------------\u001b[0m",
      "\u001b[1;31mTypeError\u001b[0m                                 Traceback (most recent call last)",
      "Cell \u001b[1;32mIn[14], line 3\u001b[0m\n\u001b[0;32m      1\u001b[0m \u001b[38;5;66;03m#name = ['k', 'i', 'r', 'a']\u001b[39;00m\n\u001b[0;32m      2\u001b[0m name \u001b[38;5;241m=\u001b[39m \u001b[38;5;124m\"\u001b[39m\u001b[38;5;124mKira\u001b[39m\u001b[38;5;124m\"\u001b[39m\n\u001b[1;32m----> 3\u001b[0m \u001b[43mname\u001b[49m\u001b[43m[\u001b[49m\u001b[38;5;241;43m0\u001b[39;49m\u001b[43m]\u001b[49m \u001b[38;5;241m=\u001b[39m \u001b[38;5;124m\"\u001b[39m\u001b[38;5;124mh\u001b[39m\u001b[38;5;124m\"\u001b[39m\n\u001b[0;32m      4\u001b[0m \u001b[38;5;28mprint\u001b[39m(name)\n",
      "\u001b[1;31mTypeError\u001b[0m: 'str' object does not support item assignment"
     ]
    }
   ],
   "source": [
    "#name = ['k', 'i', 'r', 'a']\n",
    "name = \"Kira\"\n",
    "name[0] = \"h\"\n",
    "print(name)"
   ]
  },
  {
   "cell_type": "markdown",
   "id": "615d2f02-4cf0-4039-9ce5-f7622453e943",
   "metadata": {},
   "source": [
    "## But we can use other String Specific Python functions to modify Strings\n",
    "\n",
    "Here is documentation showing these functions:\n",
    "\n",
    "https://www.w3schools.com/python/python_ref_string.asp"
   ]
  },
  {
   "cell_type": "markdown",
   "id": "c5542040-0ed5-4814-b195-a0379f3249d6",
   "metadata": {},
   "source": [
    "## We can concatenate Strings, and thus characters, together to make new Strings"
   ]
  },
  {
   "cell_type": "code",
   "execution_count": 17,
   "id": "aeb8ca8d-a1a4-43ae-9816-2e304f00c164",
   "metadata": {},
   "outputs": [
    {
     "name": "stdout",
     "output_type": "stream",
     "text": [
      "hello world how are you?\n",
      "Hello World How Are You?\n"
     ]
    }
   ],
   "source": [
    "phrase = \"hello world how are you?\"\n",
    "\n",
    "print(phrase)\n",
    "\n",
    "new_phrase = phrase.title()\n",
    "\n",
    "print(new_phrase)"
   ]
  },
  {
   "cell_type": "code",
   "execution_count": 29,
   "id": "19e50025-c53d-4516-a75b-1d66cc32a776",
   "metadata": {},
   "outputs": [
    {
     "name": "stdout",
     "output_type": "stream",
     "text": [
      "Hello World\n"
     ]
    }
   ],
   "source": [
    "# String concatenation\n",
    "\n",
    "word1 = \"Hello\"\n",
    "\n",
    "space = \" \"\n",
    "\n",
    "word2 = \"World\"\n",
    "\n",
    "phrase = word1 + space + word2 \n",
    "\n",
    "print(phrase)\n",
    "\n"
   ]
  },
  {
   "cell_type": "code",
   "execution_count": null,
   "id": "ec015bb2-d9fa-4001-bfef-04f56e173f5c",
   "metadata": {},
   "outputs": [],
   "source": []
  }
 ],
 "metadata": {
  "kernelspec": {
   "display_name": "Python 3 (ipykernel)",
   "language": "python",
   "name": "python3"
  },
  "language_info": {
   "codemirror_mode": {
    "name": "ipython",
    "version": 3
   },
   "file_extension": ".py",
   "mimetype": "text/x-python",
   "name": "python",
   "nbconvert_exporter": "python",
   "pygments_lexer": "ipython3",
   "version": "3.12.5"
  }
 },
 "nbformat": 4,
 "nbformat_minor": 5
}
