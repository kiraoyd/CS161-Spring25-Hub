{
 "cells": [
  {
   "cell_type": "code",
   "execution_count": null,
   "id": "initial_id",
   "metadata": {
    "collapsed": true
   },
   "outputs": [],
   "source": [
    ""
   ]
  },
  {
   "metadata": {},
   "cell_type": "markdown",
   "source": "# You can take notes here",
   "id": "16033f5a2dbca998"
  },
  {
   "metadata": {},
   "cell_type": "code",
   "outputs": [],
   "execution_count": null,
   "source": "# And write code!",
   "id": "4b23170795a95df9"
  },
  {
   "metadata": {},
   "cell_type": "markdown",
   "source": [
    "## You can add as many note cells as you want...\n",
    "\n"
   ],
   "id": "72bf3108d61c0698"
  },
  {
   "metadata": {},
   "cell_type": "code",
   "outputs": [],
   "execution_count": null,
   "source": "#..and as many code cells as you want",
   "id": "a8f426312011080c"
  },
  {
   "metadata": {},
   "cell_type": "markdown",
   "source": "Click on any cell to edit. Hover over the bottom of a cell to add a new test (markdown) cell, or a new code cell.\n",
   "id": "db324acc1f122c80"
  },
  {
   "metadata": {},
   "cell_type": "markdown",
   "source": "# Make a copy this blank_notebook.ipynb file to start making your own notebook\n",
   "id": "728463ced57b77d0"
  },
  {
   "metadata": {},
   "cell_type": "code",
   "outputs": [],
   "execution_count": null,
   "source": "",
   "id": "e3ee731318a4260a"
  }
 ],
 "metadata": {
  "kernelspec": {
   "display_name": "Python 3",
   "language": "python",
   "name": "python3"
  },
  "language_info": {
   "codemirror_mode": {
    "name": "ipython",
    "version": 2
   },
   "file_extension": ".py",
   "mimetype": "text/x-python",
   "name": "python",
   "nbconvert_exporter": "python",
   "pygments_lexer": "ipython2",
   "version": "2.7.6"
  }
 },
 "nbformat": 4,
 "nbformat_minor": 5
}
