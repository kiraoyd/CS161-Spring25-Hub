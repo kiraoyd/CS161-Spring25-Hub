{
 "cells": [
  {
   "cell_type": "code",
   "execution_count": null,
   "id": "initial_id",
   "metadata": {
    "collapsed": true,
    "jupyter": {
     "outputs_hidden": true
    }
   },
   "outputs": [],
   "source": []
  },
  {
   "cell_type": "markdown",
   "id": "16033f5a2dbca998",
   "metadata": {},
   "source": [
    "# You can take notes here"
   ]
  },
  {
   "cell_type": "code",
   "execution_count": null,
   "id": "4b23170795a95df9",
   "metadata": {},
   "outputs": [],
   "source": [
    "# And write code!"
   ]
  },
  {
   "cell_type": "markdown",
   "id": "72bf3108d61c0698",
   "metadata": {},
   "source": [
    "## You can add as many note cells as you want...\n",
    "\n"
   ]
  },
  {
   "cell_type": "code",
   "execution_count": null,
   "id": "a8f426312011080c",
   "metadata": {},
   "outputs": [],
   "source": [
    "#..and as many code cells as you want"
   ]
  },
  {
   "cell_type": "markdown",
   "id": "db324acc1f122c80",
   "metadata": {},
   "source": [
    "Click on any cell to edit. Hover over the bottom of a cell to add a new test (markdown) cell, or a new code cell.\n"
   ]
  },
  {
   "cell_type": "markdown",
   "id": "728463ced57b77d0",
   "metadata": {},
   "source": [
    "# Make a copy this blank_notebook.ipynb file to start making your own notebook\n"
   ]
  },
  {
   "cell_type": "code",
   "execution_count": null,
   "id": "e3ee731318a4260a",
   "metadata": {},
   "outputs": [],
   "source": []
  }
 ],
 "metadata": {
  "kernelspec": {
   "display_name": "Python 3 (ipykernel)",
   "language": "python",
   "name": "python3"
  },
  "language_info": {
   "codemirror_mode": {
    "name": "ipython",
    "version": 3
   },
   "file_extension": ".py",
   "mimetype": "text/x-python",
   "name": "python",
   "nbconvert_exporter": "python",
   "pygments_lexer": "ipython3",
   "version": "3.12.5"
  }
 },
 "nbformat": 4,
 "nbformat_minor": 5
}
