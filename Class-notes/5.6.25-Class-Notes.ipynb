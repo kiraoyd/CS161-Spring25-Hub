{
 "cells": [
  {
   "cell_type": "markdown",
   "id": "2bd0f0ad-1a72-457a-b0fb-2108c33fef03",
   "metadata": {},
   "source": [
    "## 5.6.25\n",
    "\n",
    "# Sum Sequence"
   ]
  },
  {
   "cell_type": "code",
   "execution_count": null,
   "id": "33550806-8f77-47f0-b106-4148a9948678",
   "metadata": {},
   "outputs": [],
   "source": [
    "def sum_sequence(n):\n",
    "    count = 1\n",
    "    my_sum = 0\n",
    "    while count <= n:\n",
    "        #do something\n",
    "        my_sum = my_sum + count\n",
    "        count = count + 1\n",
    "\n",
    "    print(f\"The sum of 1 to {n} is {my_sum}\")\n",
    "\n",
    "def main():\n",
    "    n = 100000000\n",
    "    sum_sequence(n)\n",
    "\n",
    "main()"
   ]
  },
  {
   "cell_type": "code",
   "execution_count": null,
   "id": "254d54e1-7aba-4195-b418-1ac12335f1e5",
   "metadata": {},
   "outputs": [],
   "source": []
  }
 ],
 "metadata": {
  "kernelspec": {
   "display_name": "Python 3 (ipykernel)",
   "language": "python",
   "name": "python3"
  },
  "language_info": {
   "codemirror_mode": {
    "name": "ipython",
    "version": 3
   },
   "file_extension": ".py",
   "mimetype": "text/x-python",
   "name": "python",
   "nbconvert_exporter": "python",
   "pygments_lexer": "ipython3",
   "version": "3.12.5"
  }
 },
 "nbformat": 4,
 "nbformat_minor": 5
}
