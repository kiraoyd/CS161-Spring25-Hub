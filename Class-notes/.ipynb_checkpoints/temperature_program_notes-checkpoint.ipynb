{
 "cells": [
  {
   "metadata": {},
   "cell_type": "markdown",
   "source": "# Temperature Converter Program\n",
   "id": "da9dd3456f379ef3"
  },
  {
   "metadata": {},
   "cell_type": "markdown",
   "source": [
    "### What values do you need? Where do you get those values from? How will we store them?\n",
    "\n",
    "We need the initial Celsius value.\n"
   ],
   "id": "fc7a2e1b098bd113"
  },
  {
   "metadata": {
    "ExecuteTime": {
     "end_time": "2025-04-05T19:12:01.399973Z",
     "start_time": "2025-04-05T19:12:01.364230Z"
    }
   },
   "cell_type": "code",
   "source": [
    "#assume that we know the temp value in C\n",
    "#Lets assume that value is 10\n",
    "#variable - snake case naming\n",
    "celsius_temp = 10 #container 1\n",
    "\n",
    "celsiusTemp = 00 #container 2\n",
    "\n",
    "#celsius_temp and celsiusTemp are two completely different variables\n",
    "#two totally different spots in memory\n",
    "\n",
    "print(celsius_temp)\n",
    "print(celsiusTemp)\n"
   ],
   "id": "17aa9767f517b597",
   "outputs": [
    {
     "name": "stdout",
     "output_type": "stream",
     "text": [
      "10\n",
      "100\n"
     ]
    }
   ],
   "execution_count": 33
  },
  {
   "metadata": {},
   "cell_type": "markdown",
   "source": "### What values will need to be calculated?",
   "id": "e7a3f823d6e49dfb"
  },
  {
   "metadata": {
    "ExecuteTime": {
     "end_time": "2025-04-03T22:16:29.170641Z",
     "start_time": "2025-04-03T22:16:29.161646Z"
    }
   },
   "cell_type": "code",
   "source": [
    "# Mathematical formula: f = c(1.8) + 32\n",
    "celsius_temp = 10 #container 1\n",
    "f_temp = (celsius_temp * 1.8) + 32"
   ],
   "id": "d164a7024b4cd71",
   "outputs": [],
   "execution_count": 7
  },
  {
   "metadata": {},
   "cell_type": "markdown",
   "source": "### How do we report our results?",
   "id": "18a04042a68c658f"
  },
  {
   "metadata": {
    "ExecuteTime": {
     "end_time": "2025-04-03T22:26:34.548763Z",
     "start_time": "2025-04-03T22:26:34.537770Z"
    }
   },
   "cell_type": "code",
   "source": [
    "# Mathematical formula: f = c(1.8) + 32\n",
    "\n",
    "print(\"Welcome to my temperature converter program! 😁\")\n",
    "celsius_temp = 10 #container 1\n",
    "f_temp = (celsius_temp * 1.8) + 32\n",
    "\n",
    "print(f\"The result is: {f_temp}\")\n",
    "\n",
    "#Another way to output\n",
    "#print(\"The result is: \") #each print() statement, inserts newline after it\n",
    "#print(f_temp)\n",
    "\n",
    "#Another way to output\n",
    "#print(\"The result is: \", end='') #each print() statement, inserts newline after it\n",
    "#print(f_temp)\n",
    "\n",
    "\n"
   ],
   "id": "f3f9f555efe3ca4b",
   "outputs": [
    {
     "name": "stdout",
     "output_type": "stream",
     "text": [
      "Welcome to my temperature converter program! 😁\n",
      "The result is: 32.0\n"
     ]
    }
   ],
   "execution_count": 24
  },
  {
   "metadata": {},
   "cell_type": "code",
   "outputs": [],
   "execution_count": null,
   "source": "",
   "id": "63095d6500417b8b"
  },
  {
   "metadata": {},
   "cell_type": "markdown",
   "source": [
    "# What if I want to get a value into the program as INPUT?\n",
    "\n",
    "**input** refers to any information that comes into a program from an external source, primarily be things typed into the terminal"
   ],
   "id": "804fc657f36c6da3"
  },
  {
   "metadata": {
    "ExecuteTime": {
     "end_time": "2025-04-03T22:38:01.335983Z",
     "start_time": "2025-04-03T22:37:52.183837Z"
    }
   },
   "cell_type": "code",
   "source": [
    "# f = c(1.8) + 32\n",
    "print(\"Welcome to my temperature converter program! 😁\")\n",
    "\n",
    "#Get this as input instead\n",
    "print(\"Please enter your temperature in Celsius: \") #display a prompt\n",
    "celsius_temp = int(input())\n",
    "\n",
    "#int() <-- what ever you give to the int() tool, will be transformed into an integer\n",
    "#1. celsius_temp = int(input()) <-- input() alone, brings in whatever is typed as text\n",
    "#2. celsius_temp = int(\"0\") <--So if we type in a 0, we get a \"0\"\n",
    "#3. celsius_temp = 0 <-- after the int() tool does its work, \"0\" wil be converted to a numeric 0 and stored in the variable celsius_temp\n",
    "\n",
    "f_temp = (celsius_temp * 1.8) + 32\n",
    "\n",
    "print(f\"The result is: {f_temp}\")\n",
    "\n",
    "#Another way to output\n",
    "#print(\"The result is: \") #each print() statement, inserts newline after it\n",
    "#print(f_temp)\n",
    "\n",
    "#Another way to output\n",
    "#print(\"The result is: \", end='') #each print() statement, inserts newline after it\n",
    "#print(f_temp)\n"
   ],
   "id": "cba55946717f5fdd",
   "outputs": [
    {
     "name": "stdout",
     "output_type": "stream",
     "text": [
      "Welcome to my temperature converter program! 😁\n",
      "Please enter your temperature in Celsius: \n",
      "The result is: 1848.2\n"
     ]
    }
   ],
   "execution_count": 31
  }
 ],
 "metadata": {
  "kernelspec": {
   "display_name": "Python 3",
   "language": "python",
   "name": "python3"
  },
  "language_info": {
   "codemirror_mode": {
    "name": "ipython",
    "version": 2
   },
   "file_extension": ".py",
   "mimetype": "text/x-python",
   "name": "python",
   "nbconvert_exporter": "python",
   "pygments_lexer": "ipython2",
   "version": "2.7.6"
  }
 },
 "nbformat": 4,
 "nbformat_minor": 5
}
