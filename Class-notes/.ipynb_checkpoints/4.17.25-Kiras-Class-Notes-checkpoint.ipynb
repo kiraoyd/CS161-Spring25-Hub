{
 "cells": [
  {
   "cell_type": "markdown",
   "id": "775f6681aa4f8db1",
   "metadata": {},
   "source": [
    "## Reusable blocks of code - defining a function."
   ]
  },
  {
   "cell_type": "code",
   "execution_count": null,
   "id": "7f5b121e-0f87-42a5-942d-9f7234c52af7",
   "metadata": {},
   "outputs": [],
   "source": [
    "#say_hello\n",
    "\n",
    "def greet():\n",
    "    print(\"HELLLLOOOOOOOOO!\")\n",
    "    print(\"Welcome to my silly program.\")\n",
    "    print(\"I think you are great!\")\n",
    "\n",
    "greet()\n",
    "print(\"In between the functions....\")\n",
    "greet()\n",
    "greet()\n",
    "\n"
   ]
  },
  {
   "metadata": {},
   "cell_type": "markdown",
   "source": "## `main()` - A program, is a function.",
   "id": "2281353f2712df62"
  },
  {
   "metadata": {},
   "cell_type": "code",
   "outputs": [],
   "execution_count": null,
   "source": [
    "#say_hello\n",
    "\n",
    "def greet():\n",
    "    print(\"HELLLLOOOOOOOOO!\")\n",
    "    print(\"Welcome to my silly program.\")\n",
    "    print(\"I think you are great!\")\n",
    "\n",
    "#Main Calling Routine\n",
    "def main():\n",
    "    greet()\n",
    "    print(\"In between the functions....\")\n",
    "    greet()\n",
    "    greet()\n",
    "\n",
    "#call main\n",
    "main()"
   ],
   "id": "176a1cca8124b730"
  },
  {
   "metadata": {},
   "cell_type": "markdown",
   "source": [
    "\n",
    "\n",
    "<div style=\"background-color: #F8F8F8; border: 4px solid #FFD54F; padding: 10px; border-radius: 5px;\">\n",
    "\n",
    "## Try it!\n",
    "\n",
    "Head on over to the Graded-Practice-Problems folder, Week-Two, and work on the **Pizza-Welcome-Goodbye** program to build your first output function.\n"
   ],
   "id": "625f1764d2235edc"
  },
  {
   "cell_type": "markdown",
   "id": "4ee4a00746cadf2b",
   "metadata": {},
   "source": [
    "## Tracing - How the computer moves around with functions\n",
    "\n",
    "\n",
    "<div style=\"background-color: #F8F8F8; border: 4px solid #FFD54F; padding: 10px; border-radius: 5px;\">\n",
    "\n",
    "## Try it!\n",
    "\n",
    "Head on over to the Graded-Practice-Problems folder, Week-Three, and work on the **Find-the-fruits** program to build your first output function.\n",
    "\n"
   ]
  },
  {
   "metadata": {},
   "cell_type": "code",
   "outputs": [],
   "execution_count": null,
   "source": [
    "import math\n",
    "PI = math.pi\n",
    "\n",
    "def welcome_message():\n",
    "    print(\"Welcome to my program! It will calculate the Cost per square inch of a pizza.\")\n",
    "\n",
    "def goodbye_message():\n",
    "    print(\"Goodbye! Thanks for using my program.\")\n",
    "\n",
    "def get_size():\n",
    "    print(\"Please enter the size of the pizza: \")\n",
    "    size = input()\n",
    "    size_as_number = float(size)\n",
    "\n",
    "def main():\n",
    "    welcome_message()\n",
    "    get_size()\n",
    "\n",
    "    print(\"Please enter the price of the pizza: \")\n",
    "    price = input()\n",
    "    price_as_number = float(price)\n",
    "\n",
    "    radius = size_as_number / 2\n",
    "    surface_area = PI*(radius*radius)\n",
    "    cpsi = price_as_number / surface_area\n",
    "    print(f\"Cost Per square inch is: {cpsi}\")\n",
    "    goodbye_message()\n",
    "\n",
    "main()"
   ],
   "id": "3e5fcea928fbc581"
  },
  {
   "cell_type": "markdown",
   "id": "dc27e61b654f2b82",
   "metadata": {},
   "source": [
    "## Function Scope - what happens in a function, stays in a function\n"
   ]
  },
  {
   "cell_type": "code",
   "execution_count": 2,
   "id": "657d25bf58822c8f",
   "metadata": {},
   "outputs": [],
   "source": [
    "#get_size, trapped value in the pizza program\n",
    "\n",
    "import math\n",
    "PI = math.pi\n",
    "\n",
    "def welcome_message():\n",
    "    print(\"Welcome to my program! It will calculate the Cost per square inch of a pizza.\")\n",
    "\n",
    "def goodbye_message():\n",
    "    print(\"Goodbye! Thanks for using my program.\")\n",
    "\n",
    "def get_size():\n",
    "    print(\"Please enter the size of the pizza: \")\n",
    "    size = input()\n",
    "    size_as_number = float(size)\n",
    "\n",
    "def main():\n",
    "    welcome_message()\n",
    "    get_size()\n",
    "\n",
    "    print(\"Please enter the price of the pizza: \")\n",
    "    price = input()\n",
    "    price_as_number = float(price)\n",
    "\n",
    "    radius = size_as_number / 2 #error! size_as_number is trapped in the get_size function!\n",
    "    surface_area = PI*(radius*radius)\n",
    "    cpsi = price_as_number / surface_area\n",
    "    print(f\"Cost Per square inch is: {cpsi}\")\n",
    "    goodbye_message()\n",
    "\n",
    "main()"
   ]
  },
  {
   "cell_type": "markdown",
   "id": "e0b7ba4d7e44be92",
   "metadata": {},
   "source": [
    "## Return Values - getting things out of a function"
   ]
  },
  {
   "cell_type": "code",
   "execution_count": null,
   "id": "5e213902f08d97b0",
   "metadata": {},
   "outputs": [],
   "source": [
    "#get_size, returning the value from an input function\n",
    "\n",
    "import math\n",
    "PI = math.pi\n",
    "\n",
    "def welcome_message():\n",
    "    print(\"Welcome to my program! It will calculate the Cost per square inch of a pizza.\")\n",
    "\n",
    "def goodbye_message():\n",
    "    print(\"Goodbye! Thanks for using my program.\")\n",
    "\n",
    "def get_size():\n",
    "    print(\"Please enter the size of the pizza: \")\n",
    "    size = input()\n",
    "    size_as_number = float(size)\n",
    "    return size_as_number #get the value out of the function\n",
    "\n",
    "def main():\n",
    "    welcome_message()\n",
    "    pizza_size = get_size()  #catch it down here\n",
    "\n",
    "    print(\"Please enter the price of the pizza: \")\n",
    "    price = input()\n",
    "    price_as_number = float(price)\n",
    "\n",
    "    radius = pizza_size / 2 #make sure to use the right variable name\n",
    "    surface_area = PI*(radius*radius)\n",
    "    cpsi = price_as_number / surface_area\n",
    "    print(f\"Cost Per square inch is: {cpsi}\")\n",
    "    goodbye_message()\n",
    "\n",
    "main()"
   ]
  },
  {
   "cell_type": "markdown",
   "id": "f126802718ca1f86",
   "metadata": {},
   "source": "In the code cell below, try writing a function to get the price of the pizza as input, and return it."
  },
  {
   "cell_type": "code",
   "id": "75b46f236c6dceb4",
   "metadata": {
    "ExecuteTime": {
     "end_time": "2025-04-20T00:53:21.490695Z",
     "start_time": "2025-04-20T00:53:18.692588Z"
    }
   },
   "source": [
    "# 👇👇 Place your code below this line 👇👇\n",
    "# run it by typing `ctrl + enter-key' on your keyboard\n",
    "\n",
    "import math\n",
    "PI = math.pi\n",
    "\n",
    "def welcome_message():\n",
    "    print(\"Welcome to my program! It will calculate the Cost per square inch of a pizza.\")\n",
    "\n",
    "def goodbye_message():\n",
    "    print(\"Goodbye! Thanks for using my program.\")\n",
    "\n",
    "def get_size():\n",
    "    print(\"Please enter the size of the pizza: \")\n",
    "    size = input()\n",
    "    size_as_number = float(size)\n",
    "    return size_as_number #get the size value out of the function\n",
    "\n",
    "def get_price():\n",
    "    print(\"Please enter the price of the pizza: \")\n",
    "    price = input()\n",
    "    price_as_number = float(price)\n",
    "    return price_as_number #get the price value out of the function\n",
    "\n",
    "def main():\n",
    "    welcome_message()\n",
    "    pizza_size = get_size()  #catch the returning size value\n",
    "\n",
    "    pizza_price = get_price() #catch the returning price value\n",
    "\n",
    "    radius = pizza_size / 2 #make sure to use the right variable name\n",
    "    surface_area = PI*(radius*radius)\n",
    "    cpsi = pizza_price / surface_area #use the right variable name\n",
    "    print(f\"Cost Per square inch is: {cpsi}\")\n",
    "    goodbye_message()\n",
    "\n",
    "main()\n"
   ],
   "outputs": [
    {
     "name": "stdout",
     "output_type": "stream",
     "text": [
      "Welcome to my program! It will calculate the Cost per square inch of a pizza.\n",
      "Please enter the size of the pizza: \n"
     ]
    },
    {
     "ename": "ValueError",
     "evalue": "could not convert string to float: 'import math\\nPI = math.pi\\n\\ndef welcome_message():\\n    print(\"Welcome to my program! It will calculate the Cost per square inch of a pizza.\")\\n\\ndef goodbye_message():\\n    print(\"Goodbye! Thanks for using my program.\")\\n\\ndef get_size():\\n    print(\"Please enter the size of the pizza: \")\\n    size = input()\\n    size_as_number = float(size)\\n    return size_as_number #get the size value out of the function\\n\\ndef get_price():\\n    print(\"Please enter the price of the pizza: \")\\n    price = input()\\n    price_as_number = float(price)\\n    return price_as_number #get the price value out of the function\\n\\ndef main():\\n    welcome_message()\\n    pizza_size = get_size()  #catch the returning size value\\n\\n    pizza_price = get_price() #catch the returning price value\\n\\n    radius = pizza_size / 2 #make sure to use the right variable name\\n    surface_area = PI*(radius*radius)\\n    cpsi = pizza_price / surface_area #use the right variable name\\n    print(f\"Cost Per square inch is: {cpsi}\")\\n    goodbye_message()\\n\\nmain()'",
     "output_type": "error",
     "traceback": [
      "\u001B[1;31m---------------------------------------------------------------------------\u001B[0m",
      "\u001B[1;31mValueError\u001B[0m                                Traceback (most recent call last)",
      "Cell \u001B[1;32mIn[1], line 37\u001B[0m\n\u001B[0;32m     34\u001B[0m     \u001B[38;5;28mprint\u001B[39m(\u001B[38;5;124mf\u001B[39m\u001B[38;5;124m\"\u001B[39m\u001B[38;5;124mCost Per square inch is: \u001B[39m\u001B[38;5;132;01m{\u001B[39;00mcpsi\u001B[38;5;132;01m}\u001B[39;00m\u001B[38;5;124m\"\u001B[39m)\n\u001B[0;32m     35\u001B[0m     goodbye_message()\n\u001B[1;32m---> 37\u001B[0m \u001B[43mmain\u001B[49m\u001B[43m(\u001B[49m\u001B[43m)\u001B[49m\n",
      "Cell \u001B[1;32mIn[1], line 27\u001B[0m, in \u001B[0;36mmain\u001B[1;34m()\u001B[0m\n\u001B[0;32m     25\u001B[0m \u001B[38;5;28;01mdef\u001B[39;00m\u001B[38;5;250m \u001B[39m\u001B[38;5;21mmain\u001B[39m():\n\u001B[0;32m     26\u001B[0m     welcome_message()\n\u001B[1;32m---> 27\u001B[0m     pizza_size \u001B[38;5;241m=\u001B[39m \u001B[43mget_size\u001B[49m\u001B[43m(\u001B[49m\u001B[43m)\u001B[49m  \u001B[38;5;66;03m#catch the returning size value\u001B[39;00m\n\u001B[0;32m     29\u001B[0m     pizza_price \u001B[38;5;241m=\u001B[39m get_price() \u001B[38;5;66;03m#catch the returning price value\u001B[39;00m\n\u001B[0;32m     31\u001B[0m     radius \u001B[38;5;241m=\u001B[39m pizza_size \u001B[38;5;241m/\u001B[39m \u001B[38;5;241m2\u001B[39m \u001B[38;5;66;03m#make sure to use the right variable name\u001B[39;00m\n",
      "Cell \u001B[1;32mIn[1], line 16\u001B[0m, in \u001B[0;36mget_size\u001B[1;34m()\u001B[0m\n\u001B[0;32m     14\u001B[0m \u001B[38;5;28mprint\u001B[39m(\u001B[38;5;124m\"\u001B[39m\u001B[38;5;124mPlease enter the size of the pizza: \u001B[39m\u001B[38;5;124m\"\u001B[39m)\n\u001B[0;32m     15\u001B[0m size \u001B[38;5;241m=\u001B[39m \u001B[38;5;28minput\u001B[39m()\n\u001B[1;32m---> 16\u001B[0m size_as_number \u001B[38;5;241m=\u001B[39m \u001B[38;5;28;43mfloat\u001B[39;49m\u001B[43m(\u001B[49m\u001B[43msize\u001B[49m\u001B[43m)\u001B[49m\n\u001B[0;32m     17\u001B[0m \u001B[38;5;28;01mreturn\u001B[39;00m size_as_number\n",
      "\u001B[1;31mValueError\u001B[0m: could not convert string to float: 'import math\\nPI = math.pi\\n\\ndef welcome_message():\\n    print(\"Welcome to my program! It will calculate the Cost per square inch of a pizza.\")\\n\\ndef goodbye_message():\\n    print(\"Goodbye! Thanks for using my program.\")\\n\\ndef get_size():\\n    print(\"Please enter the size of the pizza: \")\\n    size = input()\\n    size_as_number = float(size)\\n    return size_as_number #get the size value out of the function\\n\\ndef get_price():\\n    print(\"Please enter the price of the pizza: \")\\n    price = input()\\n    price_as_number = float(price)\\n    return price_as_number #get the price value out of the function\\n\\ndef main():\\n    welcome_message()\\n    pizza_size = get_size()  #catch the returning size value\\n\\n    pizza_price = get_price() #catch the returning price value\\n\\n    radius = pizza_size / 2 #make sure to use the right variable name\\n    surface_area = PI*(radius*radius)\\n    cpsi = pizza_price / surface_area #use the right variable name\\n    print(f\"Cost Per square inch is: {cpsi}\")\\n    goodbye_message()\\n\\nmain()'"
     ]
    }
   ],
   "execution_count": 1
  },
  {
   "cell_type": "markdown",
   "id": "4c686da66f441746",
   "metadata": {},
   "source": [
    "\n",
    "\n",
    "<div style=\"background-color: #F8F8F8; border: 4px solid #FFD54F; padding: 10px; border-radius: 5px;\">\n",
    "\n",
    "## Try it!\n",
    "\n",
    "Head on over to the Graded-Practice-Problems folder, Week-Three, and work on the **6-Sided-Die** program to build your first function that returns a value.\n",
    "\n"
   ]
  },
  {
   "cell_type": "markdown",
   "id": "929ecb18ccb4daf1",
   "metadata": {},
   "source": [
    "## Parameters - setting expectations for getting things into a function\n",
    "\n",
    "## Arguments - fulfilling expectations\n",
    "\n",
    "Parameter names and arguments do NOT have to match.\n"
   ]
  },
  {
   "cell_type": "code",
   "id": "b6fbbce2df6dcb4b",
   "metadata": {
    "ExecuteTime": {
     "end_time": "2025-04-20T00:54:46.087032Z",
     "start_time": "2025-04-20T00:54:35.373742Z"
    }
   },
   "source": [
    "#pizza_welcome_message, expecting a name\n",
    "import math\n",
    "PI = math.pi\n",
    "\n",
    "def welcome_message(name): #Add a parameter here\n",
    "    #use the parameter, the name must match!\n",
    "    print(f\"Welcome to my program {name}! It will calculate the Cost per square inch of a pizza.\")\n",
    "\n",
    "def goodbye_message():\n",
    "    print(\"Goodbye! Thanks for using my program.\")\n",
    "\n",
    "def get_size():\n",
    "    print(\"Please enter the size of the pizza: \")\n",
    "    size = input()\n",
    "    size_as_number = float(size)\n",
    "    return size_as_number\n",
    "\n",
    "def get_price():\n",
    "    print(\"Please enter the price of the pizza: \")\n",
    "    price = input()\n",
    "    price_as_number = float(price)\n",
    "    return price_as_number\n",
    "\n",
    "def main():\n",
    "    person = input(\"Enter your name: \")\n",
    "    welcome_message(person) #pass the name to the function, argument name does not have to match parameter name!\n",
    "    pizza_size = get_size()\n",
    "\n",
    "    pizza_price = get_price()\n",
    "\n",
    "    radius = pizza_size / 2\n",
    "    surface_area = PI*(radius*radius)\n",
    "    cpsi = pizza_price / surface_area\n",
    "    print(f\"Cost Per square inch is: {cpsi}\")\n",
    "    goodbye_message()\n",
    "\n",
    "main()"
   ],
   "outputs": [
    {
     "name": "stdout",
     "output_type": "stream",
     "text": [
      "Welcome to my program Kira! It will calculate the Cost per square inch of a pizza.\n",
      "Please enter the size of the pizza: \n",
      "Please enter the price of the pizza: \n",
      "Cost Per square inch is: 0.02660441888227485\n",
      "Goodbye! Thanks for using my program.\n"
     ]
    }
   ],
   "execution_count": 2
  },
  {
   "cell_type": "markdown",
   "id": "c28ede71fa57b128",
   "metadata": {},
   "source": [
    "## Functions with Parameters and Return Values - putting it all together to build tools that need information and return information\n"
   ]
  },
  {
   "cell_type": "code",
   "execution_count": null,
   "id": "3cf8aee23da28554",
   "metadata": {},
   "outputs": [],
   "source": [
    "#pizza_welcome_message, expecting a name\n",
    "import math\n",
    "PI = math.pi\n",
    "\n",
    "def welcome_message(name):\n",
    "    print(f\"Welcome to my program {name}! It will calculate the Cost per square inch of a pizza.\")\n",
    "\n",
    "def goodbye_message():\n",
    "    print(\"Goodbye! Thanks for using my program.\")\n",
    "\n",
    "def get_size():\n",
    "    print(\"Please enter the size of the pizza: \")\n",
    "    size = input()\n",
    "    size_as_number = float(size)\n",
    "    return size_as_number\n",
    "\n",
    "def get_price():\n",
    "    print(\"Please enter the price of the pizza: \")\n",
    "    price = input()\n",
    "    price_as_number = float(price)\n",
    "    return price_as_number\n",
    "\n",
    "def calculate_cpsi(size, price): #set two parameters\n",
    "    radius = size / 2 #use the size parameter\n",
    "    surface_area = PI*(radius*radius)\n",
    "    cpsi = price / surface_area #use the price parameter\n",
    "    print(f\"Cost Per square inch is: {cpsi}\")\n",
    "\n",
    "\n",
    "def main():\n",
    "    person = input(\"Enter your name: \")\n",
    "    welcome_message(person)\n",
    "    pizza_size = get_size()\n",
    "    pizza_price = get_price()\n",
    "    calculate_cpsi(pizza_size, pizza_price) #call the function pass two arguments in the right order\n",
    "    goodbye_message()\n",
    "\n",
    "main()"
   ]
  },
  {
   "cell_type": "markdown",
   "id": "f00249bb6af351a9",
   "metadata": {},
   "source": [
    "<div style=\"background-color: #F8F8F8; border: 4px solid #FFD54F; padding: 10px; border-radius: 5px;\">\n",
    "\n",
    "## Try it!\n",
    "\n",
    "Head on over to the Graded-Practice-Problems folder, Week-Three, and work on the **n-Sided-Die** program."
   ]
  }
 ],
 "metadata": {
  "kernelspec": {
   "display_name": "Python 3 (ipykernel)",
   "language": "python",
   "name": "python3"
  },
  "language_info": {
   "codemirror_mode": {
    "name": "ipython",
    "version": 3
   },
   "file_extension": ".py",
   "mimetype": "text/x-python",
   "name": "python",
   "nbconvert_exporter": "python",
   "pygments_lexer": "ipython3",
   "version": "3.12.5"
  }
 },
 "nbformat": 4,
 "nbformat_minor": 5
}
