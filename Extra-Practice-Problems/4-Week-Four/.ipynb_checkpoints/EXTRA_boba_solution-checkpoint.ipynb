{
 "cells": [
  {
   "cell_type": "markdown",
   "id": "deb686f3-ae2a-4d22-a8c8-644812a55186",
   "metadata": {},
   "source": [
    "# EXTRA practice problem: Boba Order Maker\n",
    "\n",
    "We are going to write a program that generates a Boba Tea order based off of two input values you provide it.\n",
    "\n",
    "## Instructions\n",
    "\n",
    "### show_order() function\n",
    "Write a function called `show_order()` that has three parameters for three values: tea_choice, topping_choice and milk_type. The function body code will be written assuming we have a string/text value passed in for each.\n",
    "\n",
    "Depending on the values passed in, the function will display output:\n",
    "\n",
    "if the value passed into the parameter 'milk_type' is \"regular\", the function should output:\n",
    "\n",
    "```txt\n",
    "Try this boba tea today: <tea_choice> tea with <topping_choice>.\n",
    "\n",
    "if the value passed into the parameter 'milk' is anything else, the function should output:\n",
    "\n",
    "Try this boba tea today: <tea_choice> tea with <topping_choice>, sub <milk_type> milk.\n",
    "```\n",
    "\n",
    "All outputs will sub in and output the actual text values passed to each parameter referred to by <tea_choice>, <topping_choice> and <milk_type>.\n",
    "\n",
    "### boba_maker() function\n",
    "\n"
   ]
  },
  {
   "cell_type": "code",
   "execution_count": null,
   "id": "8950f1d9-692e-4c0a-86d3-edce1ec2e9b2",
   "metadata": {},
   "outputs": [],
   "source": [
    "\n"
   ]
  },
  {
   "cell_type": "code",
   "execution_count": null,
   "id": "19cfdee0-b403-45b9-b0af-0a1847f0617e",
   "metadata": {},
   "outputs": [],
   "source": []
  },
  {
   "cell_type": "code",
   "execution_count": null,
   "id": "eb5cfd7a-b031-48cb-bf59-5ad6d1e4ca94",
   "metadata": {},
   "outputs": [],
   "source": []
  }
 ],
 "metadata": {
  "kernelspec": {
   "display_name": "Python 3 (ipykernel)",
   "language": "python",
   "name": "python3"
  },
  "language_info": {
   "codemirror_mode": {
    "name": "ipython",
    "version": 3
   },
   "file_extension": ".py",
   "mimetype": "text/x-python",
   "name": "python",
   "nbconvert_exporter": "python",
   "pygments_lexer": "ipython3",
   "version": "3.12.5"
  }
 },
 "nbformat": 4,
 "nbformat_minor": 5
}
