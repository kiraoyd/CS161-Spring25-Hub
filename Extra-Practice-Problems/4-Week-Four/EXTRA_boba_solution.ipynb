{
 "cells": [
  {
   "cell_type": "markdown",
   "id": "deb686f3-ae2a-4d22-a8c8-644812a55186",
   "metadata": {},
   "source": [
    "# EXTRA practice problem: Boba Order Maker\n",
    "\n",
    "We are going to write a program that generates a Boba Tea order based off of two input values you provide it.\n",
    "\n",
    "## Instructions\n",
    "\n",
    "### show_order() function\n",
    "Write a function called `show_order()` that has three parameters set: tea_choice, topping_choice and milk_type. The function body code will be written assuming we have a string/text value passed in for each.\n",
    "\n",
    "Depending on the values passed in, the function will display output:\n",
    "\n",
    "if the value passed into the parameter 'milk_type' is equal to \"regular\", the function should output:\n",
    "\n",
    "```txt\n",
    "Try this boba tea today: <tea_choice> tea with <topping_choice>.\n",
    "\n",
    "if the value passed into the parameter 'milk' is anything else, the function should output:\n",
    "\n",
    "Try this boba tea today: <tea_choice> tea with <topping_choice>, sub <milk_type> milk.\n",
    "```\n",
    "\n",
    "All outputs will sub in and output the actual text values passed to each parameter referred to by <tea_choice>, <topping_choice> and <milk_type>.\n",
    "\n",
    "### boba_maker() function\n",
    "\n",
    "Write a function called boba_maker() that has two parameters set: tea and non_dairy_milk. Both will expect string/text values to be passed in.\n",
    "\n",
    "Define two variables in this function: one to hold the topping type and one to hold the type of non-dairy milk. Both will hold string/text type values.\n",
    "\n",
    "Evaluate the values passed in for the parameters:\n",
    "\n",
    "if tea is equal to \"green\", roll a random 3-sided die. If the die roll is a 1, set the topping variable to hold \"lychee jelly\". If the die roll is a 2, set the topping variable to hold \"grass jelly\". If the die roll is a 3, set the topping variable to hold \"boba\".\n",
    "\n",
    "if tea is equal to \"black\", roll a random 3-sided die. If the die roll is a 1, set the topping variable to \"boba\". If the die roll is\n",
    "\n",
    "\n"
   ]
  },
  {
   "cell_type": "code",
   "execution_count": null,
   "id": "8950f1d9-692e-4c0a-86d3-edce1ec2e9b2",
   "metadata": {},
   "outputs": [],
   "source": [
    "\n"
   ]
  },
  {
   "cell_type": "code",
   "execution_count": null,
   "id": "19cfdee0-b403-45b9-b0af-0a1847f0617e",
   "metadata": {},
   "outputs": [],
   "source": []
  },
  {
   "cell_type": "code",
   "execution_count": null,
   "id": "eb5cfd7a-b031-48cb-bf59-5ad6d1e4ca94",
   "metadata": {},
   "outputs": [],
   "source": []
  }
 ],
 "metadata": {
  "kernelspec": {
   "display_name": "Python 3 (ipykernel)",
   "language": "python",
   "name": "python3"
  },
  "language_info": {
   "codemirror_mode": {
    "name": "ipython",
    "version": 3
   },
   "file_extension": ".py",
   "mimetype": "text/x-python",
   "name": "python",
   "nbconvert_exporter": "python",
   "pygments_lexer": "ipython3",
   "version": "3.12.5"
  }
 },
 "nbformat": 4,
 "nbformat_minor": 5
}
