{
 "cells": [
  {
   "metadata": {},
   "cell_type": "markdown",
   "source": "",
   "id": "1dcb0e77f693ec7c"
  },
  {
   "metadata": {},
   "cell_type": "markdown",
   "source": [
    "# EXTRA PRACTICE PROBLEM (NOT graded)\n",
    "# Pennies to Change\n",
    "![pennies in a jar](assets/Pennies.png)\n",
    "\n",
    "Imagine you're running a sweet shop. You spend everyday surrounded by jelly beans and cotton candy, what a life!\n",
    "\n",
    "Then some kid shows up and tries to pay for a snickers bar with a jar full of pennies. You know who's excited to count them one by one? Not you!\n",
    "\n",
    "You know what sounds even more (not) exciting? Converting that penny count into dollars and cents so you can confirm this kid actually gave you enough for the snickers bar.\n",
    "\n",
    "So let's write a program that will ease your pain. And let's give it a twist: you want to know the value of all those pennies in __least exact change__.\n",
    "\n"
   ],
   "id": "5ac1cd5140054d7"
  },
  {
   "metadata": {
    "ExecuteTime": {
     "end_time": "2025-04-10T15:44:12.901623Z",
     "start_time": "2025-04-10T15:44:12.889623Z"
    }
   },
   "cell_type": "code",
   "source": [
    "# Write code# 👇👇 Start writing your code for the Pizza Calculator Program below this line 👇👇\n",
    "\n",
    "\n",
    "\n",
    "\n",
    "# This is an EXTRA practice problem, nothing needs to be submitted"
   ],
   "id": "c5c6b6758f23dd82",
   "outputs": [
    {
     "name": "stdout",
     "output_type": "stream",
     "text": [
      "4\n"
     ]
    }
   ],
   "execution_count": 3
  },
  {
   "metadata": {},
   "cell_type": "markdown",
   "source": [
    "## Instructions\n",
    "\n",
    "Write a program that will calculate and display the value, in **least exact change**, of some positive whole number of pennies provided as **input** by the person using your program.\n",
    "\n",
    "__Least Exact Change (LEC)__: the combination of dollar bills, quarters, dimes, nickels, and pennies that makes up the total value with the least number of total coins and bills.\n",
    "\n",
    ">1 dollar is equal to 100 pennies\n",
    "\n",
    ">1 quarter is equal to 25 pennies\n",
    "\n",
    ">1 dime is equal to 10 pennies\n",
    "\n",
    ">1 nickel is equal to 5 pennies\n",
    "\n",
    "\n",
    "Example of LEC:\n",
    ">$1.51 in LEC would be 1 dollar bill, 2 quarters, and one penny (a total of 4 coins and bills)\n",
    ">Counting this value as 6 quarters and 1 penny would not count as LEC (as it would be a total of 7 coins and bills)\n",
    "\n",
    "\n",
    "### You will need these things:\n",
    "\n",
    "Taking the **floor** of a floating point number truncates the digits trailing after the decimal point:\n",
    "\n",
    ">3.6788 floored becomes 3\n",
    ">\n",
    ">3.1 floored becomes 3\n",
    ">\n",
    ">3.999 floored becomes 3\n",
    ">\n",
    ">0.765 floored becomes 0\n",
    ">\n",
    ">1.5 floored becomes 1\n",
    ">\n",
    ">2.8 floored becomes 2\n",
    ">\n",
    ">4.0 floored becomes 4\n",
    "\n",
    "Note: As you might notice from these examples, flooring is not the same as rounding to the nearest whole number\n",
    "\n",
    "Below is an example of how you take the **floor** of some number in Python code. Run it and examine the output. Then change the value being stored in the variable \"number\", run it again and examine the output."
   ],
   "id": "ec919d6f79c821cf"
  },
  {
   "metadata": {
    "ExecuteTime": {
     "end_time": "2025-04-10T15:49:49.353659Z",
     "start_time": "2025-04-10T15:49:49.336659Z"
    }
   },
   "cell_type": "code",
   "source": [
    "#The import line below goes at the top of your code file\n",
    "import math #get access to a library of tools called \"math\"\n",
    "\n",
    "number = 3.6788\n",
    "\n",
    "#use the tool called \"floor\" from the math library\n",
    "#provide it the number you want floored in between the ()\n",
    "#catch and save the result in a variable\n",
    "floored = math.floor(number)\n",
    "\n",
    "print(floored)"
   ],
   "id": "bb998a76548abbe1",
   "outputs": [
    {
     "name": "stdout",
     "output_type": "stream",
     "text": [
      "3\n"
     ]
    }
   ],
   "execution_count": 4
  },
  {
   "metadata": {},
   "cell_type": "markdown",
   "source": [
    "\n",
    "\n",
    "\n",
    "\n",
    "\n",
    "\n",
    "\n",
    "## EXAMPLE RUNS\n",
    "\n",
    "__Example #1__\n",
    "\n",
    "_Prompt and Input_\n",
    "```\n",
    "Please enter the number of pennies to convert: 231\n",
    "```\n",
    "_Program Output_\n",
    "```\n",
    "The value of your pennies in Least Exact Change is:\n",
    "\n",
    "2 dollar(s)\n",
    "\n",
    "1 quarter(s)\n",
    "\n",
    "0 dime(s)\n",
    "\n",
    "1 nickel(s)\n",
    "\n",
    "1 penny(s)\n",
    "```\n",
    "\n",
    "__Example #2__\n",
    "\n",
    "_Prompt and Input_\n",
    "```\n",
    "Please enter the number of pennies to convert: 22\n",
    "```\n",
    "_Program Output_\n",
    "```\n",
    "The value of your pennies in Least Exact Change is:\n",
    "\n",
    "0 dollar(s)\n",
    "\n",
    "0 quarter(s)\n",
    "\n",
    "2 dime(s)\n",
    "\n",
    "0 nickel(s)\n",
    "\n",
    "2 penny(s)\n",
    "```"
   ],
   "id": "7db6b1e776ec1caf"
  }
 ],
 "metadata": {
  "kernelspec": {
   "display_name": "Python 3",
   "language": "python",
   "name": "python3"
  },
  "language_info": {
   "codemirror_mode": {
    "name": "ipython",
    "version": 2
   },
   "file_extension": ".py",
   "mimetype": "text/x-python",
   "name": "python",
   "nbconvert_exporter": "python",
   "pygments_lexer": "ipython2",
   "version": "2.7.6"
  }
 },
 "nbformat": 4,
 "nbformat_minor": 5
}
