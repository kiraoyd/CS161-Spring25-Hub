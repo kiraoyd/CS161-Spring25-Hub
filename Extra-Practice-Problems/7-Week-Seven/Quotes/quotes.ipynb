{
 "cells": [
  {
   "cell_type": "markdown",
   "id": "ad80e6e3-c321-4af3-8751-5dbdc9170aeb",
   "metadata": {},
   "source": [
    "# Quotes\n",
    "\n",
    "## While-Loops - Writing a Main Program Menu that is repeatedly offered to the person using the program\n",
    "\n",
    "Write a **Main Program Menu** that allows the person using the program to choose one of 3 different quotes from your favorite TV-show/movie/game/book/media to be displayed, or choose to quit the program entirely by entering the terminating value of `0`. \n",
    "\n",
    "Handle a situation where the person enters an invalid numeric choice (for example, typing `99`)\n",
    "\n",
    "Utilize a while-loop so that after a selection is made and the code for that selection finishes running, the menu is re-offered again.\n",
    "\n",
    "The only time the menu should NOT be re-offered, is if the person chooses to Quit.\n",
    "\n",
    "# Instructions\n",
    "\n",
    "## Define a `main()` function. \n",
    "\n",
    "Don't forget to call `main()` below the definition!\n",
    "\n",
    "## Inside your `main()` function:\n",
    "\n",
    "### 1) Show the menu options\n",
    "\n",
    "Display an output message to the person using the program, that explains their choices.\n",
    "\n",
    "<div style=\"background-color: #F8F8F8; border: 4px solid #7633ff; padding: 10px; border-radius: 5px;\">\n",
    "    \n",
    "**Bonus: Can you write this as it's own user-defined function called `show_menu_options()`?**\n",
    "</div>\n",
    "\n",
    "### 2) Get the persons choice as input\n",
    "\n",
    "Store their choice as an integer value.\n",
    "\n",
    "<div style=\"background-color: #F8F8F8; border: 4px solid #7633ff; padding: 10px; border-radius: 5px;\">\n",
    "    \n",
    "**Bonus: Can you write this as it's own user-defined function called `get_choice()`?**\n",
    "\n",
    "</div>\n",
    "\n",
    "### 3) Evaluate their choice\n",
    "\n",
    "The integer values 1 through 3 should each cause a different quote to be displayed if the person enters one as input. After each quote is displayed, the menu should be re-offered so the person can choose again.\n",
    "\n",
    "Typing a `0` indicates the person wants to quit the entire program (the menu should NOT be re-offered). In this program, the `0` acts as the **terminating value** for the input-driven loop controlling the menu.\n",
    "\n",
    "If the person types in any other **integer** besides the ones above, this is an **invalid choice**. In this case, output a message that says: \"Sorry, that is not a valid menu choice.\" In this case, the menu should also be re-offered.\n",
    "\n",
    "<div style=\"background-color: #F8F8F8; border: 4px solid #7633ff; padding: 10px; border-radius: 5px;\">\n",
    "    \n",
    "**Bonus: Can you write this as it's own user-defined function called `choose_quote()`? If you do, how will you ensure this function is ONLY called if the person entered a valid number (and integer between 1 and 6?)**\n",
    "\n",
    "</div>\n",
    "\n",
    "### 4) Say goodbye\n",
    "\n",
    "**No matter what happens, the program should always end with the message: \"Goodbye!\"**\n",
    "\n",
    "\n",
    "\n"
   ]
  },
  {
   "cell_type": "code",
   "execution_count": null,
   "id": "3b99b06a-db8e-4614-a359-0f63380537bc",
   "metadata": {},
   "outputs": [],
   "source": [
    "# 👇👇 Start writing your code for the quotes program below this line 👇👇\n",
    "\n",
    "\n",
    "\n",
    "\n"
   ]
  }
 ],
 "metadata": {
  "kernelspec": {
   "display_name": "Python 3 (ipykernel)",
   "language": "python",
   "name": "python3"
  },
  "language_info": {
   "codemirror_mode": {
    "name": "ipython",
    "version": 3
   },
   "file_extension": ".py",
   "mimetype": "text/x-python",
   "name": "python",
   "nbconvert_exporter": "python",
   "pygments_lexer": "ipython3",
   "version": "3.12.5"
  }
 },
 "nbformat": 4,
 "nbformat_minor": 5
}
