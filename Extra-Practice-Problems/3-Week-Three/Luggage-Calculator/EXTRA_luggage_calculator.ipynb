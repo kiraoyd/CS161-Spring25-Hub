{
 "cells": [
  {
   "cell_type": "code",
   "execution_count": null,
   "id": "initial_id",
   "metadata": {
    "collapsed": true
   },
   "outputs": [],
   "source": [
    ""
   ]
  },
  {
   "metadata": {},
   "cell_type": "markdown",
   "source": [
    "# EXTRA PRACTICE PROBLEM (NOT graded)\n",
    "# Carry-on Luggage Volume Calculator\n",
    "\n",
    "## Instructions\n",
    "\n",
    "Read the code below:\n",
    "\n",
    "```python3\n",
    "\n",
    "print(\"What is your name?\")\n",
    "name = input()\n",
    "\n",
    "print(f\"Welcome to the luggage volume calculator program, {name}!\")\n",
    "\n",
    "print(\"Please enter the height for your luggage: \")\n",
    "height = float(input())\n",
    "\n",
    "print(\"Please enter the width for your luggage: \")\n",
    "width = float(input())\n",
    "\n",
    "print(\"Please enter the length for your luggage: \")\n",
    "length = float(input())\n",
    "\n",
    "volume = height * width * length\n",
    "\n",
    "print(f\"The total volume of your {height} x {width} x {length} luggage is: {volume}\")\n",
    "\n",
    "print(f\"Goodbye {name}!\")\n",
    "\n",
    "```\n",
    "\n",
    "Rewrite this code to abstract the following tasks into individual functions:\n",
    "\n",
    "1) Welcome the person to the program and greet them personally.\n",
    "2) Get the height of the luggage as input, return it and catch the value in `main()`.\n",
    "2) Get the width of the luggage, return it and catch the value in `main()`.\n",
    "4) Get the length of the luggage, return it and catch the value in `main()`.\n",
    "3) Using the width, length and height (send them in as arguments), calculate the overall luggage volume by multiplying all three together and return the result. Catch the value in `main()`.\n",
    "4) From main(), display the results for the overall luggage volume.\n",
    "4) Say goodbye to the person using the program."
   ],
   "id": "a4b2357865cc150c"
  },
  {
   "metadata": {
    "ExecuteTime": {
     "end_time": "2025-04-17T19:19:47.700820Z",
     "start_time": "2025-04-17T19:19:31.299690Z"
    }
   },
   "cell_type": "code",
   "source": [
    "#Write your abstracted luggage calculator code below\n",
    "\n",
    "#Write the welcome and personal greeting function: takes one argument\n",
    "\n",
    "#Write the get height function: returns one value\n",
    "\n",
    "#Write the get width function: returns one value\n",
    "\n",
    "#Write the get length function: returns one value\n",
    "\n",
    "#Write the volume calculation function: takes three arguments, returns one value\n",
    "\n",
    "#Write the goodbye function: takes one argument\n",
    "\n",
    "def main():\n",
    "    print(\"Hello!\")\n",
    "\n",
    "    #call all functions here, don't forget to catch and store any returning values!\n",
    "\n",
    "\n",
    "    #output the results of the volume calculation here in main\n",
    "\n",
    "\n",
    "main()\n"
   ],
   "id": "f231c3e741c8b106",
   "outputs": [
    {
     "name": "stdout",
     "output_type": "stream",
     "text": [
      "What is your name?\n",
      "Welcome to the luggage volume calculator program, Kira!\n",
      "Please enter the height for your luggage: \n",
      "Please enter the width for your luggage: \n",
      "Please enter the length for your luggage: \n",
      "The total volume of your 10.0 x 5.0 x 10.0 luggage is: 500.0\n",
      "Goodbye Kira!\n"
     ]
    }
   ],
   "execution_count": 1
  }
 ],
 "metadata": {
  "kernelspec": {
   "display_name": "Python 3",
   "language": "python",
   "name": "python3"
  },
  "language_info": {
   "codemirror_mode": {
    "name": "ipython",
    "version": 2
   },
   "file_extension": ".py",
   "mimetype": "text/x-python",
   "name": "python",
   "nbconvert_exporter": "python",
   "pygments_lexer": "ipython2",
   "version": "2.7.6"
  }
 },
 "nbformat": 4,
 "nbformat_minor": 5
}
