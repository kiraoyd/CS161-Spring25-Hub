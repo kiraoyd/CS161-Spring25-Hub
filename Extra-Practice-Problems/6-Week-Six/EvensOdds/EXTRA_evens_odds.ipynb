{
 "cells": [
  {
   "cell_type": "markdown",
   "id": "de54eea8-c644-41bb-9888-e5919a23740e",
   "metadata": {},
   "source": [
    "# Evens then Odds, Odds then Evens\n",
    "\n",
    "**Use a while-Loop to only display certain numbers**\n",
    "\n",
    "Write a function that takes one positive, integer-valued argument, called *n*. The function should determine if *n* is **even** or **odd**. Then, \n",
    "\n",
    "* If a number is even, display every **even** number from 0 to *n*, inclusive. Afterwards, display every **odd** number from 0 to *n*, inclusive. \n",
    "\n",
    "* If a number is odd, display every **odd** number from 0 to *n*, inclusive. Afterwards, display every **even** number from 0 to *n*, inclusive.\n",
    "\n",
    "# Instructions\n",
    "\n",
    "### 1) Write the **function definition header**\n",
    "\n",
    "Create two function: `evens_then_odds()` and `odds_then_evens()`.\n",
    "\n",
    "### 2) Write both **function body code**\n",
    "\n",
    "Both of the **function body** codes should use the value passed into the **parameter** to perform the job of the function. \n",
    "\n",
    "The functions should iterate over every number from 0 to *n*, inclusive using the rules defined above. \n",
    "\n",
    "The function should **NOT** return anything.\n",
    "\n",
    "### 3) Use the functions in main()\n",
    "\n",
    "Define a `main()` function. \n",
    "\n",
    "Prompt the user for some positive, integer-valued number. Store the user's **input** in some **variable**.\n",
    "\n",
    "Determine if the number is **even** or **odd**, then call the appropriate function. Only one function should be used for each value of *n*. \n",
    "\n",
    "### 4) Terminating message in main()\n",
    "\n",
    "Before the program terminates, display a message that says: \"Goodbye!\".\n",
    "\n"
   ]
  },
  {
   "cell_type": "code",
   "execution_count": null,
   "id": "525a2aa5-5ac2-4de3-8163-b36809d745b2",
   "metadata": {},
   "outputs": [],
   "source": [
    "# 👇👇 Start writing your code for the Evens then Odds program below this line 👇👇\n",
    "\n",
    "\n",
    "\n",
    "\n"
   ]
  }
 ],
 "metadata": {
  "kernelspec": {
   "display_name": "Python 3 (ipykernel)",
   "language": "python",
   "name": "python3"
  },
  "language_info": {
   "codemirror_mode": {
    "name": "ipython",
    "version": 3
   },
   "file_extension": ".py",
   "mimetype": "text/x-python",
   "name": "python",
   "nbconvert_exporter": "python",
   "pygments_lexer": "ipython3",
   "version": "3.12.5"
  }
 },
 "nbformat": 4,
 "nbformat_minor": 5
}
