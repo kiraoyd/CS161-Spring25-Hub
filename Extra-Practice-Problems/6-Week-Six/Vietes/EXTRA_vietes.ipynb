{
 "cells": [
  {
   "cell_type": "markdown",
   "id": "203b3b4c-fb4a-46e3-a59a-1289d10a9636",
   "metadata": {},
   "source": [
    "\n",
    "\n",
    "# CHALLENGE: Viete's Pi\n",
    "\n",
    "Viete's formula to approximate the value of Pi looks like this:\n",
    "\n",
    "![Viete's formula for Pi](../../../images/Vietes.png)\n",
    "\n",
    "The pattern begins with the square root of 2, divided by 2. Each iteration that is multiplied to get the final product changes in a predictable way. The more iterations that get multiplied, the better the approximation of Pi that results.\n",
    "\n",
    "Note: Notice that the final product must be divided by 2 in order to isolate the value of Pi.\n",
    "\n",
    "## Your Task\n",
    "Write a function that calculates Viete's Pi for you. Call it `viete`, and have it take **one argument**: a value for **n** representing the number of factors in Viete's Pi your function will calculate up to. The number of factors in the picture above is 3. The function should **return** the final approximated value for Pi.\n",
    "\n",
    "You will need to use a **while-loop**. Don't get too hung up on the math, and instead focus on finding the pattern in the way each factor changes. You probably won't need more than 15 lines of code...\n",
    "\n",
    "Allow the person using the program to give as input the number of factors your program will calculate.  Gather the value for **n** as input in `main()`. Call the fibonacci function from `main()`, catch and output the returning value for the approximate value of Pi  from `main()`.\n",
    "\n",
    "## Getting the Square root\n",
    "\n",
    "Python has a built in function that returns the square root of the value you give it:\n",
    "\n",
    "```python3\n",
    "import math\n",
    "result = math.sqrt(16)\n",
    "print (result)\n",
    "```\n",
    "\n",
    "`result` here will hold the value `4`.\n",
    "\n",
    "### Test Cases\n",
    "\n",
    "| Input | Output |\n",
    "|---------|----------|\n",
    "| 1 | 2.828427...  |\n",
    "| 3 | 3.121445...  |\n",
    "| 5 | 3.140331...  |\n",
    "| 8 | 3.141572...  |\n",
    "| 20 | 3.1415926535886...  |\n",
    "| 50 | 3.1415926535897...  |\n",
    "\n",
    "\n",
    "\n",
    "\n",
    "{Run your code | terminal}(python3 main.py)\n",
    "\n",
    "To run your code, click the blue `RUN YOUR CODE` button above.\n",
    "\n",
    "OR\n",
    "\n",
    "If you want to run it directly from the command like, type `python3 main.py` directly into the terminal window.\n",
    "\n",
    "\n"
   ]
  },
  {
   "cell_type": "code",
   "execution_count": null,
   "id": "09de27ec-efc2-4fef-ba2f-6a4568e787eb",
   "metadata": {},
   "outputs": [],
   "source": [
    "# 👇👇 Start writing your code for the Vietes Pi program below this line 👇👇\n"
   ]
  }
 ],
 "metadata": {
  "kernelspec": {
   "display_name": "Python 3 (ipykernel)",
   "language": "python",
   "name": "python3"
  },
  "language_info": {
   "codemirror_mode": {
    "name": "ipython",
    "version": 3
   },
   "file_extension": ".py",
   "mimetype": "text/x-python",
   "name": "python",
   "nbconvert_exporter": "python",
   "pygments_lexer": "ipython3",
   "version": "3.12.5"
  }
 },
 "nbformat": 4,
 "nbformat_minor": 5
}
