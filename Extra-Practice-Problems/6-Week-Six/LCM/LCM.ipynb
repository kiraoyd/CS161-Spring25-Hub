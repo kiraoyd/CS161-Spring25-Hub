{
 "cells": [
  {
   "cell_type": "markdown",
   "id": "43fe7116-c5a6-4684-9bc5-dd4df9094bf1",
   "metadata": {},
   "source": [
    "# Least Common Multiple of m and n\n",
    "\n",
    "The least common multiple (LCM) of two numbers, *m* and *n*, is the smallest positive integer that is divisible by both m and n. In other words, it's the smallest shared multiple of the two numbers.\n",
    "\n",
    "You will be writing a program that finds the integer that is the lowest common multiple (LCM) of two integers *m* and *n*.\n",
    "\n",
    "# Instructions\n",
    "\n",
    "### 1) Write the **function definition header and code**\n",
    "\n",
    "`multiple_of_n(n, value)`\n",
    "This function should take in two parameters *n* and *value*. In the function, you should be checking if *value* is a multiple of *n*. \n",
    "\n",
    "Return `True` if *value* is a multiple of *n* and `False` if otherwise.\n",
    "\n",
    "`multiple_of_m(m, value)`\n",
    "This function should take in two parameters *m* and *value*. In the function, you should be checking if *value* is a multiple of *m*. \n",
    "\n",
    "Return `True` if *value* is a multiple of *m* and `False` if otherwise.\n",
    "\n",
    "\n",
    "### 3) Write the code for main\n",
    "\n",
    "Define a `main()` function. \n",
    "\n",
    "Prompt the user for two positive, integer-valued numbers. Store the user's **inputs** in **two variables *m* and *n***.\n",
    "\n",
    "Find the LCM of m and n using the functions you wrote earlier.\n",
    "\n",
    "Print the value of the LCM to the terminal once found.\n",
    "`The LCM of {m} and {n} is {LCM}`\n",
    "\n",
    "### Test Cases\n",
    "\n",
    "| Input for m | Input for n | Output |\n",
    "|---------|----------|----------|\n",
    "| 2 | 3 | 6 |\n",
    "| 4 | 6  | 12 |\n",
    "| 5 | 10  | 10 |\n",
    "| 10 | 5  | 10 |\n",
    "| 7 | 7  |7  |\n",
    "| 11 | 13 | 143  |\n",
    "\n"
   ]
  },
  {
   "cell_type": "code",
   "execution_count": null,
   "id": "698f7da9-7349-401f-9fc5-00221eebcce4",
   "metadata": {},
   "outputs": [],
   "source": [
    "# 👇👇 Start writing your code for the LCM program below this line 👇👇\n"
   ]
  }
 ],
 "metadata": {
  "kernelspec": {
   "display_name": "Python 3 (ipykernel)",
   "language": "python",
   "name": "python3"
  },
  "language_info": {
   "codemirror_mode": {
    "name": "ipython",
    "version": 3
   },
   "file_extension": ".py",
   "mimetype": "text/x-python",
   "name": "python",
   "nbconvert_exporter": "python",
   "pygments_lexer": "ipython3",
   "version": "3.12.5"
  }
 },
 "nbformat": 4,
 "nbformat_minor": 5
}
