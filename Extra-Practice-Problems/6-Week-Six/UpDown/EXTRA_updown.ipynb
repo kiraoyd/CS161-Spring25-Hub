{
 "cells": [
  {
   "cell_type": "markdown",
   "id": "fc2752ad-078b-4ca6-9346-e66203ed84ba",
   "metadata": {},
   "source": [
    "# Ascending Evens, Descending Odds (UpDown)\n",
    "\n",
    "Write a function that takes one positive, integer-valued argument, called *n*. The function should determine if *n* is **even** or **odd**. Then, \n",
    "\n",
    "* If a number is even, display every number from 0 to *n*, inclusive, in **ascending order**.  \n",
    "\n",
    "* If a number is odd, display every number from 0 to *n*, inclusive, in **descending order**.\n",
    "\n",
    "# Instructions\n",
    "\n",
    "### 1) Write the **function definition header**\n",
    "\n",
    "Create two function: `ascending_evens()` and `descending_odds()`.\n",
    "\n",
    "### 2) Write both **function body code**\n",
    "Both of the **function body** codes should use the value passed into the **parameter** to perform the job of the function. \n",
    "\n",
    "Both functions should iterate over every number from 0 to *n*, inclusive using the rules defined above. \n",
    "\n",
    "The functions should **NOT** return anything.\n",
    "\n",
    "### 3) Use the function in main()\n",
    "\n",
    "Define a `main()` function. \n",
    "\n",
    "Prompt the user for some positive, integer-valued number. Store the user's **input** in some **variable**.\n",
    "\n",
    "Determine if the number is **even** or **odd**, then call the appropriate function. Only one function should be used for each value of *n*. \n",
    "\n",
    "### 4) Terminating message in main()\n",
    "\n",
    "Before the program terminates, display a message that says: \"Goodbye!\".\n",
    "\n"
   ]
  },
  {
   "cell_type": "code",
   "execution_count": null,
   "id": "3321d748-2f0a-4ade-8988-68cf872e6d03",
   "metadata": {},
   "outputs": [],
   "source": [
    "# 👇👇 Start writing your code for the Ascending Evens, Descending Odds program below this line 👇👇\n"
   ]
  }
 ],
 "metadata": {
  "kernelspec": {
   "display_name": "Python 3 (ipykernel)",
   "language": "python",
   "name": "python3"
  },
  "language_info": {
   "codemirror_mode": {
    "name": "ipython",
    "version": 3
   },
   "file_extension": ".py",
   "mimetype": "text/x-python",
   "name": "python",
   "nbconvert_exporter": "python",
   "pygments_lexer": "ipython3",
   "version": "3.12.5"
  }
 },
 "nbformat": 4,
 "nbformat_minor": 5
}
